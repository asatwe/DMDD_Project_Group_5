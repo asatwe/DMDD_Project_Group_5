{
    "metadata": {
        "kernelspec": {
            "name": "SQL",
            "display_name": "SQL",
            "language": "sql"
        },
        "language_info": {
            "name": "sql",
            "version": ""
        }
    },
    "nbformat_minor": 2,
    "nbformat": 4,
    "cells": [
        {
            "cell_type": "code",
            "source": [
                "-- Check if the database 'TaxiManagementSystem' exists\n",
                "USE [sample];\n",
                "GO\n",
                ""
            ],
            "metadata": {
                "language": "sql",
                "azdata_cell_guid": "d0d7c4de-65d6-498c-b30b-7ba13cdb4b92",
                "tags": [
                    "hide_input"
                ]
            },
            "outputs": [],
            "execution_count": null
        },
        {
            "cell_type": "code",
            "source": [
                "-- IF EXISTS (SELECT name FROM sys.databases WHERE name = N'TaxiManagementSystem')\n",
                "-- BEGIN\n",
                "--     -- Drop (delete) the database 'TaxiManagementSystem' if it exists\n",
                "--     DROP DATABASE TaxiManagementSystem;\n",
                "-- END\n",
                "-- GO\n",
                "\n",
                "--  use master go\n",
                " alter database TaxiManagementSystem set single_user with rollback immediate\n",
                "\n",
                " drop database [TaxiManagementSystem]"
            ],
            "metadata": {
                "azdata_cell_guid": "86a73dcd-b240-42e9-9481-f31ecee1b14d",
                "language": "sql",
                "tags": [
                    "hide_input"
                ]
            },
            "outputs": [],
            "execution_count": null
        },
        {
            "cell_type": "code",
            "source": [
                "-- Create a new database named 'TaxiManagementSystem'\n",
                "CREATE DATABASE TaxiManagementSystem;\n",
                "GO"
            ],
            "metadata": {
                "azdata_cell_guid": "4c3de291-8d76-4f57-aaf6-8f0eee72e6a9",
                "language": "sql",
                "tags": [
                    "hide_input"
                ]
            },
            "outputs": [],
            "execution_count": null
        },
        {
            "cell_type": "code",
            "source": [
                "-- Switch to the 'TaxiManagementSystem' database\n",
                "USE TaxiManagementSystem;\n",
                "GO"
            ],
            "metadata": {
                "language": "sql",
                "azdata_cell_guid": "9ced1628-16cd-4d01-8808-6b23f8f6fedc",
                "tags": [
                    "hide_input"
                ]
            },
            "outputs": [],
            "execution_count": null
        },
        {
            "cell_type": "code",
            "source": [
                "-- Switch to the 'sample' database\n",
                ""
            ],
            "metadata": {
                "language": "sql",
                "azdata_cell_guid": "c8e611a0-d095-430f-8e90-5d5f1e917d38",
                "tags": [
                    "hide_input"
                ]
            },
            "outputs": [],
            "execution_count": null
        },
        {
            "cell_type": "code",
            "source": [
                "-- Drop table statements\n",
                "\n",
                "-- ServiceRequest Table\n",
                "DROP TABLE IF EXISTS ServiceRequest;\n",
                "GO\n",
                "\n",
                "-- RideRequest Table\n",
                "DROP TABLE IF EXISTS RideRequest;\n",
                "GO\n",
                "\n",
                "-- Trip Estimate Table\n",
                "DROP TABLE IF EXISTS TripEstimate;\n",
                "GO\n",
                "\n",
                "-- Feedback Table\n",
                "DROP TABLE IF EXISTS Feedback;\n",
                "GO\n",
                "\n",
                "-- Driver Table\n",
                "DROP TABLE IF EXISTS Driver;\n",
                "GO\n",
                "\n",
                "-- Customer Table\n",
                "DROP TABLE IF EXISTS Customer;\n",
                "GO\n",
                "\n",
                "-- User Table\n",
                "DROP TABLE IF EXISTS [User];\n",
                "GO\n",
                "\n",
                "-- InsuranceLogs Table\n",
                "DROP TABLE IF EXISTS InsuranceLogs;\n",
                "GO\n",
                "\n",
                "-- Vehicle Table\n",
                "DROP TABLE IF EXISTS Vehicle;\n",
                "GO\n",
                "\n",
                "-- Insurance Table\n",
                "DROP TABLE IF EXISTS Insurance;\n",
                "GO\n",
                "\n",
                "-- Service Table\n",
                "DROP TABLE IF EXISTS Service;\n",
                "GO"
            ],
            "metadata": {
                "language": "sql",
                "azdata_cell_guid": "73d42d89-9683-4548-ad00-6c17a49b6696",
                "tags": [
                    "hide_input"
                ]
            },
            "outputs": [],
            "execution_count": null
        },
        {
            "cell_type": "code",
            "source": [
                "-- Service Table\n",
                "CREATE TABLE Service (\n",
                "    ServiceId INT PRIMARY KEY,          -- Unique identifier for each service\n",
                "    ServiceCompanyName VARCHAR(50),     -- Name of the company providing the service\n",
                "    ServiceName VARCHAR(50),            -- Name of the service\n",
                "    ServiceDetails VARCHAR(255)         -- Additional details or description of the service\n",
                ");\n",
                "GO"
            ],
            "metadata": {
                "language": "sql",
                "azdata_cell_guid": "b742c88c-d5e2-4d66-894b-4dd94b6fd9e2",
                "tags": [
                    "hide_input"
                ]
            },
            "outputs": [],
            "execution_count": null
        },
        {
            "cell_type": "code",
            "source": [
                "-- Insurance Table\n",
                "CREATE TABLE Insurance (\n",
                "    InsuranceId INT PRIMARY KEY,            -- Unique identifier for each insurance record\n",
                "    InsuranceProvider VARCHAR(50),          -- Name of the insurance provider\n",
                "    InsuranceCoverage VARCHAR(255),         -- Details of insurance coverage\n",
                "    InsurancePremium DECIMAL(10, 2),        -- Cost of the insurance premium (monetary value with two decimal places)\n",
                "    InsuranceDeductible DECIMAL(10, 2)      -- Deductible amount for the insurance (monetary value with two decimal places)\n",
                ");\n",
                "GO"
            ],
            "metadata": {
                "language": "sql",
                "azdata_cell_guid": "231b7d24-ab47-4bce-9969-eb0e9bf01b36",
                "tags": [
                    "hide_input"
                ]
            },
            "outputs": [],
            "execution_count": null
        },
        {
            "cell_type": "code",
            "source": [
                "-- Vehicle Table\n",
                "CREATE TABLE Vehicle (\n",
                "    VehicleId INT PRIMARY KEY,                                         -- Unique identifier for each vehicle\n",
                "    VehicleType VARCHAR(50),                                           -- Type or model of the vehicle\n",
                "    ServiceInfo VARCHAR(255),                                          -- Information about the vehicle's service history\n",
                "    InsuranceInfo CHAR(1) CHECK (InsuranceInfo IN ('Y', 'N'))       -- Check constraint for InsuranceInfo (Y for present, N for not present)\n",
                ");\n",
                "GO"
            ],
            "metadata": {
                "language": "sql",
                "azdata_cell_guid": "58adcf82-58a8-418a-a58c-3813faac6945",
                "tags": [
                    "hide_input"
                ]
            },
            "outputs": [],
            "execution_count": null
        },
        {
            "cell_type": "code",
            "source": [
                "-- User Table\n",
                "CREATE TABLE [User] (\n",
                "    UserID INT PRIMARY KEY,                                         -- Unique identifier for each user\n",
                "    UserFName VARCHAR(50) NOT NULL,                                 -- User's first name\n",
                "    UserLName VARCHAR(50) NOT NULL,                                 -- User's last name\n",
                "    PhoneNumber VARCHAR(15) NOT NULL,                               -- User's phone number\n",
                "    EmailId VARCHAR(255) NOT NULL,                                  -- User's email address\n",
                "    DOB DATE,                                                       -- User's date of birth\n",
                "    BankAccInfo VARCHAR(255) NOT NULL,                              -- User's bank account information\n",
                "    UserType CHAR(1) NOT NULL CHECK (UserType IN ('D', 'C')),       -- Type of user (D for driver, C for customer)\n",
                ");\n",
                "GO"
            ],
            "metadata": {
                "language": "sql",
                "azdata_cell_guid": "5f4b89d8-454c-4c07-a70a-32bf1c1a0148",
                "tags": [
                    "hide_input"
                ]
            },
            "outputs": [],
            "execution_count": null
        },
        {
            "cell_type": "code",
            "source": [
                "-- Customer Table\n",
                "-- This table stores information about customers who use the service.\n",
                "CREATE TABLE Customer (\n",
                "    CustomerID INT PRIMARY KEY,                             -- Unique identifier for each customer\n",
                "    UserID INT FOREIGN KEY REFERENCES [User](UserID),       -- Foreign key referencing the User table to link with user information\n",
                "    EncryptedPaymentInfo VARBINARY(MAX)                    -- Encrypted payment information for the customer\n",
                ");\n",
                "GO"
            ],
            "metadata": {
                "language": "sql",
                "azdata_cell_guid": "6193b2c1-7817-45ac-86ce-94006126c160",
                "tags": [
                    "hide_input"
                ]
            },
            "outputs": [],
            "execution_count": null
        },
        {
            "cell_type": "code",
            "source": [
                "-- Driver Table\n",
                "-- This table stores information about drivers who provide services using vehicles.\n",
                "\n",
                "CREATE TABLE Driver (\n",
                "    DriverID INT PRIMARY KEY NOT NULL,                               -- Unique identifier for each driver\n",
                "    UserID INT FOREIGN KEY REFERENCES [User](UserID),                -- Foreign key referencing the User table to link with user information\n",
                "    VehicleID INT FOREIGN KEY REFERENCES Vehicle(VehicleID),         -- Foreign key referencing the Vehicle table to link with vehicle information\n",
                "    LicenseInfo VARCHAR(255) NOT NULL,                               -- Driver's license information\n",
                ");\n",
                "GO"
            ],
            "metadata": {
                "language": "sql",
                "azdata_cell_guid": "6b0ceb59-f890-48c5-9e4e-367c9e06fffb",
                "tags": [
                    "hide_input"
                ]
            },
            "outputs": [],
            "execution_count": null
        },
        {
            "cell_type": "code",
            "source": [
                "-- Feedback Table\n",
                "CREATE TABLE Feedback (\n",
                "    FeedbackID INT PRIMARY KEY NOT NULL,                            -- Unique identifier for each feedback record\n",
                "    CustomerID INT FOREIGN KEY REFERENCES Customer(CustomerId),     -- Foreign key referencing Customer table\n",
                "    DriverID INT FOREIGN KEY REFERENCES Driver(DriverID),           -- Foreign key referencing Driver table\n",
                "    Message VARCHAR(1000) NOT NULL,                                   -- Feedback message\n",
                "    Rating Float CHECK(Rating BETWEEN 0.0 AND 5.0) DEFAULT 0.0      -- Rating with a check constraint and default value\n",
                ");\n",
                "GO"
            ],
            "metadata": {
                "language": "sql",
                "azdata_cell_guid": "fb2e1229-e57a-4f47-9305-205c5474ffac",
                "tags": [
                    "hide_input"
                ]
            },
            "outputs": [],
            "execution_count": null
        },
        {
            "cell_type": "code",
            "source": [
                "-- Trip Estimate Table\n",
                "CREATE TABLE TripEstimate (\n",
                "    EstimationId INT PRIMARY KEY NOT NULL,                          -- Unique identifier for each trip estimate\n",
                "    VehicleID INT FOREIGN KEY REFERENCES Vehicle(VehicleID),        -- Foreign key referencing Vehicle table\n",
                "    CurrentTime DATETIME NOT NULL,                                  -- Timestamp of the trip estimate\n",
                "    Cost DECIMAL(10, 2) NOT NULL                                    -- Estimated cost of the trip\n",
                ");\n",
                "GO"
            ],
            "metadata": {
                "language": "sql",
                "azdata_cell_guid": "0d732e1c-7f15-4d4b-b703-11ffa46b73ea",
                "tags": [
                    "hide_input"
                ]
            },
            "outputs": [],
            "execution_count": null
        },
        {
            "cell_type": "code",
            "source": [
                "-- RideRequest Table\n",
                "CREATE TABLE RideRequest (\n",
                "    RequestId INT PRIMARY KEY NOT NULL,                                                 -- Unique identifier for each ride request\n",
                "    EstimationID INT FOREIGN KEY REFERENCES TripEstimate(EstimationId),                 -- Foreign key referencing TripEstimate table\n",
                "    VehicleID INT FOREIGN KEY REFERENCES Vehicle(VehicleID),                            -- Foreign key referencing Vehicle table\n",
                "    DriverID INT FOREIGN KEY REFERENCES Driver(DriverID),                               -- Foreign key referencing Driver table\n",
                "    CustomerID INT FOREIGN KEY REFERENCES Customer(CustomerID),                         -- Foreign key referencing Customer table\n",
                "    RequestType VARCHAR(50) NOT NULL,                                                   -- Type of the ride request\n",
                "    ReqDateTime DATETIME NOT NULL,                                                      -- Timestamp of the ride request\n",
                "    PickUpLocationLatitude DECIMAL(10, 6) NOT NULL,                                     -- Latitude of the pickup location\n",
                "    PickUpLocationLongitude DECIMAL(10, 6) NOT NULL,                                    -- Longitude of the pickup location\n",
                "    DestinationLocationLatitude DECIMAL(10, 6) NOT NULL,                                -- Latitude of the destination location\n",
                "    DestinationLocationLongitude DECIMAL(10, 6) NOT NULL,                               -- Longitude of the destination location\n",
                "    TripType VARCHAR(50) NOT NULL CHECK (TripType IN ('City Cab', 'Out Station Cab')),  -- Type of the trip\n",
                "    TripCompletionFlag BIT NOT NULL,                                                    -- Flag indicating trip completion status\n",
                "    PickUpLocation VARCHAR(50) NOT NULL,                                                -- Textual description of the pickup location\n",
                "    DestinationLocation VARCHAR(50) NOT NULL                                            -- Textual description of the destination location\n",
                ");\n",
                "GO"
            ],
            "metadata": {
                "language": "sql",
                "azdata_cell_guid": "a43d29c2-ba92-4a25-8463-99c195492ff3",
                "tags": [
                    "hide_input"
                ]
            },
            "outputs": [],
            "execution_count": null
        },
        {
            "cell_type": "code",
            "source": [
                "-- ServiceRequest Table\n",
                "CREATE TABLE ServiceRequest (\n",
                "    SerReqId INT PRIMARY KEY NOT NULL,                             -- Unique identifier for each service request\n",
                "    VehicleId INT FOREIGN KEY REFERENCES Vehicle(VehicleID),       -- Foreign key referencing Vehicle table\n",
                "    ServiceId INT FOREIGN KEY REFERENCES Service(ServiceID),       -- Foreign key referencing Service table\n",
                "    ReqDateTime DATETIME NOT NULL,                                 -- Timestamp of the service request\n",
                "    ServiceDueDate DATE NOT NULL,                                  -- Due date for the requested service\n",
                "    PreviousServiceDate DATE NOT NULL                              -- Date of the previous service for the vehicle\n",
                ");\n",
                "GO"
            ],
            "metadata": {
                "language": "sql",
                "azdata_cell_guid": "ada84465-eb53-4567-9fbd-7f1e03e72839",
                "tags": [
                    "hide_input"
                ]
            },
            "outputs": [],
            "execution_count": null
        },
        {
            "cell_type": "code",
            "source": [
                "-- InsuranceLogs Table\n",
                "CREATE TABLE InsuranceLogs (\n",
                "    VehicleID INT FOREIGN KEY REFERENCES Vehicle(VehicleID),            -- Foreign key referencing Vehicle table\n",
                "    InsuranceId INT FOREIGN KEY REFERENCES Insurance(InsuranceId),      -- Foreign key referencing Insurance table\n",
                "    InsuranceStartDate DATE NOT NULL,                                   -- Start date of the insurance coverage\n",
                "    InsuranceEndDate DATE NOT NULL                                      -- End date of the insurance coverage\n",
                ");\n",
                "GO"
            ],
            "metadata": {
                "language": "sql",
                "azdata_cell_guid": "8f9a6c87-6410-468b-a7e7-dec4b77866e8",
                "tags": [
                    "hide_input"
                ]
            },
            "outputs": [],
            "execution_count": null
        },
        {
            "cell_type": "code",
            "source": [
                "-- Create an AFTER INSERT Trigger (Details to be specified based on use case)\n",
                "-- This trigger will be executed automatically after an INSERT operation on a specific table.\n",
                "-- It can be customized to perform specific actions or validations.\n",
                "-- GO is used to terminate the batch and execute the statements.\n",
                "\n",
                "-- Example Trigger Structure:\n",
                "-- CREATE TRIGGER [TriggerName]\n",
                "-- ON [TableName]\n",
                "-- AFTER INSERT\n",
                "-- AS\n",
                "-- BEGIN\n",
                "--     -- Trigger Logic Here\n",
                "-- END;\n",
                "-- GO"
            ],
            "metadata": {
                "language": "sql",
                "azdata_cell_guid": "70082e9f-55ee-4102-8f58-58d448d1e297",
                "tags": [
                    "hide_input"
                ]
            },
            "outputs": [],
            "execution_count": null
        },
        {
            "cell_type": "code",
            "source": [
                "-- Indexes\n",
                "-- Create an index on RideRequest table for faster retrieval of records based on CustomerID\n",
                "CREATE INDEX idx_CustomerID ON RideRequest(CustomerID);\n",
                "\n",
                "-- Create an index on RideRequest table for faster retrieval of records based on DriverID\n",
                "CREATE INDEX idx_DriverID ON RideRequest(DriverID);\n",
                "\n",
                "-- Create an index on Feedback table for faster retrieval of records based on DriverID\n",
                "CREATE INDEX idx_DriverID_Feedback ON Feedback(DriverID);\n",
                "\n",
                "-- Create an index on ServiceRequest table for faster retrieval of records based on VehicleID\n",
                "CREATE INDEX idx_VehicleID_ServiceRequest ON ServiceRequest(VehicleID);\n",
                "\n",
                "-- Create an index on InsuranceLogs table for faster retrieval of records based on InsuranceId\n",
                "CREATE INDEX idx_InsuranceId_InsuranceLogs ON InsuranceLogs(InsuranceId);"
            ],
            "metadata": {
                "language": "sql",
                "azdata_cell_guid": "7d3f280e-381e-49fe-8680-b4afb2d0e0a9",
                "tags": [
                    "hide_input"
                ]
            },
            "outputs": [],
            "execution_count": null
        },
        {
            "cell_type": "code",
            "source": [
                "-- Create a Master Key for Encryption\n",
                "CREATE MASTER KEY ENCRYPTION BY PASSWORD = 'AmeySatwe23';\n",
                "\n",
                "-- Create a Certificate to Protect the Master Key\n",
                "CREATE CERTIFICATE MyCertificate\n",
                "   WITH SUBJECT = 'My Column Encryption Certificate';\n",
                "\n",
                "-- Create a Symmetric Key for Column Encryption\n",
                "CREATE SYMMETRIC KEY MySymmetricKey\n",
                "   WITH ALGORITHM = AES_256\n",
                "   ENCRYPTION BY CERTIFICATE MyCertificate;\n",
                "GO"
            ],
            "metadata": {
                "language": "sql",
                "azdata_cell_guid": "3e1711bc-f096-475e-8726-b5afa207095b",
                "tags": [
                    "hide_input"
                ]
            },
            "outputs": [],
            "execution_count": null
        },
        {
            "cell_type": "code",
            "source": [
                "CREATE TRIGGER EncryptPaymentInfo\n",
                "ON Customer\n",
                "AFTER INSERT\n",
                "AS\n",
                "BEGIN\n",
                "    OPEN SYMMETRIC KEY MySymmetricKey DECRYPTION BY CERTIFICATE MyCertificate;\n",
                "\n",
                "    UPDATE Customer\n",
                "    SET EncryptedPaymentInfo = ENCRYPTBYKEY(KEY_GUID('MySymmetricKey'), i.EncryptedPaymentInfo)\n",
                "    FROM Customer c\n",
                "    INNER JOIN inserted i ON c.CustomerID = i.CustomerID;\n",
                "\n",
                "    CLOSE SYMMETRIC KEY MySymmetricKey;\n",
                "END;"
            ],
            "metadata": {
                "azdata_cell_guid": "0ad48ed8-335e-4dfc-86a7-dba6dae0c856",
                "language": "sql",
                "tags": [
                    "hide_input"
                ]
            },
            "outputs": [],
            "execution_count": null
        },
        {
            "cell_type": "code",
            "source": [
                "-- Stored procedure GetDriverStatistics\n",
                "-- The stored procedure is used to retrieve statistics for a specific driver\n",
                "CREATE PROCEDURE GetDriverStatistics\n",
                "    @DriverId INT\n",
                "AS\n",
                "BEGIN\n",
                "    -- Selecting driver details, total trips, average feedback, and latest trip details\n",
                "    SELECT \n",
                "        D.DriverID,                                             -- Driver's unique identifier\n",
                "        U.UserFName + ' ' + U.UserLName AS DriverName,          -- Concatenating first and last name for a complete name\n",
                "        COUNT(RR.RequestId) AS TotalTrips,                      -- Count of total trips made by the driver\n",
                "        AVG(F.Rating) AS AverageFeedbackRating,                 -- Average feedback rating received by the driver (commenting out for now)\n",
                "        MAX(RR.ReqDateTime) AS LatestTripDateTime,              -- Date and time of the latest trip made by the driver\n",
                "        MAX(RR.DestinationLocation) AS LatestTripDestination    -- Destination of the latest trip made by the driver\n",
                "    FROM Driver D\n",
                "        -- Joining with the User table to get driver's name\n",
                "        JOIN [User] U ON D.UserID = U.UserID\n",
                "        -- Left joining with RideRequest to include drivers with no trips\n",
                "        LEFT JOIN RideRequest RR ON D.DriverID = RR.DriverID\n",
                "        -- Left joining with Feedback to include drivers with no feedback\n",
                "        LEFT JOIN Feedback F ON D.DriverID = F.DriverID\n",
                "    WHERE D.DriverID = @DriverId\n",
                "    -- Grouping results by driver for aggregate functions\n",
                "    GROUP BY D.DriverID, U.UserFName, U.UserLName;\n",
                "END;"
            ],
            "metadata": {
                "language": "sql",
                "azdata_cell_guid": "593671ed-0b13-4f45-9a3a-2502837b3a01",
                "tags": [
                    "hide_input"
                ]
            },
            "outputs": [],
            "execution_count": null
        },
        {
            "cell_type": "code",
            "source": [
                "-- Execute the GetDriverStatistics stored procedure to retrieve statistics for a specific driver with DriverID = 1\n",
                "EXEC GetDriverStatistics 1;"
            ],
            "metadata": {
                "language": "sql",
                "azdata_cell_guid": "f60bf8d0-7443-4bea-83e9-34df2d488db8",
                "tags": [
                    "hide_input"
                ]
            },
            "outputs": [],
            "execution_count": null
        },
        {
            "cell_type": "code",
            "source": [
                "-- Stored procedure GetUpcomingServiceRequests\n",
                "-- The stored procedure is used to retrieve upcoming service requests\n",
                "CREATE PROCEDURE GetUpcomingServiceRequests\n",
                "AS\n",
                "BEGIN\n",
                "    -- Selecting details for upcoming service requests\n",
                "    SELECT \n",
                "        SR.SerReqId,                                        -- Unique identifier for the service request\n",
                "        V.VehicleType,                                      -- Type or model of the vehicle\n",
                "        U.UserFName + ' ' + U.UserLName AS CustomerName,    -- Concatenating first and last name for a complete customer name\n",
                "        SR.ReqDateTime AS RequestDateTime,                  -- Date and time when the service request was made\n",
                "        SR.ServiceDueDate AS DueDate,                       -- Due date for the upcoming service\n",
                "        SR.PreviousServiceDate AS LastServiceDate           -- Date of the previous service for the vehicle\n",
                "    FROM ServiceRequest SR\n",
                "        -- Joining with Vehicle table to get vehicle details\n",
                "        JOIN Vehicle V ON SR.VehicleId = V.VehicleId\n",
                "        -- Joining with User table to get customer details\n",
                "        JOIN [User] U ON V.VehicleId = U.UserID\n",
                "    -- Filtering only upcoming service requests    \n",
                "    WHERE SR.ServiceDueDate > GETDATE();\n",
                "END;"
            ],
            "metadata": {
                "language": "sql",
                "azdata_cell_guid": "7f5e7a12-4a8d-4d73-80a8-f35297c641b1",
                "tags": [
                    "hide_input"
                ]
            },
            "outputs": [],
            "execution_count": null
        },
        {
            "cell_type": "code",
            "source": [
                "-- Execute the GetUpcomingServiceRequests stored procedure to retrieve details for upcoming service requests\n",
                "EXEC GetUpcomingServiceRequests;"
            ],
            "metadata": {
                "language": "sql",
                "azdata_cell_guid": "ef11feb8-694e-4993-acd7-a34596b819a8",
                "tags": [
                    "hide_input"
                ]
            },
            "outputs": [],
            "execution_count": null
        },
        {
            "cell_type": "code",
            "source": [
                "-- Stored procedure spCalculateCustomerLoyaltyDiscount\n",
                "-- The stored procedure is used to calculate loyalty discount for a customer based on the number of rides in the last year\n",
                "CREATE PROCEDURE spCalculateCustomerLoyaltyDiscount \n",
                "    @CustomerId INT\n",
                "AS\n",
                "BEGIN\n",
                "    -- Declare variables to store the number of rides and the calculated discount percentage\n",
                "    DECLARE @NumRides INT\n",
                "    DECLARE @DiscountPercent INT \n",
                "    \n",
                "    -- Count the number of rides for the specified customer in the last year\n",
                "    SELECT @NumRides = COUNT(*)\n",
                "    FROM RideRequest r\n",
                "    INNER JOIN Customer c ON r.CustomerID = c.CustomerID\n",
                "    WHERE c.CustomerID = @CustomerId\n",
                "        AND r.ReqDateTime BETWEEN DATEADD(YEAR, -1, GETDATE()) AND GETDATE()\n",
                "            \n",
                "    -- Calculate the loyalty discount percentage based on the number of rides\n",
                "    SET @DiscountPercent = \n",
                "        CASE \n",
                "            WHEN @NumRides > 10 THEN 20\n",
                "            WHEN @NumRides BETWEEN 5 AND 10 THEN 10\n",
                "            ELSE 0\n",
                "        END\n",
                "        \n",
                "    -- Select the customer ID and the calculated loyalty discount percentage\n",
                "    SELECT @CustomerId AS CustomerId, @DiscountPercent AS LoyaltyDiscountPercentage  \n",
                "END;"
            ],
            "metadata": {
                "language": "sql",
                "azdata_cell_guid": "123a01f6-f2f5-4928-bf3c-ba128621934f",
                "tags": [
                    "hide_input"
                ]
            },
            "outputs": [],
            "execution_count": null
        },
        {
            "cell_type": "code",
            "source": [
                "-- Execute the spCalculateCustomerLoyaltyDiscount stored procedure to calculate loyalty discount for a specific customer (CustomerID = 1)\n",
                "EXEC spCalculateCustomerLoyaltyDiscount 1;"
            ],
            "metadata": {
                "language": "sql",
                "azdata_cell_guid": "de9d1009-b923-483b-a138-6ea062ceff2c",
                "tags": [
                    "hide_input"
                ]
            },
            "outputs": [],
            "execution_count": null
        },
        {
            "cell_type": "code",
            "source": [
                "-- -- Stored procedure DecryptPaymentInfo\n",
                "-- -- The stored procedure is used to decrypt payment information for a specific customer\n",
                "-- CREATE PROCEDURE DecryptPaymentInfo\n",
                "--     @CustomerID INT   -- Unique identifier for the customer\n",
                "-- AS\n",
                "-- BEGIN\n",
                "--     -- Open the symmetric key for decryption using the specified certificate\n",
                "--     OPEN SYMMETRIC KEY MySymmetricKey DECRYPTION BY CERTIFICATE MyCertificate;\n",
                "\n",
                "--     -- Select the customer ID and decrypted payment information\n",
                "--     SELECT \n",
                "--         CustomerID,\n",
                "--         CONVERT(VARCHAR(MAX), DECRYPTBYKEY(EncryptedPaymentInfo)) AS DecryptedPaymentInfo\n",
                "--     FROM \n",
                "--         Customer\n",
                "--     WHERE \n",
                "--         CustomerID = @CustomerID;\n",
                "\n",
                "--     -- Close the symmetric key after use\n",
                "--     CLOSE SYMMETRIC KEY MySymmetricKey;\n",
                "-- END;"
            ],
            "metadata": {
                "language": "sql",
                "azdata_cell_guid": "050ccf62-8787-4210-9748-add343fd240c",
                "tags": [
                    "hide_input"
                ]
            },
            "outputs": [],
            "execution_count": null
        },
        {
            "cell_type": "code",
            "source": [
                "-- UDF ServiceDueinDays\n",
                "-- The user-defined function to calculate the number of days remaining until a service is due\n",
                "CREATE FUNCTION ServiceDueinDays\n",
                "(\n",
                "    @ReqDateTime DATETIME,    -- Date and time of the service request\n",
                "    @ServiceDueDate DATETIME   -- Due date for the requested service\n",
                ")\n",
                "RETURNS INT\n",
                "AS\n",
                "BEGIN\n",
                "    -- Declare a variable to store the number of days remaining\n",
                "    DECLARE @NoOfDays INT\n",
                "\n",
                "    -- Calculate the number of days remaining until the service is due\n",
                "    SET @NoOfDays = DATEDIFF(DAY, @ServiceDueDate, @ReqDateTime)\n",
                "\n",
                "    -- Return the calculated number of days\n",
                "    RETURN @NoOfDays;\n",
                "END;"
            ],
            "metadata": {
                "language": "sql",
                "azdata_cell_guid": "4645dc24-2c87-43e9-ace3-8f30ed3cdae2",
                "tags": [
                    "hide_input"
                ]
            },
            "outputs": [],
            "execution_count": null
        },
        {
            "cell_type": "code",
            "source": [
                "-- Using the ServiceDueinDays user-defined function to\n",
                "-- Select all columns from the ServiceRequest table and calculate the number of days remaining until service is due.\n",
                "-- Alias the calculated column as \"Service due in days\"\n",
                "-- SELECT \n",
                "--     sr.*, \n",
                "--     dbo.ServiceDueinDays(sr.ServiceDueDate, sr.ReqDateTime) AS \"Service due in days\"\n",
                "-- FROM \n",
                "--     ServiceRequest sr;\n",
                "\n",
                "-- ALter table service request to add column based on UDF\n",
                "ALTER TABLE ServiceRequest \n",
                "ADD ServiceDueIn AS dbo.ServiceDueinDays(ServiceDueDate,ReqDateTime)\n",
                "\n",
                "\n",
                ""
            ],
            "metadata": {
                "language": "sql",
                "azdata_cell_guid": "73bdb00a-a67d-4123-86ca-c8e614684c90",
                "tags": []
            },
            "outputs": [],
            "execution_count": null
        },
        {
            "cell_type": "code",
            "source": [
                "-- UDF CustomerCategory\n",
                "-- The user-defined function to categorize customers based on their age groups\n",
                "ALTER FUNCTION CustomerCategory\n",
                "(\n",
                "    @USERID INT   -- Date of birth of the customer\n",
                ")\n",
                "RETURNS VARCHAR(20)\n",
                "AS\n",
                "BEGIN\n",
                "    -- Declare variables to store the age in years and the customer category\n",
                "    DECLARE @AgeInYears INT\n",
                "    DECLARE @Category VARCHAR(20);\n",
                "    DECLARE @DateOfBirth DATE;\n",
                "\n",
                "    -- Calculate the age of the customer in years\n",
                "    SELECT @DateOfBirth = DOB from [User] u join Customer c on u.UserID = @USERID\n",
                "    SET @AgeInYears = DATEDIFF(YEAR, @DateOfBirth, GETDATE());\n",
                "\n",
                "    -- Categorize the customer based on age\n",
                "    SELECT @Category = \n",
                "        CASE \n",
                "            WHEN @AgeInYears < 18 THEN 'Under 18'\n",
                "            WHEN @AgeInYears BETWEEN 18 AND 25 THEN 'Young Adult'\n",
                "            WHEN @AgeInYears BETWEEN 26 AND 40 THEN 'Adult'\n",
                "            WHEN @AgeInYears BETWEEN 41 AND 60 THEN 'Middle Aged'\n",
                "            ELSE 'Senior Citizen'\n",
                "        END;\n",
                "\n",
                "    -- Return the calculated customer category\n",
                "    RETURN @Category;\n",
                "END;"
            ],
            "metadata": {
                "language": "sql",
                "azdata_cell_guid": "4ade5517-a06f-4c5c-b151-f0bdaa141536",
                "tags": []
            },
            "outputs": [
                {
                    "output_type": "display_data",
                    "data": {
                        "text/html": "Commands completed successfully."
                    },
                    "metadata": {}
                },
                {
                    "output_type": "display_data",
                    "data": {
                        "text/html": "Total execution time: 00:00:00.004"
                    },
                    "metadata": {}
                }
            ],
            "execution_count": 156
        },
        {
            "cell_type": "code",
            "source": [
                "-- Using CustomerCategory UDF to compute the category column.\n",
                "\n",
                "ALTER TABLE Customer\n",
                "ADD Category AS dbo.CustomerCategory(CustomerID)\n",
                "\n",
                "\n",
                "-- SELECT * FROM Customer\n",
                ""
            ],
            "metadata": {
                "language": "sql",
                "azdata_cell_guid": "cadaf749-1701-4d7e-ac5f-5a8b32543cf7",
                "tags": []
            },
            "outputs": [
                {
                    "output_type": "display_data",
                    "data": {
                        "text/html": "(60 rows affected)"
                    },
                    "metadata": {}
                },
                {
                    "output_type": "display_data",
                    "data": {
                        "text/html": "Total execution time: 00:00:00.011"
                    },
                    "metadata": {}
                },
                {
                    "output_type": "execute_result",
                    "metadata": {},
                    "execution_count": 159,
                    "data": {
                        "application/vnd.dataresource+json": {
                            "schema": {
                                "fields": [
                                    {
                                        "name": "CustomerID"
                                    },
                                    {
                                        "name": "UserID"
                                    },
                                    {
                                        "name": "EncryptedPaymentInfo"
                                    },
                                    {
                                        "name": "Category"
                                    }
                                ]
                            },
                            "data": [
                                {
                                    "CustomerID": "1",
                                    "UserID": "86",
                                    "EncryptedPaymentInfo": "0x00F1839A117B7941894B8600985EDDFD020000004A27725869AC989F7FA7D4EDA6BA7B86D30163F9A78D4CB3D0AFEE13693C0142EDA06A511EF68F7F41A78FCD997755E7B2147C3E2911D7A346555717BFC8EB8C",
                                    "Category": "Young Adult"
                                },
                                {
                                    "CustomerID": "2",
                                    "UserID": "20",
                                    "EncryptedPaymentInfo": "0x00F1839A117B7941894B8600985EDDFD020000004C16041A4B8430F3B89E874C7016C1DE7BD2BCE0BEEAA2619B51BDB8CF15B0E1CE2165476331778AEF35E11B6F4A11541747B24685FDB194935B74CBBA3F3732",
                                    "Category": "Senior Citizen"
                                },
                                {
                                    "CustomerID": "3",
                                    "UserID": "54",
                                    "EncryptedPaymentInfo": "0x00F1839A117B7941894B8600985EDDFD020000003DCA480378DAC31173A47B01E2C739B070BFFEC12E0066E348D58E6CAF8AE7B41B4CDBB406344906C76AF5C8451DFEF064DAE0019611E06F2AF6BC7C8138FD3B",
                                    "Category": "Senior Citizen"
                                },
                                {
                                    "CustomerID": "4",
                                    "UserID": "33",
                                    "EncryptedPaymentInfo": "0x00F1839A117B7941894B8600985EDDFD02000000C6457246D6EE7CFC48864DC719F17F3D14E83B37C4EBE8AEA2DAD0F5663CC4D631DF383B49E73C9F44A921D0A4B248EDA3ED145EBE962BED06F5C0818C215425",
                                    "Category": "Young Adult"
                                },
                                {
                                    "CustomerID": "5",
                                    "UserID": "86",
                                    "EncryptedPaymentInfo": "0x00F1839A117B7941894B8600985EDDFD02000000FCE48A95A93B56E345C77849DA4EA981D83CD7D7EDE749E6C7B7F8CD36033F130E95095A3E8A40B96CDF78A22860C28B",
                                    "Category": "Young Adult"
                                },
                                {
                                    "CustomerID": "6",
                                    "UserID": "14",
                                    "EncryptedPaymentInfo": "0x00F1839A117B7941894B8600985EDDFD020000002399C24B7FFCC521E4C00F5C8B1A614EABF46DDB5054F07FC79812A0A114E1B5AD35AD628175AE0F1CDD0109320E694E",
                                    "Category": "Under 18"
                                },
                                {
                                    "CustomerID": "7",
                                    "UserID": "1",
                                    "EncryptedPaymentInfo": "0x00F1839A117B7941894B8600985EDDFD0200000000738397A2791AC43F5B7E38FA391D866EE8A3E842552E133242B871E7DEF6F4E70291969E2D56FE5ECAC82CA846CF637FB9575B5AD137A2B62A7C7E9165D279",
                                    "Category": "Under 18"
                                },
                                {
                                    "CustomerID": "8",
                                    "UserID": "14",
                                    "EncryptedPaymentInfo": "0x00F1839A117B7941894B8600985EDDFD0200000033F54A391EF4EBE39C77E728AC85F8F4AF1C062F1C9DDA36F2E2C90A4DACB0CD11E292393EA6771A6EA5E950FB9AEC851A7A6C8952089FA71CF9AADE39077E69",
                                    "Category": "Under 18"
                                },
                                {
                                    "CustomerID": "9",
                                    "UserID": "3",
                                    "EncryptedPaymentInfo": "0x00F1839A117B7941894B8600985EDDFD02000000AB7BCFCABBF98EAF0C0F8E232CA63FDF2D31BF99F15FD52CE55C2A7B4449249ED5740D31C4733873CC3FB6515653306FEDA5CA81787777CD27D79BCAE4814D0F",
                                    "Category": "Under 18"
                                },
                                {
                                    "CustomerID": "10",
                                    "UserID": "65",
                                    "EncryptedPaymentInfo": "0x00F1839A117B7941894B8600985EDDFD0200000032EFCEA410283E9518BC4A6645E5376DFE4FB0B7133E32E916CFC11810B4BC98DA7BD1C5D690A8DDCCD7C703EE9F3E79F0C52665168748AC92F7F67F15A1FFE6",
                                    "Category": "Young Adult"
                                },
                                {
                                    "CustomerID": "11",
                                    "UserID": "75",
                                    "EncryptedPaymentInfo": "0x00F1839A117B7941894B8600985EDDFD02000000F005D784494C9F503C1EDBE67B0A5F8E1EF362C389F557C9E5BD65365F472E9ACE2CD79E9175679FD61B204E472DA4AB",
                                    "Category": "Senior Citizen"
                                },
                                {
                                    "CustomerID": "12",
                                    "UserID": "16",
                                    "EncryptedPaymentInfo": "0x00F1839A117B7941894B8600985EDDFD020000004AB01425F658AA9DF626297B9CD0455B26F63BA456AEF5F886C76FA89A7332ACB1FEB3120DA1955BA0D413097E67C315",
                                    "Category": "Under 18"
                                },
                                {
                                    "CustomerID": "13",
                                    "UserID": "50",
                                    "EncryptedPaymentInfo": "0x00F1839A117B7941894B8600985EDDFD020000005B688552C36F04609DD9C22905CE53C205EAE9EBAF62DFE8374D10BE4EFD26EEE8809608F0DE0E4D63651EA9B584B3315C9C0367CB6D62FC39569F2196C7C14D",
                                    "Category": "Under 18"
                                },
                                {
                                    "CustomerID": "14",
                                    "UserID": "30",
                                    "EncryptedPaymentInfo": "0x00F1839A117B7941894B8600985EDDFD020000009CFD407AFBDF8664FC6191D74CA96EED076170E51A517F9BD5033146E052632937B72D239D473B9B73E07990883FEF27DA41500E24672D678EBCA4FEA7EAD3E5",
                                    "Category": "Under 18"
                                },
                                {
                                    "CustomerID": "15",
                                    "UserID": "79",
                                    "EncryptedPaymentInfo": "0x00F1839A117B7941894B8600985EDDFD02000000D96BEF5D591BD84CC4DCA5502EC94317562B19862A1F53248A3E66164F1E05F0275E77D8DB893EEF2183C640D780119DE0209068D826EC4C620E3026F5888C33",
                                    "Category": "Senior Citizen"
                                },
                                {
                                    "CustomerID": "16",
                                    "UserID": "90",
                                    "EncryptedPaymentInfo": "0x00F1839A117B7941894B8600985EDDFD02000000774D7D8411CA485C5937B42853E6316234BF5C45FD056F4523F521996602EFE0D7B932345A70A7728FFF7E444AD6783B790C9F82641B57B00E44B0FF292AA396",
                                    "Category": "Young Adult"
                                },
                                {
                                    "CustomerID": "17",
                                    "UserID": "47",
                                    "EncryptedPaymentInfo": "0x00F1839A117B7941894B8600985EDDFD0200000023EF3906EFAA37889B2FE093759DD4A92BC189D217672A8B3F1E04463237B537803B5B1D8DB44CB61DBA68133B59F906",
                                    "Category": "Young Adult"
                                },
                                {
                                    "CustomerID": "18",
                                    "UserID": "10",
                                    "EncryptedPaymentInfo": "0x00F1839A117B7941894B8600985EDDFD020000007905AC7112514F09C37E7ED03EC238E4E1B3F7A58034509977298324C36E9261E72059F2569C82DE42F89E1CC8E2E7C8",
                                    "Category": "Young Adult"
                                },
                                {
                                    "CustomerID": "19",
                                    "UserID": "90",
                                    "EncryptedPaymentInfo": "0x00F1839A117B7941894B8600985EDDFD02000000D7683F02161CD823106DB9BD737719723188D5AC01B2F73F0B473503450EDCAD186FAB0F4BE9A2182D76D334224666F248C3823551D16589D41AE6026C803CF2",
                                    "Category": "Under 18"
                                },
                                {
                                    "CustomerID": "20",
                                    "UserID": "16",
                                    "EncryptedPaymentInfo": "0x00F1839A117B7941894B8600985EDDFD0200000001C7C8975F672E0A66F72F12D799FD0153DD7488E36C03BF0CEA9AC47C39F0F664D72B5CC517E5FBA64323C0BF9AC78C89A7B083E304F020D16A6688A8992719",
                                    "Category": "Young Adult"
                                },
                                {
                                    "CustomerID": "21",
                                    "UserID": "1",
                                    "EncryptedPaymentInfo": "0x00F1839A117B7941894B8600985EDDFD02000000427D1E31E41F0ABF99DB2FA564346AE0BF178FD10DC5337022E16143C009A99C363A8F85CED50EEFB3F36E3C662A15E46BC49ADAF747EF68D63566258205A875",
                                    "Category": "Under 18"
                                },
                                {
                                    "CustomerID": "22",
                                    "UserID": "78",
                                    "EncryptedPaymentInfo": "0x00F1839A117B7941894B8600985EDDFD0200000025BCBCADFB6EB6EA47EA6E6AE584F35A1B5ED1FA5A61CD113E8CE80F1325156FE8760D564271ABAE55F583F412A9663C1F700B463947588CDBD33D288D1B2A83",
                                    "Category": "Under 18"
                                },
                                {
                                    "CustomerID": "23",
                                    "UserID": "26",
                                    "EncryptedPaymentInfo": "0x00F1839A117B7941894B8600985EDDFD0200000037FC230E2251B13B5FC5F37B8965E8D44ED975D2D632AC0E3842E7810551D74F7B7365074123BDE069A4259151736E24",
                                    "Category": "Young Adult"
                                },
                                {
                                    "CustomerID": "24",
                                    "UserID": "19",
                                    "EncryptedPaymentInfo": "0x00F1839A117B7941894B8600985EDDFD0200000084EE1889BC678B904C06BCB9CDC368F5D8A26477654915EDF299FDF88543EC3198D98E72B2CF0E809B62CD7C0DC86B8C",
                                    "Category": "Young Adult"
                                },
                                {
                                    "CustomerID": "25",
                                    "UserID": "5",
                                    "EncryptedPaymentInfo": "0x00F1839A117B7941894B8600985EDDFD020000002ECC6D4016AE920C924488902D70693A5E86B8B9C3252A0DE04CB27FD0C6BF22EF40FC61E7E485FD4884825822B3417E48ED5F68D67B49D5BEADD8E451020A4D",
                                    "Category": "Under 18"
                                },
                                {
                                    "CustomerID": "26",
                                    "UserID": "89",
                                    "EncryptedPaymentInfo": "0x00F1839A117B7941894B8600985EDDFD02000000ACF537B9CE6BEA3ACB60A56D4595AE1131270CFCDBB0596A003A6EB1BF4E54AC925EFFE166E20A97C1F4ECCCD9076B8AE62EBE9D34ADC5DCFAA01AFA9B79C8A6",
                                    "Category": "Young Adult"
                                },
                                {
                                    "CustomerID": "27",
                                    "UserID": "13",
                                    "EncryptedPaymentInfo": "0x00F1839A117B7941894B8600985EDDFD02000000CAA296D517423523C46E5A46ABEBE4848F120BED0AF736C136382B3D8AA05EFBCF6906FA6B2A7AAE123DBA368C50C683FFF4648AA7D31B31CA0089AC9FA83B73",
                                    "Category": "Young Adult"
                                },
                                {
                                    "CustomerID": "28",
                                    "UserID": "35",
                                    "EncryptedPaymentInfo": "0x00F1839A117B7941894B8600985EDDFD02000000C909A43B465285D345A1DA02CB6EBE131BC88CF204FDDF938E63A6FCAFA44BA0CC23B9E94F18A6F8274B80C77E696407E503DC3308742FCC4D76EB7BB4676642",
                                    "Category": "Under 18"
                                },
                                {
                                    "CustomerID": "29",
                                    "UserID": "4",
                                    "EncryptedPaymentInfo": "0x00F1839A117B7941894B8600985EDDFD0200000097D95AFB0A806D7834E678C47AFB730BB59D1B7025CF4EDA363268AB8716C2552E272ED4DCE39135043A566B0741E084",
                                    "Category": "Young Adult"
                                },
                                {
                                    "CustomerID": "30",
                                    "UserID": "84",
                                    "EncryptedPaymentInfo": "0x00F1839A117B7941894B8600985EDDFD0200000071C8E085CDB5A741FDBA0649B08CF211CEDF52FD5390E8A1646E36BB4F5E8C2478AF4DD11EDCDB3AB2D9090E2FAB7D37",
                                    "Category": "Under 18"
                                },
                                {
                                    "CustomerID": "31",
                                    "UserID": "65",
                                    "EncryptedPaymentInfo": "0x00F1839A117B7941894B8600985EDDFD020000009C755586025DCA8E68378F7415F31FBA6F743D91E03DC464B8FC72EC96E0EDFFCBE984AFED18A6D0D7033661F5AAE8C664B0AB35899E16E2127713E5DA540E52",
                                    "Category": "Under 18"
                                },
                                {
                                    "CustomerID": "32",
                                    "UserID": "84",
                                    "EncryptedPaymentInfo": "0x00F1839A117B7941894B8600985EDDFD0200000025F5CFD59B08B1BB32BEE4F7209AB80087699B6C5B7C97FB0E9B131C36910DC66F99AF387B5F3259166479E68CA3C66AF19162EE36D650DB4A152A7FE4778928",
                                    "Category": "Senior Citizen"
                                },
                                {
                                    "CustomerID": "33",
                                    "UserID": "6",
                                    "EncryptedPaymentInfo": "0x00F1839A117B7941894B8600985EDDFD020000001068CFA11AB3A99194C13A21B6735A29E3A73E18B01538FB99CA8BA9D3CA81E60BC27A551CB8D8AC2BFD37012697E1F1662C43C5A498C08EE47886B9027912DB",
                                    "Category": "Under 18"
                                },
                                {
                                    "CustomerID": "34",
                                    "UserID": "33",
                                    "EncryptedPaymentInfo": "0x00F1839A117B7941894B8600985EDDFD02000000E79F35313149689792788883D8F58E7CA2A64821EF086EC78DEC5FD48059839CEA5E804CB0AE06B5BD6167041B0151AB01029E0DD5A20C0B1F36706AD8DCC36B",
                                    "Category": "Under 18"
                                },
                                {
                                    "CustomerID": "35",
                                    "UserID": "76",
                                    "EncryptedPaymentInfo": "0x00F1839A117B7941894B8600985EDDFD020000003ACAFF497B6E3FFDE32AA506BFBFB712EDE37835EE895A84B19B7458E8C490229A43DB3D2216B37C78BF8B73F737D41E",
                                    "Category": "Senior Citizen"
                                },
                                {
                                    "CustomerID": "36",
                                    "UserID": "48",
                                    "EncryptedPaymentInfo": "0x00F1839A117B7941894B8600985EDDFD02000000FCD77707C79A19F7F997B6F5E95E0A3FDBC1070021BB706B095102AC2F4494D2AFD40B5DAD77555BE56E5E102CB0E108",
                                    "Category": "Under 18"
                                },
                                {
                                    "CustomerID": "37",
                                    "UserID": "66",
                                    "EncryptedPaymentInfo": "0x00F1839A117B7941894B8600985EDDFD020000008B60D59E6EACA37FB669672E119A2CE562226698D9E1BF33163F7021AB215846B389E1C954AE77F41DFCBDC1867401EE7A1D3727B4A99F828C4B25ACE5CB8E12",
                                    "Category": "Under 18"
                                },
                                {
                                    "CustomerID": "38",
                                    "UserID": "68",
                                    "EncryptedPaymentInfo": "0x00F1839A117B7941894B8600985EDDFD02000000181DA7E6746FD4883A41C22AADC527BD32DCA205B343D0851EC134BB5EB613CEA8BADC5786E9A8E78D88BAF818F62D285F2585DFF511681F7EB783A8EA12F145",
                                    "Category": "Senior Citizen"
                                },
                                {
                                    "CustomerID": "39",
                                    "UserID": "36",
                                    "EncryptedPaymentInfo": "0x00F1839A117B7941894B8600985EDDFD02000000EB74EF4CF9F62D1346D78F5C77DA873654CA974C7B1AF472345FDA22CAE5E3C7D9AA97BD0A0CABBE4EE0EFEEA2FF1939129F16333829B42E1866B5712531139F",
                                    "Category": "Under 18"
                                },
                                {
                                    "CustomerID": "40",
                                    "UserID": "61",
                                    "EncryptedPaymentInfo": "0x00F1839A117B7941894B8600985EDDFD020000002606536C7035261C6335B206622E6B29DDC6A0CF344A61BACC1D66BF48BF4C056CB9A78DEB08DB3CA56FACD8BD02EA2288C5C9830B1ECB9D5C6815CEA8493E0F",
                                    "Category": "Under 18"
                                },
                                {
                                    "CustomerID": "41",
                                    "UserID": "95",
                                    "EncryptedPaymentInfo": "0x00F1839A117B7941894B8600985EDDFD020000001A646EDED62728F326038E63E2849B410ECFD13F66FABF42F9B9A073173DED1F601B0F97DCDBDD372F7568213DA098B8",
                                    "Category": "Senior Citizen"
                                },
                                {
                                    "CustomerID": "42",
                                    "UserID": "9",
                                    "EncryptedPaymentInfo": "0x00F1839A117B7941894B8600985EDDFD0200000009B80A68C3CB9900401CEDFC0A6C6F64BE6096A1B38CE58F58C12CE8DA5232508E431530E1ED4ABA0230A95C75D5516A",
                                    "Category": "Young Adult"
                                },
                                {
                                    "CustomerID": "43",
                                    "UserID": "68",
                                    "EncryptedPaymentInfo": "0x00F1839A117B7941894B8600985EDDFD02000000B97D1D7DEFBC0BBD28548DCF8608C635EFD3A592F10DFE7FF131790117D8C43E8B2633F33D6310B2F90BE9A2ECE61506C20E2FB25FE3849A71DEC9C8E6D97E22",
                                    "Category": "Senior Citizen"
                                },
                                {
                                    "CustomerID": "44",
                                    "UserID": "2",
                                    "EncryptedPaymentInfo": "0x00F1839A117B7941894B8600985EDDFD02000000162CCE12C0B76002CA23A5ED50520289771926CBE213D7C71CFC724D0A7A7221350466BEE6145D951069B5135D631C82638AFCDD5F1F49F5F7BCA4ADE5C814FE",
                                    "Category": "Senior Citizen"
                                },
                                {
                                    "CustomerID": "45",
                                    "UserID": "55",
                                    "EncryptedPaymentInfo": "0x00F1839A117B7941894B8600985EDDFD02000000CBFE7C7AEF728C5DFD6E8438D9DA23AEEAC18E680525F744F71CEF8331248EBF0B778FAE877607DFA60664D9C463FD884F1E49A625E862B363C6730A5ECBF384",
                                    "Category": "Young Adult"
                                },
                                {
                                    "CustomerID": "46",
                                    "UserID": "2",
                                    "EncryptedPaymentInfo": "0x00F1839A117B7941894B8600985EDDFD02000000EBC7DB229DEE7A170F91E0513BDBC928E236D0D8AC2BF372CAE5783C95929FA329190F94D25539411884C4286D166EC34225AA949981D4C825F5E9E3ABA86423",
                                    "Category": "Under 18"
                                },
                                {
                                    "CustomerID": "47",
                                    "UserID": "49",
                                    "EncryptedPaymentInfo": "0x00F1839A117B7941894B8600985EDDFD02000000426510095A1D05E3BB0261A0D76D0AC1301E350D924C86994FAE35F26BE58E4CD294761E0A5729B6891D00D68CC29002",
                                    "Category": "Senior Citizen"
                                },
                                {
                                    "CustomerID": "48",
                                    "UserID": "97",
                                    "EncryptedPaymentInfo": "0x00F1839A117B7941894B8600985EDDFD02000000FC5C9B1DE8432C8B783DE2D40CEE96AD25C3DEEEBBF2F47628AA68AD80D4AEA7FBD983556D329DE228AD16A9494C1DFC",
                                    "Category": "Under 18"
                                },
                                {
                                    "CustomerID": "49",
                                    "UserID": "63",
                                    "EncryptedPaymentInfo": "0x00F1839A117B7941894B8600985EDDFD0200000097E13D3FAF03D047AC147A3D8D49D4EDE3B8F1BCB63857D4B91E4492B6222CB9E5D6F0A20E20FDBE3432F4800EDFDE0475EB1DC3FF8A31CBD8DC33559EAF3E4C",
                                    "Category": "Under 18"
                                },
                                {
                                    "CustomerID": "50",
                                    "UserID": "15",
                                    "EncryptedPaymentInfo": "0x00F1839A117B7941894B8600985EDDFD0200000029C3C7B1B909A102AFD119C148961D51E2A9A2FCF4BBB29325D974C84125860F7D25C10D5227028C6025C2EEC9E3788C0D937790D668E6279D5937C3421D4F08",
                                    "Category": "Young Adult"
                                },
                                {
                                    "CustomerID": "51",
                                    "UserID": "87",
                                    "EncryptedPaymentInfo": "0x00F1839A117B7941894B8600985EDDFD0200000075B962363F7FDC172E53A0E60B254481D6E1270F911075873FBA77B7761DFBBD32B0BDE6D99E4D260374EA5411B8E026BA475A2BC2284B573D664C8DF9CEF71D",
                                    "Category": "Under 18"
                                },
                                {
                                    "CustomerID": "52",
                                    "UserID": "33",
                                    "EncryptedPaymentInfo": "0x00F1839A117B7941894B8600985EDDFD020000007155D8E012C7274D9FFBD7EF09F4504E81C166673165D6E7157719FB33BCFAA96CDEB4085468B12A4850B9CC21304EEBBDE5849AAD68135B0CDCF2BEEE8FEB3C",
                                    "Category": "Senior Citizen"
                                },
                                {
                                    "CustomerID": "53",
                                    "UserID": "20",
                                    "EncryptedPaymentInfo": "0x00F1839A117B7941894B8600985EDDFD02000000A9DADFB7146FE88B5A95C698733C1705D396832E47277F39535D483218FFBF441A880D10241C3024D300243E32A15F80",
                                    "Category": "Young Adult"
                                },
                                {
                                    "CustomerID": "54",
                                    "UserID": "4",
                                    "EncryptedPaymentInfo": "0x00F1839A117B7941894B8600985EDDFD02000000F9BF78A90E2B63C72BB695A088F9C2E08631B03623B9C8BAB84214EB67BDF1BE60CFC1725FE5529FDA95BB1F34277434",
                                    "Category": "Young Adult"
                                },
                                {
                                    "CustomerID": "55",
                                    "UserID": "52",
                                    "EncryptedPaymentInfo": "0x00F1839A117B7941894B8600985EDDFD020000009D2CECE4978A29A1978724E754021163DC13565214CB0D2F7888B31423895CB5A28803E65708B5D4C88F6620D8A59F257DE27B97013CACBD04A8FC7ED03241F2",
                                    "Category": "Under 18"
                                },
                                {
                                    "CustomerID": "56",
                                    "UserID": "59",
                                    "EncryptedPaymentInfo": "0x00F1839A117B7941894B8600985EDDFD020000004C019E0A88699648918A59BBE67D269EF0AF3264BC0BA086B97356E34835D8B7F508E8458201638AB8C7F3DB4AAD4F83C725FEBBAEAF4F894DFCE93470F161D7",
                                    "Category": "Young Adult"
                                },
                                {
                                    "CustomerID": "57",
                                    "UserID": "34",
                                    "EncryptedPaymentInfo": "0x00F1839A117B7941894B8600985EDDFD020000008C12AC3CEFCE467D669D6BD3893D35AC04CF385C18678EC05E1F151D9422C74251C8AFEDC6084E8D034F510912BB4A9CE92EED49D7505549327D8BA436593CBF",
                                    "Category": "Young Adult"
                                },
                                {
                                    "CustomerID": "58",
                                    "UserID": "26",
                                    "EncryptedPaymentInfo": "0x00F1839A117B7941894B8600985EDDFD02000000317E41EE1CFB752D46837A7AA2E68FBEF7ADF70C9814A6EC19A4FAF69A9D26EFA656A901572D17C0E03D8303E59FADDC50217C8792D8EE4A9839306E9B49D6D0",
                                    "Category": "Young Adult"
                                },
                                {
                                    "CustomerID": "59",
                                    "UserID": "35",
                                    "EncryptedPaymentInfo": "0x00F1839A117B7941894B8600985EDDFD02000000BCB2C438448919CE200B6A6F4412454238D2B0136AEBCB326EE073569A1F0C846976253E66B2263D942E6A0584DE9FD5",
                                    "Category": "Under 18"
                                },
                                {
                                    "CustomerID": "60",
                                    "UserID": "59",
                                    "EncryptedPaymentInfo": "0x00F1839A117B7941894B8600985EDDFD02000000686EDDD71160C3BA7EFE6FA0C80D349AAE7D9C56673AEE74763FFDACEC7E05AF3E5E44E229F2F6F04C65E000CC889733",
                                    "Category": "Young Adult"
                                }
                            ]
                        },
                        "text/html": [
                            "<table>",
                            "<tr><th>CustomerID</th><th>UserID</th><th>EncryptedPaymentInfo</th><th>Category</th></tr>",
                            "<tr><td>1</td><td>86</td><td>0x00F1839A117B7941894B8600985EDDFD020000004A27725869AC989F7FA7D4EDA6BA7B86D30163F9A78D4CB3D0AFEE13693C0142EDA06A511EF68F7F41A78FCD997755E7B2147C3E2911D7A346555717BFC8EB8C</td><td>Young Adult</td></tr>",
                            "<tr><td>2</td><td>20</td><td>0x00F1839A117B7941894B8600985EDDFD020000004C16041A4B8430F3B89E874C7016C1DE7BD2BCE0BEEAA2619B51BDB8CF15B0E1CE2165476331778AEF35E11B6F4A11541747B24685FDB194935B74CBBA3F3732</td><td>Senior Citizen</td></tr>",
                            "<tr><td>3</td><td>54</td><td>0x00F1839A117B7941894B8600985EDDFD020000003DCA480378DAC31173A47B01E2C739B070BFFEC12E0066E348D58E6CAF8AE7B41B4CDBB406344906C76AF5C8451DFEF064DAE0019611E06F2AF6BC7C8138FD3B</td><td>Senior Citizen</td></tr>",
                            "<tr><td>4</td><td>33</td><td>0x00F1839A117B7941894B8600985EDDFD02000000C6457246D6EE7CFC48864DC719F17F3D14E83B37C4EBE8AEA2DAD0F5663CC4D631DF383B49E73C9F44A921D0A4B248EDA3ED145EBE962BED06F5C0818C215425</td><td>Young Adult</td></tr>",
                            "<tr><td>5</td><td>86</td><td>0x00F1839A117B7941894B8600985EDDFD02000000FCE48A95A93B56E345C77849DA4EA981D83CD7D7EDE749E6C7B7F8CD36033F130E95095A3E8A40B96CDF78A22860C28B</td><td>Young Adult</td></tr>",
                            "<tr><td>6</td><td>14</td><td>0x00F1839A117B7941894B8600985EDDFD020000002399C24B7FFCC521E4C00F5C8B1A614EABF46DDB5054F07FC79812A0A114E1B5AD35AD628175AE0F1CDD0109320E694E</td><td>Under 18</td></tr>",
                            "<tr><td>7</td><td>1</td><td>0x00F1839A117B7941894B8600985EDDFD0200000000738397A2791AC43F5B7E38FA391D866EE8A3E842552E133242B871E7DEF6F4E70291969E2D56FE5ECAC82CA846CF637FB9575B5AD137A2B62A7C7E9165D279</td><td>Under 18</td></tr>",
                            "<tr><td>8</td><td>14</td><td>0x00F1839A117B7941894B8600985EDDFD0200000033F54A391EF4EBE39C77E728AC85F8F4AF1C062F1C9DDA36F2E2C90A4DACB0CD11E292393EA6771A6EA5E950FB9AEC851A7A6C8952089FA71CF9AADE39077E69</td><td>Under 18</td></tr>",
                            "<tr><td>9</td><td>3</td><td>0x00F1839A117B7941894B8600985EDDFD02000000AB7BCFCABBF98EAF0C0F8E232CA63FDF2D31BF99F15FD52CE55C2A7B4449249ED5740D31C4733873CC3FB6515653306FEDA5CA81787777CD27D79BCAE4814D0F</td><td>Under 18</td></tr>",
                            "<tr><td>10</td><td>65</td><td>0x00F1839A117B7941894B8600985EDDFD0200000032EFCEA410283E9518BC4A6645E5376DFE4FB0B7133E32E916CFC11810B4BC98DA7BD1C5D690A8DDCCD7C703EE9F3E79F0C52665168748AC92F7F67F15A1FFE6</td><td>Young Adult</td></tr>",
                            "<tr><td>11</td><td>75</td><td>0x00F1839A117B7941894B8600985EDDFD02000000F005D784494C9F503C1EDBE67B0A5F8E1EF362C389F557C9E5BD65365F472E9ACE2CD79E9175679FD61B204E472DA4AB</td><td>Senior Citizen</td></tr>",
                            "<tr><td>12</td><td>16</td><td>0x00F1839A117B7941894B8600985EDDFD020000004AB01425F658AA9DF626297B9CD0455B26F63BA456AEF5F886C76FA89A7332ACB1FEB3120DA1955BA0D413097E67C315</td><td>Under 18</td></tr>",
                            "<tr><td>13</td><td>50</td><td>0x00F1839A117B7941894B8600985EDDFD020000005B688552C36F04609DD9C22905CE53C205EAE9EBAF62DFE8374D10BE4EFD26EEE8809608F0DE0E4D63651EA9B584B3315C9C0367CB6D62FC39569F2196C7C14D</td><td>Under 18</td></tr>",
                            "<tr><td>14</td><td>30</td><td>0x00F1839A117B7941894B8600985EDDFD020000009CFD407AFBDF8664FC6191D74CA96EED076170E51A517F9BD5033146E052632937B72D239D473B9B73E07990883FEF27DA41500E24672D678EBCA4FEA7EAD3E5</td><td>Under 18</td></tr>",
                            "<tr><td>15</td><td>79</td><td>0x00F1839A117B7941894B8600985EDDFD02000000D96BEF5D591BD84CC4DCA5502EC94317562B19862A1F53248A3E66164F1E05F0275E77D8DB893EEF2183C640D780119DE0209068D826EC4C620E3026F5888C33</td><td>Senior Citizen</td></tr>",
                            "<tr><td>16</td><td>90</td><td>0x00F1839A117B7941894B8600985EDDFD02000000774D7D8411CA485C5937B42853E6316234BF5C45FD056F4523F521996602EFE0D7B932345A70A7728FFF7E444AD6783B790C9F82641B57B00E44B0FF292AA396</td><td>Young Adult</td></tr>",
                            "<tr><td>17</td><td>47</td><td>0x00F1839A117B7941894B8600985EDDFD0200000023EF3906EFAA37889B2FE093759DD4A92BC189D217672A8B3F1E04463237B537803B5B1D8DB44CB61DBA68133B59F906</td><td>Young Adult</td></tr>",
                            "<tr><td>18</td><td>10</td><td>0x00F1839A117B7941894B8600985EDDFD020000007905AC7112514F09C37E7ED03EC238E4E1B3F7A58034509977298324C36E9261E72059F2569C82DE42F89E1CC8E2E7C8</td><td>Young Adult</td></tr>",
                            "<tr><td>19</td><td>90</td><td>0x00F1839A117B7941894B8600985EDDFD02000000D7683F02161CD823106DB9BD737719723188D5AC01B2F73F0B473503450EDCAD186FAB0F4BE9A2182D76D334224666F248C3823551D16589D41AE6026C803CF2</td><td>Under 18</td></tr>",
                            "<tr><td>20</td><td>16</td><td>0x00F1839A117B7941894B8600985EDDFD0200000001C7C8975F672E0A66F72F12D799FD0153DD7488E36C03BF0CEA9AC47C39F0F664D72B5CC517E5FBA64323C0BF9AC78C89A7B083E304F020D16A6688A8992719</td><td>Young Adult</td></tr>",
                            "<tr><td>21</td><td>1</td><td>0x00F1839A117B7941894B8600985EDDFD02000000427D1E31E41F0ABF99DB2FA564346AE0BF178FD10DC5337022E16143C009A99C363A8F85CED50EEFB3F36E3C662A15E46BC49ADAF747EF68D63566258205A875</td><td>Under 18</td></tr>",
                            "<tr><td>22</td><td>78</td><td>0x00F1839A117B7941894B8600985EDDFD0200000025BCBCADFB6EB6EA47EA6E6AE584F35A1B5ED1FA5A61CD113E8CE80F1325156FE8760D564271ABAE55F583F412A9663C1F700B463947588CDBD33D288D1B2A83</td><td>Under 18</td></tr>",
                            "<tr><td>23</td><td>26</td><td>0x00F1839A117B7941894B8600985EDDFD0200000037FC230E2251B13B5FC5F37B8965E8D44ED975D2D632AC0E3842E7810551D74F7B7365074123BDE069A4259151736E24</td><td>Young Adult</td></tr>",
                            "<tr><td>24</td><td>19</td><td>0x00F1839A117B7941894B8600985EDDFD0200000084EE1889BC678B904C06BCB9CDC368F5D8A26477654915EDF299FDF88543EC3198D98E72B2CF0E809B62CD7C0DC86B8C</td><td>Young Adult</td></tr>",
                            "<tr><td>25</td><td>5</td><td>0x00F1839A117B7941894B8600985EDDFD020000002ECC6D4016AE920C924488902D70693A5E86B8B9C3252A0DE04CB27FD0C6BF22EF40FC61E7E485FD4884825822B3417E48ED5F68D67B49D5BEADD8E451020A4D</td><td>Under 18</td></tr>",
                            "<tr><td>26</td><td>89</td><td>0x00F1839A117B7941894B8600985EDDFD02000000ACF537B9CE6BEA3ACB60A56D4595AE1131270CFCDBB0596A003A6EB1BF4E54AC925EFFE166E20A97C1F4ECCCD9076B8AE62EBE9D34ADC5DCFAA01AFA9B79C8A6</td><td>Young Adult</td></tr>",
                            "<tr><td>27</td><td>13</td><td>0x00F1839A117B7941894B8600985EDDFD02000000CAA296D517423523C46E5A46ABEBE4848F120BED0AF736C136382B3D8AA05EFBCF6906FA6B2A7AAE123DBA368C50C683FFF4648AA7D31B31CA0089AC9FA83B73</td><td>Young Adult</td></tr>",
                            "<tr><td>28</td><td>35</td><td>0x00F1839A117B7941894B8600985EDDFD02000000C909A43B465285D345A1DA02CB6EBE131BC88CF204FDDF938E63A6FCAFA44BA0CC23B9E94F18A6F8274B80C77E696407E503DC3308742FCC4D76EB7BB4676642</td><td>Under 18</td></tr>",
                            "<tr><td>29</td><td>4</td><td>0x00F1839A117B7941894B8600985EDDFD0200000097D95AFB0A806D7834E678C47AFB730BB59D1B7025CF4EDA363268AB8716C2552E272ED4DCE39135043A566B0741E084</td><td>Young Adult</td></tr>",
                            "<tr><td>30</td><td>84</td><td>0x00F1839A117B7941894B8600985EDDFD0200000071C8E085CDB5A741FDBA0649B08CF211CEDF52FD5390E8A1646E36BB4F5E8C2478AF4DD11EDCDB3AB2D9090E2FAB7D37</td><td>Under 18</td></tr>",
                            "<tr><td>31</td><td>65</td><td>0x00F1839A117B7941894B8600985EDDFD020000009C755586025DCA8E68378F7415F31FBA6F743D91E03DC464B8FC72EC96E0EDFFCBE984AFED18A6D0D7033661F5AAE8C664B0AB35899E16E2127713E5DA540E52</td><td>Under 18</td></tr>",
                            "<tr><td>32</td><td>84</td><td>0x00F1839A117B7941894B8600985EDDFD0200000025F5CFD59B08B1BB32BEE4F7209AB80087699B6C5B7C97FB0E9B131C36910DC66F99AF387B5F3259166479E68CA3C66AF19162EE36D650DB4A152A7FE4778928</td><td>Senior Citizen</td></tr>",
                            "<tr><td>33</td><td>6</td><td>0x00F1839A117B7941894B8600985EDDFD020000001068CFA11AB3A99194C13A21B6735A29E3A73E18B01538FB99CA8BA9D3CA81E60BC27A551CB8D8AC2BFD37012697E1F1662C43C5A498C08EE47886B9027912DB</td><td>Under 18</td></tr>",
                            "<tr><td>34</td><td>33</td><td>0x00F1839A117B7941894B8600985EDDFD02000000E79F35313149689792788883D8F58E7CA2A64821EF086EC78DEC5FD48059839CEA5E804CB0AE06B5BD6167041B0151AB01029E0DD5A20C0B1F36706AD8DCC36B</td><td>Under 18</td></tr>",
                            "<tr><td>35</td><td>76</td><td>0x00F1839A117B7941894B8600985EDDFD020000003ACAFF497B6E3FFDE32AA506BFBFB712EDE37835EE895A84B19B7458E8C490229A43DB3D2216B37C78BF8B73F737D41E</td><td>Senior Citizen</td></tr>",
                            "<tr><td>36</td><td>48</td><td>0x00F1839A117B7941894B8600985EDDFD02000000FCD77707C79A19F7F997B6F5E95E0A3FDBC1070021BB706B095102AC2F4494D2AFD40B5DAD77555BE56E5E102CB0E108</td><td>Under 18</td></tr>",
                            "<tr><td>37</td><td>66</td><td>0x00F1839A117B7941894B8600985EDDFD020000008B60D59E6EACA37FB669672E119A2CE562226698D9E1BF33163F7021AB215846B389E1C954AE77F41DFCBDC1867401EE7A1D3727B4A99F828C4B25ACE5CB8E12</td><td>Under 18</td></tr>",
                            "<tr><td>38</td><td>68</td><td>0x00F1839A117B7941894B8600985EDDFD02000000181DA7E6746FD4883A41C22AADC527BD32DCA205B343D0851EC134BB5EB613CEA8BADC5786E9A8E78D88BAF818F62D285F2585DFF511681F7EB783A8EA12F145</td><td>Senior Citizen</td></tr>",
                            "<tr><td>39</td><td>36</td><td>0x00F1839A117B7941894B8600985EDDFD02000000EB74EF4CF9F62D1346D78F5C77DA873654CA974C7B1AF472345FDA22CAE5E3C7D9AA97BD0A0CABBE4EE0EFEEA2FF1939129F16333829B42E1866B5712531139F</td><td>Under 18</td></tr>",
                            "<tr><td>40</td><td>61</td><td>0x00F1839A117B7941894B8600985EDDFD020000002606536C7035261C6335B206622E6B29DDC6A0CF344A61BACC1D66BF48BF4C056CB9A78DEB08DB3CA56FACD8BD02EA2288C5C9830B1ECB9D5C6815CEA8493E0F</td><td>Under 18</td></tr>",
                            "<tr><td>41</td><td>95</td><td>0x00F1839A117B7941894B8600985EDDFD020000001A646EDED62728F326038E63E2849B410ECFD13F66FABF42F9B9A073173DED1F601B0F97DCDBDD372F7568213DA098B8</td><td>Senior Citizen</td></tr>",
                            "<tr><td>42</td><td>9</td><td>0x00F1839A117B7941894B8600985EDDFD0200000009B80A68C3CB9900401CEDFC0A6C6F64BE6096A1B38CE58F58C12CE8DA5232508E431530E1ED4ABA0230A95C75D5516A</td><td>Young Adult</td></tr>",
                            "<tr><td>43</td><td>68</td><td>0x00F1839A117B7941894B8600985EDDFD02000000B97D1D7DEFBC0BBD28548DCF8608C635EFD3A592F10DFE7FF131790117D8C43E8B2633F33D6310B2F90BE9A2ECE61506C20E2FB25FE3849A71DEC9C8E6D97E22</td><td>Senior Citizen</td></tr>",
                            "<tr><td>44</td><td>2</td><td>0x00F1839A117B7941894B8600985EDDFD02000000162CCE12C0B76002CA23A5ED50520289771926CBE213D7C71CFC724D0A7A7221350466BEE6145D951069B5135D631C82638AFCDD5F1F49F5F7BCA4ADE5C814FE</td><td>Senior Citizen</td></tr>",
                            "<tr><td>45</td><td>55</td><td>0x00F1839A117B7941894B8600985EDDFD02000000CBFE7C7AEF728C5DFD6E8438D9DA23AEEAC18E680525F744F71CEF8331248EBF0B778FAE877607DFA60664D9C463FD884F1E49A625E862B363C6730A5ECBF384</td><td>Young Adult</td></tr>",
                            "<tr><td>46</td><td>2</td><td>0x00F1839A117B7941894B8600985EDDFD02000000EBC7DB229DEE7A170F91E0513BDBC928E236D0D8AC2BF372CAE5783C95929FA329190F94D25539411884C4286D166EC34225AA949981D4C825F5E9E3ABA86423</td><td>Under 18</td></tr>",
                            "<tr><td>47</td><td>49</td><td>0x00F1839A117B7941894B8600985EDDFD02000000426510095A1D05E3BB0261A0D76D0AC1301E350D924C86994FAE35F26BE58E4CD294761E0A5729B6891D00D68CC29002</td><td>Senior Citizen</td></tr>",
                            "<tr><td>48</td><td>97</td><td>0x00F1839A117B7941894B8600985EDDFD02000000FC5C9B1DE8432C8B783DE2D40CEE96AD25C3DEEEBBF2F47628AA68AD80D4AEA7FBD983556D329DE228AD16A9494C1DFC</td><td>Under 18</td></tr>",
                            "<tr><td>49</td><td>63</td><td>0x00F1839A117B7941894B8600985EDDFD0200000097E13D3FAF03D047AC147A3D8D49D4EDE3B8F1BCB63857D4B91E4492B6222CB9E5D6F0A20E20FDBE3432F4800EDFDE0475EB1DC3FF8A31CBD8DC33559EAF3E4C</td><td>Under 18</td></tr>",
                            "<tr><td>50</td><td>15</td><td>0x00F1839A117B7941894B8600985EDDFD0200000029C3C7B1B909A102AFD119C148961D51E2A9A2FCF4BBB29325D974C84125860F7D25C10D5227028C6025C2EEC9E3788C0D937790D668E6279D5937C3421D4F08</td><td>Young Adult</td></tr>",
                            "<tr><td>51</td><td>87</td><td>0x00F1839A117B7941894B8600985EDDFD0200000075B962363F7FDC172E53A0E60B254481D6E1270F911075873FBA77B7761DFBBD32B0BDE6D99E4D260374EA5411B8E026BA475A2BC2284B573D664C8DF9CEF71D</td><td>Under 18</td></tr>",
                            "<tr><td>52</td><td>33</td><td>0x00F1839A117B7941894B8600985EDDFD020000007155D8E012C7274D9FFBD7EF09F4504E81C166673165D6E7157719FB33BCFAA96CDEB4085468B12A4850B9CC21304EEBBDE5849AAD68135B0CDCF2BEEE8FEB3C</td><td>Senior Citizen</td></tr>",
                            "<tr><td>53</td><td>20</td><td>0x00F1839A117B7941894B8600985EDDFD02000000A9DADFB7146FE88B5A95C698733C1705D396832E47277F39535D483218FFBF441A880D10241C3024D300243E32A15F80</td><td>Young Adult</td></tr>",
                            "<tr><td>54</td><td>4</td><td>0x00F1839A117B7941894B8600985EDDFD02000000F9BF78A90E2B63C72BB695A088F9C2E08631B03623B9C8BAB84214EB67BDF1BE60CFC1725FE5529FDA95BB1F34277434</td><td>Young Adult</td></tr>",
                            "<tr><td>55</td><td>52</td><td>0x00F1839A117B7941894B8600985EDDFD020000009D2CECE4978A29A1978724E754021163DC13565214CB0D2F7888B31423895CB5A28803E65708B5D4C88F6620D8A59F257DE27B97013CACBD04A8FC7ED03241F2</td><td>Under 18</td></tr>",
                            "<tr><td>56</td><td>59</td><td>0x00F1839A117B7941894B8600985EDDFD020000004C019E0A88699648918A59BBE67D269EF0AF3264BC0BA086B97356E34835D8B7F508E8458201638AB8C7F3DB4AAD4F83C725FEBBAEAF4F894DFCE93470F161D7</td><td>Young Adult</td></tr>",
                            "<tr><td>57</td><td>34</td><td>0x00F1839A117B7941894B8600985EDDFD020000008C12AC3CEFCE467D669D6BD3893D35AC04CF385C18678EC05E1F151D9422C74251C8AFEDC6084E8D034F510912BB4A9CE92EED49D7505549327D8BA436593CBF</td><td>Young Adult</td></tr>",
                            "<tr><td>58</td><td>26</td><td>0x00F1839A117B7941894B8600985EDDFD02000000317E41EE1CFB752D46837A7AA2E68FBEF7ADF70C9814A6EC19A4FAF69A9D26EFA656A901572D17C0E03D8303E59FADDC50217C8792D8EE4A9839306E9B49D6D0</td><td>Young Adult</td></tr>",
                            "<tr><td>59</td><td>35</td><td>0x00F1839A117B7941894B8600985EDDFD02000000BCB2C438448919CE200B6A6F4412454238D2B0136AEBCB326EE073569A1F0C846976253E66B2263D942E6A0584DE9FD5</td><td>Under 18</td></tr>",
                            "<tr><td>60</td><td>59</td><td>0x00F1839A117B7941894B8600985EDDFD02000000686EDDD71160C3BA7EFE6FA0C80D349AAE7D9C56673AEE74763FFDACEC7E05AF3E5E44E229F2F6F04C65E000CC889733</td><td>Young Adult</td></tr>",
                            "</table>"
                        ]
                    }
                }
            ],
            "execution_count": 159
        },
        {
            "cell_type": "code",
            "source": [
                "-- View to get CustomerRideHistoryView\n",
                "CREATE VIEW CustomerRideHistoryView AS\n",
                "    SELECT\n",
                "        -- Concatenate the user's first name and last name to form the full name\n",
                "        users.UserFName + ' ' + users.UserLName AS \"Customer Full Name\",\n",
                "        \n",
                "        -- Count the total number of rides for each customer\n",
                "        COUNT(trip.Cost) AS \"Total Rides\",\n",
                "        \n",
                "        -- Sum the total cost spent on rides for each customer\n",
                "        SUM(trip.Cost) AS \"Total Ride Spend\"\n",
                "        \n",
                "        -- AVG(trip.Cost) AS \"Average Cost per Ride\" -- Commented out as not currently used\n",
                "    FROM\n",
                "        -- Join the User table to get customer information\n",
                "        [User] users\n",
                "        JOIN Customer cust ON users.UserID = cust.CustomerID\n",
                "        \n",
                "        -- Left join to include customers who may not have made any ride requests\n",
                "        LEFT JOIN RideRequest ride ON cust.CustomerID = ride.CustomerID\n",
                "        \n",
                "        -- Join the TripEstimate table to get information about each ride\n",
                "        JOIN TripEstimate trip ON ride.EstimationID = trip.EstimationId\n",
                "    WHERE\n",
                "        -- Filter for completed trips (TripCompletionFlag = 1)\n",
                "        ride.TripCompletionFlag = 1\n",
                "    GROUP BY\n",
                "        -- Group the results by customer full name to aggregate information for each customer\n",
                "        users.UserFName + ' ' + users.UserLName;"
            ],
            "metadata": {
                "language": "sql",
                "azdata_cell_guid": "a0be4a59-2216-4560-aa79-28a0a68a6ce3",
                "tags": [
                    "hide_input"
                ]
            },
            "outputs": [],
            "execution_count": null
        },
        {
            "cell_type": "code",
            "source": [
                "-- Retrieve data from the CustomerRideHistoryView\n",
                "SELECT *\n",
                "FROM CustomerRideHistoryView\n",
                "ORDER BY \"Total Ride Spend\" DESC;"
            ],
            "metadata": {
                "language": "sql",
                "azdata_cell_guid": "6536a5bc-ac0b-4cbd-85f9-74cde83cfabd",
                "tags": [
                    "hide_input"
                ]
            },
            "outputs": [],
            "execution_count": null
        },
        {
            "cell_type": "code",
            "source": [
                "-- View to get ServiceRequest Details\n",
                "CREATE VIEW ServiceRequestDetailsView AS\n",
                "    -- Selecting columns from Vehicle, ServiceRequest, and Service tables\n",
                "    SELECT\n",
                "        v.VehicleId,\n",
                "        v.VehicleType,\n",
                "        s.ServiceDetails,\n",
                "        s.ServiceName,\n",
                "        s.ServiceCompanyName\n",
                "    FROM\n",
                "        -- Using RIGHT JOIN to include Vehicle records even if there are no matching ServiceRequest records\n",
                "        Vehicle v\n",
                "    RIGHT JOIN ServiceRequest sr ON sr.VehicleId = v.VehicleId\n",
                "    JOIN [Service] s ON sr.ServiceId = s.ServiceId;"
            ],
            "metadata": {
                "language": "sql",
                "azdata_cell_guid": "9c0117ed-64b3-4727-a2e9-d376aaa81343",
                "tags": [
                    "hide_input"
                ]
            },
            "outputs": [],
            "execution_count": null
        },
        {
            "cell_type": "code",
            "source": [
                "-- Retrieve data from the ServiceRequestDetailsView\n",
                "SELECT *\n",
                "FROM ServiceRequestDetailsView;"
            ],
            "metadata": {
                "language": "sql",
                "azdata_cell_guid": "333a8ea4-b01c-4bf1-a99a-68f3e2b0ee1b",
                "tags": [
                    "hide_input"
                ]
            },
            "outputs": [],
            "execution_count": null
        },
        {
            "cell_type": "code",
            "source": [
                "-- View to get CustomerAndVehicle Details\n",
                "-- Create a view to combine customer and vehicle information for easy retrieval\n",
                "CREATE VIEW CustomerAndVehicleView AS\n",
                "SELECT\n",
                "    C.CustomerId,                                -- Unique identifier for each customer\n",
                "    U.UserFName+' '+U.UserLName AS CustomerName, -- Concatenating first and last name for the customer's full name\n",
                "    V.VehicleId,                                 -- Unique identifier for each vehicle\n",
                "    V.VehicleType,                               -- Type or model of the vehicle\n",
                "    V.ServiceInfo AS VehicleServiceInfo          -- Information about the vehicle's service history\n",
                "FROM\n",
                "    Customer C\n",
                "JOIN\n",
                "    [User] U ON C.UserID = U.UserID              -- Joining with the User table to get customer details\n",
                "JOIN\n",
                "    Vehicle V ON C.CustomerId = V.VehicleId;     -- Joining with the Vehicle table to get vehicle details"
            ],
            "metadata": {
                "language": "sql",
                "azdata_cell_guid": "84d5d6b4-026c-4a9e-a45f-ba80ccfef7ee",
                "tags": [
                    "hide_input"
                ]
            },
            "outputs": [],
            "execution_count": null
        },
        {
            "cell_type": "code",
            "source": [
                "-- Retrieve data from the CREATE VIEW CustomerAndVehicleView\n",
                "SELECT *\n",
                "FROM CustomerAndVehicleView;"
            ],
            "metadata": {
                "language": "sql",
                "azdata_cell_guid": "c7a0f6a6-4f89-4b71-bcfc-b31f37768c03",
                "tags": [
                    "hide_input"
                ]
            },
            "outputs": [],
            "execution_count": null
        },
        {
            "cell_type": "code",
            "source": [
                "-- View to get VehicleRequested Details\n",
                "-- Create a view to display vehicle statistics, specifically the count of requested vehicles\n",
                "CREATE VIEW VehicleRequestedView AS\n",
                "SELECT \n",
                "    v.VehicleType,                                -- Type or model of the vehicle\n",
                "    COUNT(nrr.VehicleID) AS \"Count of Vehicle Requested\"  -- Count of vehicles requested (completed trips)\n",
                "FROM \n",
                "    Vehicle v\n",
                "LEFT JOIN \n",
                "    (SELECT r.* FROM RideRequest r WHERE r.TripCompletionFlag = 1) nrr \n",
                "    ON v.VehicleId = nrr.VehicleID\n",
                "GROUP BY \n",
                "    v.VehicleType;"
            ],
            "metadata": {
                "language": "sql",
                "azdata_cell_guid": "129fcc4c-c4c1-4333-afbf-1e8b19ade6b4",
                "tags": [
                    "hide_input"
                ]
            },
            "outputs": [],
            "execution_count": null
        },
        {
            "cell_type": "code",
            "source": [
                "-- Retrieve data from the CREATE VIEW VehicleRequestedView\n",
                "SELECT *\n",
                "FROM VehicleRequestedView;"
            ],
            "metadata": {
                "language": "sql",
                "azdata_cell_guid": "16211adb-5162-4ff7-9478-fc469e0e3afc",
                "tags": [
                    "hide_input"
                ]
            },
            "outputs": [],
            "execution_count": null
        },
        {
            "cell_type": "code",
            "source": [
                "/* Delete all the data from all the tables */\n",
                "-- Delete all data from the RideRequest table\n",
                "DELETE FROM RideRequest;\n",
                "\n",
                "-- Delete all data from the Feedback table\n",
                "DELETE FROM Feedback;\n",
                "\n",
                "-- Delete all data from the Driver table\n",
                "DELETE FROM Driver;\n",
                "\n",
                "-- Delete all data from the ServiceRequest table\n",
                "DELETE FROM ServiceRequest;\n",
                "\n",
                "-- Delete all data from the InsuranceLogs table\n",
                "DELETE FROM InsuranceLogs;\n",
                "\n",
                "-- Delete all data from the TripEstimate table\n",
                "DELETE FROM TripEstimate;\n",
                "\n",
                "-- Delete all data from the Customer table\n",
                "DELETE FROM Customer;\n",
                "\n",
                "-- Delete all data from the [User] table\n",
                "DELETE FROM [User];\n",
                "\n",
                "-- Delete all data from the Vehicle table\n",
                "DELETE FROM Vehicle;\n",
                "\n",
                "-- Delete all data from the Insurance table\n",
                "DELETE FROM Insurance;\n",
                "\n",
                "-- Delete all data from the Service table\n",
                "DELETE FROM Service;\n",
                ""
            ],
            "metadata": {
                "language": "sql",
                "azdata_cell_guid": "ab1f1caa-a7eb-4abc-b19c-83298aaefb5a",
                "tags": [
                    "hide_input"
                ]
            },
            "outputs": [],
            "execution_count": null
        },
        {
            "cell_type": "code",
            "source": [
                "/* INSERT STATEMENTS */\n",
                "\n",
                "-- Inserting Data in Service Table\n",
                "INSERT INTO Service (ServiceId, ServiceCompanyName, ServiceName, ServiceDetails)\n",
                "VALUES\n",
                "    (1, 'ABC Service Company', 'Regular Maintenance', 'Detailed inspection of brake system'),\n",
                "    (2, 'ABC Service Company', 'Coolant Flush', 'Deep cleaning of the vehicle interior'),\n",
                "    (3, 'QuickOil', 'Oil Change', 'Fast and efficient oil change service'),\n",
                "    (4, 'QuickOil', 'Transmission Check', 'Fast and efficient oil change service'),\n",
                "    (5, 'Sparkle Wash', 'Car Wash', 'Detailed inspection of brake system'),\n",
                "    (6, 'XYZ Repairs', 'Transmission Check', 'Professional coolant system flushing'),\n",
                "    (7, 'Brake Master', 'Express Oil Change', 'Fast and efficient oil change service'),\n",
                "    (8, 'Electro Tune', 'Express Oil Change', 'Exterior and interior cleaning services'),\n",
                "    (9, 'Coolant Experts', 'Brake Replacement', 'Quick oil change with minimal waiting time'),\n",
                "    (10, 'QuickOil', 'Coolant Flush', 'Deep cleaning of the vehicle interior'),\n",
                "    (11, 'Sparkle Wash', 'Regular Maintenance', 'Exterior and interior cleaning services'),\n",
                "    (12, 'Brake Master', 'Car Wash', 'Quick oil change with minimal waiting time'),\n",
                "    (13, 'Coolant Experts', 'Car Wash', 'Thorough inspection of transmission components'),\n",
                "    (14, 'Speedy Repairs', 'Electrical System Check', 'Detailed inspection of brake system'),\n",
                "    (15, 'Electro Tune', 'Brake Replacement', 'Thorough inspection of transmission components'),\n",
                "    (16, 'Electro Tune', 'Coolant Flush', 'Detailed inspection of brake system'),\n",
                "    (17, 'QuickOil', 'Brake Replacement', 'Check and repair electrical components'),\n",
                "    (18, 'QuickOil', 'Electrical System Check', 'Detailed inspection of brake system'),\n",
                "    (19, 'Speedy Repairs', 'Car Wash', 'Replacement of worn-out brake components'),\n",
                "    (20, 'QuickOil', 'Express Oil Change', 'Check and repair electrical components'),\n",
                "    (21, 'Electro Tune', 'Electrical System Check', 'Replacement of worn-out brake components'),\n",
                "    (22, 'Express Oil Change', 'Car Wash', 'Check and repair electrical components'),\n",
                "    (23, 'ABC Service Company', 'Transmission Check', 'Detailed inspection of brake system'),\n",
                "    (24, 'Electro Tune', 'Express Oil Change', 'Exterior and interior cleaning services'),\n",
                "    (25, 'Sparkle Wash', 'Coolant Flush', 'Professional coolant system flushing'),\n",
                "    (26, 'Sunshine Detailing', 'Interior Detailing', 'Thorough inspection of transmission components'),\n",
                "    (27, 'QuickOil', 'Interior Detailing', 'Scheduled maintenance and inspection'),\n",
                "    (28, 'Coolant Experts', 'Oil Change', 'Deep cleaning of the vehicle interior'),\n",
                "    (29, 'XYZ Repairs', 'Transmission Check', 'Professional coolant system flushing'),\n",
                "    (30, 'Sunshine Detailing', 'Express Oil Change', 'Detailed inspection of brake system'),\n",
                "    (31, 'Sparkle Wash', 'Interior Detailing', 'Fast and efficient oil change service'),\n",
                "    (32, 'Coolant Experts', 'Brake Inspection', 'Check and repair electrical components'),\n",
                "    (33, 'Sunshine Detailing', 'Express Oil Change', 'Replacement of worn-out brake components'),\n",
                "    (34, 'QuickOil', 'Car Wash', 'Exterior and interior cleaning services'),\n",
                "    (35, 'Brake Master', 'Express Oil Change', 'Detailed inspection of brake system'),\n",
                "    (36, 'ABC Service Company', 'Interior Detailing', 'Replacement of worn-out brake components'),\n",
                "    (37, 'Express Oil Change', 'Brake Inspection', 'Scheduled maintenance and inspection'),\n",
                "    (38, 'Speedy Repairs', 'Brake Inspection', 'Scheduled maintenance and inspection'),\n",
                "    (39, 'Express Oil Change', 'Brake Replacement', 'Thorough inspection of transmission components'),\n",
                "    (40, 'Brake Master', 'Brake Replacement', 'Professional coolant system flushing'),\n",
                "    (41, 'Speedy Repairs', 'Regular Maintenance', 'Exterior and interior cleaning services'),\n",
                "    (42, 'Speedy Repairs', 'Car Wash', 'Detailed inspection of brake system'),\n",
                "    (43, 'XYZ Repairs', 'Interior Detailing', 'Thorough inspection of transmission components'),\n",
                "    (44, 'Brake Master', 'Transmission Check', 'Thorough inspection of transmission components'),\n",
                "    (45, 'Sunshine Detailing', 'Brake Inspection', 'Detailed inspection of brake system'),\n",
                "    (46, 'Sparkle Wash', 'Brake Replacement', 'Fast and efficient oil change service'),\n",
                "    (47, 'ABC Service Company', 'Transmission Check', 'Deep cleaning of the vehicle interior'),\n",
                "    (48, 'Speedy Repairs', 'Car Wash', 'Exterior and interior cleaning services'),\n",
                "    (49, 'Sparkle Wash', 'Express Oil Change', 'Replacement of worn-out brake components'),\n",
                "    (50, 'XYZ Repairs', 'Express Oil Change', 'Quick oil change with minimal waiting time'),\n",
                "    (51, 'Electro Tune', 'Electrical System Check', 'Quick oil change with minimal waiting time'),\n",
                "    (52, 'QuickOil', 'Regular Maintenance', 'Quick oil change with minimal waiting time'),\n",
                "    (53, 'ABC Service Company', 'Coolant Flush', 'Deep cleaning of the vehicle interior'),\n",
                "    (54, 'QuickOil', 'Express Oil Change', 'Check and repair electrical components'),\n",
                "    (55, 'Coolant Experts', 'Brake Replacement', 'Replacement of worn-out brake components'),\n",
                "    (56, 'Speedy Repairs', 'Interior Detailing', 'Detailed inspection of brake system'),\n",
                "    (57, 'QuickOil', 'Regular Maintenance', 'Check and repair electrical components'),\n",
                "    (58, 'XYZ Repairs', 'Express Oil Change', 'Exterior and interior cleaning services'),\n",
                "    (59, 'Speedy Repairs', 'Oil Change', 'Thorough inspection of transmission components'),\n",
                "    (60, 'Coolant Experts', 'Electrical System Check', 'Professional coolant system flushing'),\n",
                "    (61, 'Speedy Repairs', 'Car Wash', 'Fast and efficient oil change service'),\n",
                "    (62, 'Speedy Repairs', 'Regular Maintenance', 'Scheduled maintenance and inspection'),\n",
                "    (63, 'ABC Service Company', 'Oil Change', 'Professional coolant system flushing'),\n",
                "    (64, 'Brake Master', 'Brake Inspection', 'Thorough inspection of transmission components'),\n",
                "    (65, 'XYZ Repairs', 'Interior Detailing', 'Professional coolant system flushing'),\n",
                "    (66, 'Coolant Experts', 'Interior Detailing', 'Professional coolant system flushing'),\n",
                "    (67, 'Coolant Experts', 'Regular Maintenance', 'Exterior and interior cleaning services'),\n",
                "    (68, 'Brake Master', 'Car Wash', 'Fast and efficient oil change service'),\n",
                "    (69, 'Electro Tune', 'Electrical System Check', 'Scheduled maintenance and inspection'),\n",
                "    (70, 'XYZ Repairs', 'Interior Detailing', 'Deep cleaning of the vehicle interior'),\n",
                "    (71, 'Speedy Repairs', 'Brake Replacement', 'Detailed inspection of brake system'),\n",
                "    (72, 'Express Oil Change', 'Interior Detailing', 'Scheduled maintenance and inspection'),\n",
                "    (73, 'XYZ Repairs', 'Oil Change', 'Check and repair electrical components'),\n",
                "    (74, 'Sparkle Wash', 'Express Oil Change', 'Thorough inspection of transmission components'),\n",
                "    (75, 'Sunshine Detailing', 'Coolant Flush', 'Deep cleaning of the vehicle interior'),\n",
                "    (76, 'Express Oil Change', 'Electrical System Check', 'Exterior and interior cleaning services'),\n",
                "    (77, 'ABC Service Company', 'Electrical System Check', 'Thorough inspection of transmission components'),\n",
                "    (78, 'ABC Service Company', 'Oil Change', 'Quick oil change with minimal waiting time'),\n",
                "    (79, 'Sunshine Detailing', 'Oil Change', 'Fast and efficient oil change service'),\n",
                "    (80, 'Speedy Repairs', 'Express Oil Change', 'Quick oil change with minimal waiting time'),\n",
                "    (81, 'Sunshine Detailing', 'Electrical System Check', 'Exterior and interior cleaning services'),\n",
                "    (82, 'Brake Master', 'Transmission Check', 'Detailed inspection of brake system'),\n",
                "    (83, 'Speedy Repairs', 'Car Wash', 'Quick oil change with minimal waiting time'),\n",
                "    (84, 'Express Oil Change', 'Electrical System Check', 'Detailed inspection of brake system'),\n",
                "    (85, 'ABC Service Company', 'Regular Maintenance', 'Replacement of worn-out brake components'),\n",
                "    (86, 'QuickOil', 'Coolant Flush', 'Thorough inspection of transmission components'),\n",
                "    (87, 'Express Oil Change', 'Car Wash', 'Check and repair electrical components'),\n",
                "    (88, 'Sparkle Wash', 'Transmission Check', 'Scheduled maintenance and inspection'),\n",
                "    (89, 'QuickOil', 'Express Oil Change', 'Exterior and interior cleaning services'),\n",
                "    (90, 'Sparkle Wash', 'Transmission Check', 'Detailed inspection of brake system'),\n",
                "    (91, 'Sunshine Detailing', 'Brake Replacement', 'Replacement of worn-out brake components'),\n",
                "    (92, 'Brake Master', 'Coolant Flush', 'Fast and efficient oil change service'),\n",
                "    (93, 'XYZ Repairs', 'Car Wash', 'Detailed inspection of brake system'),\n",
                "    (94, 'Sparkle Wash', 'Coolant Flush', 'Deep cleaning of the vehicle interior'),\n",
                "    (95, 'Sparkle Wash', 'Car Wash', 'Deep cleaning of the vehicle interior'),\n",
                "    (96, 'ABC Service Company', 'Express Oil Change', 'Thorough inspection of transmission components'),\n",
                "    (97, 'ABC Service Company', 'Transmission Check', 'Thorough inspection of transmission components'),\n",
                "    (98, 'Brake Master', 'Coolant Flush', 'Exterior and interior cleaning services'),\n",
                "    (99, 'Brake Master', 'Car Wash', 'Fast and efficient oil change service'),\n",
                "    (100, 'Sparkle Wash', 'Coolant Flush', 'Detailed inspection of brake system');\n",
                "\n",
                "-- Inserting Data in Insurance Table\n",
                "INSERT INTO Insurance (InsuranceId, InsuranceProvider, InsuranceCoverage, InsurancePremium, InsuranceDeductible)\n",
                "VALUES\n",
                "    (1, 'SureSafety Insurance', 'Comprehensive Coverage', 564, 88),\n",
                "    (2, 'FastCover Insurance', 'Comprehensive Coverage', 414, 27),\n",
                "    (3, 'Guardian Insurers', 'Liability Coverage', 906, 67),\n",
                "    (4, 'XYZ Insurance', 'Full Coverage', 369, 38),\n",
                "    (5, 'FastCover Insurance', 'Medical Payments Coverage', 457, 29),\n",
                "    (6, 'Swift Assurance', 'Personal Injury Protection', 915, 100),\n",
                "    (7, 'Shield Protect', 'Full Coverage', 184, 30),\n",
                "    (8, 'SureSafety Insurance', 'Rental Car Coverage', 667, 55),\n",
                "    (9, 'Guardian Insurers', 'Medical Payments Coverage', 329, 19),\n",
                "    (10, 'SureSafety Insurance', 'Personal Injury Protection', 982, 33),\n",
                "    (11, 'Guardian Shield', 'Uninsured Motorist Coverage', 432, 41),\n",
                "    (12, 'SureSafety Insurance', 'Roadside Assistance', 180, 74),\n",
                "    (13, 'SecureRide Insurance', 'Uninsured Motorist Coverage', 632, 79),\n",
                "    (14, 'SafeDrive Assurance', 'Comprehensive Coverage', 209, 20),\n",
                "    (15, 'SafeDrive Assurance', 'Rental Car Coverage', 797, 55),\n",
                "    (16, 'SafeDrive Assurance', 'Full Coverage', 857, 70),\n",
                "    (17, 'SecureRide Insurance', 'Underinsured Motorist Coverage', 190, 17),\n",
                "    (18, 'Shield Protect', 'Full Coverage', 908, 17),\n",
                "    (19, 'SecureRide Insurance', 'Full Coverage', 773, 71),\n",
                "    (20, 'TotalProtect Insurers', 'Personal Injury Protection', 945, 21),\n",
                "    (21, 'Swift Assurance', 'Underinsured Motorist Coverage', 827, 24),\n",
                "    (22, 'Guardian Shield', 'Underinsured Motorist Coverage', 349, 26),\n",
                "    (23, 'SureSafety Insurance', 'Uninsured Motorist Coverage', 805, 57),\n",
                "    (24, 'Guardian Insurers', 'Collision Coverage', 503, 15),\n",
                "    (25, 'SafeDrive Assurance', 'Liability Coverage', 870, 26),\n",
                "    (26, 'SafeDrive Assurance', 'Collision Coverage', 736, 33),\n",
                "    (27, 'SecureRide Insurance', 'Full Coverage', 956, 81),\n",
                "    (28, 'Swift Assurance', 'Roadside Assistance', 144, 10),\n",
                "    (29, 'SafeDrive Assurance', 'Rental Car Coverage', 853, 100),\n",
                "    (30, 'TotalProtect Insurers', 'Uninsured Motorist Coverage', 554, 46),\n",
                "    (31, 'Guardian Insurers', 'Rental Car Coverage', 345, 78),\n",
                "    (32, 'XYZ Insurance', 'Underinsured Motorist Coverage', 395, 13),\n",
                "    (33, 'SafeDrive Assurance', 'Comprehensive Coverage', 552, 11),\n",
                "    (34, 'SureSafety Insurance', 'Underinsured Motorist Coverage', 454, 92),\n",
                "    (35, 'Shield Protect', 'Full Coverage', 401, 25),\n",
                "    (36, 'FastCover Insurance', 'Underinsured Motorist Coverage', 559, 13),\n",
                "    (37, 'Guardian Insurers', 'Comprehensive Coverage', 624, 31),\n",
                "    (38, 'TotalProtect Insurers', 'Liability Coverage', 617, 38),\n",
                "    (39, 'Guardian Insurers', 'Liability Coverage', 935, 55),\n",
                "    (40, 'Guardian Insurers', 'Rental Car Coverage', 833, 64),\n",
                "    (41, 'TotalProtect Insurers', 'Rental Car Coverage', 906, 13),\n",
                "    (42, 'XYZ Insurance', 'Uninsured Motorist Coverage', 577, 18),\n",
                "    (43, 'XYZ Insurance', 'Full Coverage', 219, 21),\n",
                "    (44, 'Guardian Shield', 'Underinsured Motorist Coverage', 242, 16),\n",
                "    (45, 'FastCover Insurance', 'Roadside Assistance', 918, 80),\n",
                "    (46, 'Shield Protect', 'Rental Car Coverage', 447, 84),\n",
                "    (47, 'SafeDrive Assurance', 'Underinsured Motorist Coverage', 874, 71),\n",
                "    (48, 'Shield Protect', 'Medical Payments Coverage', 280, 14),\n",
                "    (49, 'XYZ Insurance', 'Collision Coverage', 405, 70),\n",
                "    (50, 'SafeDrive Assurance', 'Underinsured Motorist Coverage', 396, 81),\n",
                "    (51, 'XYZ Insurance', 'Rental Car Coverage', 627, 86),\n",
                "    (52, 'FastCover Insurance', 'Liability Coverage', 290, 21),\n",
                "    (53, 'SafeDrive Assurance', 'Full Coverage', 385, 38),\n",
                "    (54, 'XYZ Insurance', 'Full Coverage', 357, 34),\n",
                "    (55, 'SureSafety Insurance', 'Uninsured Motorist Coverage', 196, 54),\n",
                "    (56, 'Guardian Insurers', 'Collision Coverage', 538, 33),\n",
                "    (57, 'Guardian Shield', 'Liability Coverage', 302, 94),\n",
                "    (58, 'Guardian Shield', 'Rental Car Coverage', 353, 47),\n",
                "    (59, 'Guardian Shield', 'Liability Coverage', 342, 69),\n",
                "    (60, 'Guardian Shield', 'Comprehensive Coverage', 705, 80),\n",
                "    (61, 'SureSafety Insurance', 'Personal Injury Protection', 240, 93),\n",
                "    (62, 'TotalProtect Insurers', 'Uninsured Motorist Coverage', 242, 14),\n",
                "    (63, 'XYZ Insurance', 'Comprehensive Coverage', 874, 65),\n",
                "    (64, 'Swift Assurance', 'Full Coverage', 945, 26),\n",
                "    (65, 'Swift Assurance', 'Collision Coverage', 781, 98),\n",
                "    (66, 'Swift Assurance', 'Rental Car Coverage', 457, 38),\n",
                "    (67, 'Shield Protect', 'Medical Payments Coverage', 568, 39),\n",
                "    (68, 'Guardian Shield', 'Roadside Assistance', 763, 47),\n",
                "    (69, 'Guardian Insurers', 'Personal Injury Protection', 250, 36),\n",
                "    (70, 'SafeDrive Assurance', 'Full Coverage', 758, 85),\n",
                "    (71, 'TotalProtect Insurers', 'Liability Coverage', 474, 49),\n",
                "    (72, 'XYZ Insurance', 'Full Coverage', 465, 13),\n",
                "    (73, 'Shield Protect', 'Liability Coverage', 542, 93),\n",
                "    (74, 'XYZ Insurance', 'Full Coverage', 235, 61),\n",
                "    (75, 'SafeDrive Assurance', 'Liability Coverage', 814, 98),\n",
                "    (76, 'Swift Assurance', 'Underinsured Motorist Coverage', 724, 27),\n",
                "    (77, 'Guardian Insurers', 'Roadside Assistance', 505, 37),\n",
                "    (78, 'TotalProtect Insurers', 'Liability Coverage', 629, 24),\n",
                "    (79, 'SureSafety Insurance', 'Rental Car Coverage', 693, 64),\n",
                "    (80, 'SureSafety Insurance', 'Rental Car Coverage', 667, 72),\n",
                "    (81, 'Guardian Insurers', 'Roadside Assistance', 317, 45),\n",
                "    (82, 'SureSafety Insurance', 'Personal Injury Protection', 548, 80),\n",
                "    (83, 'FastCover Insurance', 'Roadside Assistance', 977, 30),\n",
                "    (84, 'FastCover Insurance', 'Collision Coverage', 539, 55),\n",
                "    (85, 'Shield Protect', 'Rental Car Coverage', 470, 69),\n",
                "    (86, 'SureSafety Insurance', 'Full Coverage', 207, 84),\n",
                "    (87, 'Shield Protect', 'Comprehensive Coverage', 684, 15),\n",
                "    (88, 'XYZ Insurance', 'Medical Payments Coverage', 360, 24),\n",
                "    (89, 'Swift Assurance', 'Medical Payments Coverage', 899, 53),\n",
                "    (90, 'Guardian Shield', 'Medical Payments Coverage', 807, 27),\n",
                "    (91, 'SecureRide Insurance', 'Uninsured Motorist Coverage', 529, 66),\n",
                "    (92, 'Shield Protect', 'Collision Coverage', 480, 21),\n",
                "    (93, 'SecureRide Insurance', 'Personal Injury Protection', 743, 72),\n",
                "    (94, 'Guardian Shield', 'Uninsured Motorist Coverage', 665, 20),\n",
                "    (95, 'Swift Assurance', 'Underinsured Motorist Coverage', 201, 21),\n",
                "    (96, 'SureSafety Insurance', 'Roadside Assistance', 803, 48),\n",
                "    (97, 'SecureRide Insurance', 'Uninsured Motorist Coverage', 734, 60),\n",
                "    (98, 'SafeDrive Assurance', 'Underinsured Motorist Coverage', 980, 54),\n",
                "    (99, 'SecureRide Insurance', 'Underinsured Motorist Coverage', 677, 53),\n",
                "    (100, 'FastCover Insurance', 'Personal Injury Protection', 202, 35);\n",
                "\n",
                "-- Inserting Data in Vehicle Table\n",
                "INSERT INTO Vehicle (VehicleId, VehicleType, ServiceInfo, InsuranceInfo)\n",
                "VALUES\n",
                "    (1, 'Sedan', 'Monthly check-ups', 'Y'),\n",
                "    (2, 'Minivan', 'Fuel-efficient model', 'N'),\n",
                "    (3, 'Compact', 'Regularly serviced', 'N'),\n",
                "    (4, 'Truck', 'Family-friendly model', 'N'),\n",
                "    (5, 'Electric Car', 'Monthly check-ups', 'N'),\n",
                "    (6, 'Sedan', 'Luxury vehicle maintenance', 'N'),\n",
                "    (7, 'SUV', 'Heavy-duty maintenance', 'Y'),\n",
                "    (8, 'Motorcycle', 'Luxury vehicle maintenance', 'Y'),\n",
                "    (9, 'Compact', 'Family-friendly model', 'Y'),\n",
                "    (10, 'Electric Car', 'Heavy-duty maintenance', 'N'),\n",
                "    (11, 'Electric Car', 'Fuel-efficient model', 'Y'),\n",
                "    (12, 'SUV', 'Specialized care', 'N'),\n",
                "    (13, 'Electric Car', 'Heavy-duty maintenance', 'N'),\n",
                "    (14, 'Convertible', 'Fuel-efficient model', 'N'),\n",
                "    (15, 'Limousine', 'Battery system inspection', 'N'),\n",
                "    (16, 'Electric Car', 'Fuel-efficient model', 'N'),\n",
                "    (17, 'Sedan', 'Battery system inspection', 'N'),\n",
                "    (18, 'Electric Car', 'Fuel-efficient model', 'Y'),\n",
                "    (19, 'Motorcycle', 'Heavy-duty maintenance', 'N'),\n",
                "    (20, 'Convertible', 'Specialized care', 'N'),\n",
                "    (21, 'Truck', 'Battery system inspection', 'Y'),\n",
                "    (22, 'Electric Car', 'Specialized care', 'Y'),\n",
                "    (23, 'Hatchback', 'Battery system inspection', 'Y'),\n",
                "    (24, 'Compact', 'Luxury vehicle maintenance', 'N'),\n",
                "    (25, 'Limousine', 'Regularly serviced', 'N'),\n",
                "    (26, 'SUV', 'Fuel-efficient model', 'Y'),\n",
                "    (27, 'Minivan', 'Heavy-duty maintenance', 'Y'),\n",
                "    (28, 'Minivan', 'Battery system inspection', 'Y'),\n",
                "    (29, 'Sedan', 'Regularly serviced', 'Y'),\n",
                "    (30, 'Compact', 'Specialized care', 'N'),\n",
                "    (31, 'Motorcycle', 'Specialized care', 'Y'),\n",
                "    (32, 'Electric Car', 'Regularly serviced', 'Y'),\n",
                "    (33, 'Motorcycle', 'Specialized care', 'N'),\n",
                "    (34, 'Compact', 'Battery system inspection', 'N'),\n",
                "    (35, 'SUV', 'Heavy-duty maintenance', 'Y'),\n",
                "    (36, 'Compact', 'Luxury vehicle maintenance', 'Y'),\n",
                "    (37, 'Sedan', 'Family-friendly model', 'N'),\n",
                "    (38, 'Sedan', 'Monthly check-ups', 'Y'),\n",
                "    (39, 'Limousine', 'Monthly check-ups', 'Y'),\n",
                "    (40, 'Hatchback', 'Battery system inspection', 'N'),\n",
                "    (41, 'SUV', 'Regularly serviced', 'Y'),\n",
                "    (42, 'Sedan', 'Monthly check-ups', 'N'),\n",
                "    (43, 'Compact', 'Heavy-duty maintenance', 'Y'),\n",
                "    (44, 'Limousine', 'Monthly check-ups', 'Y'),\n",
                "    (45, 'Compact', 'Specialized care', 'N'),\n",
                "    (46, 'Convertible', 'Specialized care', 'N'),\n",
                "    (47, 'Sedan', 'Heavy-duty maintenance', 'N'),\n",
                "    (48, 'Motorcycle', 'Specialized care', 'N'),\n",
                "    (49, 'SUV', 'Monthly check-ups', 'Y'),\n",
                "    (50, 'SUV', 'Heavy-duty maintenance', 'Y'),\n",
                "    (51, 'Motorcycle', 'Specialized care', 'Y'),\n",
                "    (52, 'Motorcycle', 'Bi-annual check-ups', 'N'),\n",
                "    (53, 'Electric Car', 'Luxury vehicle maintenance', 'Y'),\n",
                "    (54, 'Minivan', 'Bi-annual check-ups', 'Y'),\n",
                "    (55, 'SUV', 'Monthly check-ups', 'N'),\n",
                "    (56, 'Minivan', 'Heavy-duty maintenance', 'N'),\n",
                "    (57, 'Hatchback', 'Specialized care', 'N'),\n",
                "    (58, 'Limousine', 'Monthly check-ups', 'N'),\n",
                "    (59, 'Truck', 'Monthly check-ups', 'Y'),\n",
                "    (60, 'Hatchback', 'Monthly check-ups', 'Y'),\n",
                "    (61, 'Electric Car', 'Monthly check-ups', 'N'),\n",
                "    (62, 'SUV', 'Specialized care', 'Y'),\n",
                "    (63, 'Hatchback', 'Heavy-duty maintenance', 'Y'),\n",
                "    (64, 'Truck', 'Bi-annual check-ups', 'N'),\n",
                "    (65, 'Sedan', 'Specialized care', 'N'),\n",
                "    (66, 'Electric Car', 'Battery system inspection', 'N'),\n",
                "    (67, 'Sedan', 'Bi-annual check-ups', 'N'),\n",
                "    (68, 'Compact', 'Battery system inspection', 'N'),\n",
                "    (69, 'Minivan', 'Battery system inspection', 'Y'),\n",
                "    (70, 'Convertible', 'Heavy-duty maintenance', 'N'),\n",
                "    (71, 'Truck', 'Fuel-efficient model', 'N'),\n",
                "    (72, 'Minivan', 'Heavy-duty maintenance', 'Y'),\n",
                "    (73, 'SUV', 'Regularly serviced', 'N'),\n",
                "    (74, 'Convertible', 'Monthly check-ups', 'N'),\n",
                "    (75, 'Sedan', 'Bi-annual check-ups', 'N'),\n",
                "    (76, 'Sedan', 'Specialized care', 'Y'),\n",
                "    (77, 'Convertible', 'Bi-annual check-ups', 'Y'),\n",
                "    (78, 'Limousine', 'Family-friendly model', 'N'),\n",
                "    (79, 'Compact', 'Regularly serviced', 'N'),\n",
                "    (80, 'Sedan', 'Battery system inspection', 'Y'),\n",
                "    (81, 'Sedan', 'Bi-annual check-ups', 'N'),\n",
                "    (82, 'SUV', 'Family-friendly model', 'N'),\n",
                "    (83, 'Compact', 'Specialized care', 'Y'),\n",
                "    (84, 'Convertible', 'Regularly serviced', 'Y'),\n",
                "    (85, 'Compact', 'Luxury vehicle maintenance', 'N'),\n",
                "    (86, 'Electric Car', 'Specialized care', 'Y'),\n",
                "    (87, 'Sedan', 'Family-friendly model', 'N'),\n",
                "    (88, 'Minivan', 'Luxury vehicle maintenance', 'Y'),\n",
                "    (89, 'Compact', 'Luxury vehicle maintenance', 'N'),\n",
                "    (90, 'Compact', 'Specialized care', 'Y'),\n",
                "    (91, 'SUV', 'Specialized care', 'Y'),\n",
                "    (92, 'Hatchback', 'Fuel-efficient model', 'N'),\n",
                "    (93, 'Minivan', 'Specialized care', 'N'),\n",
                "    (94, 'Motorcycle', 'Fuel-efficient model', 'N'),\n",
                "    (95, 'Electric Car', 'Regularly serviced', 'Y'),\n",
                "    (96, 'Minivan', 'Battery system inspection', 'N'),\n",
                "    (97, 'Limousine', 'Luxury vehicle maintenance', 'Y'),\n",
                "    (98, 'Limousine', 'Family-friendly model', 'Y'),\n",
                "    (99, 'Electric Car', 'Specialized care', 'N'),\n",
                "    (100, 'Compact', 'Specialized care', 'N');\n",
                "\n",
                "-- Inserting Data in [User] Table\n",
                "INSERT INTO [User] (UserID, UserFName, UserLName, PhoneNumber, EmailId, DOB, BankAccInfo, UserType)\n",
                "VALUES\n",
                "    (1, 'Tiena', 'Welsby', '291-574-9014', 'twelsby0@squarespace.com', '4/11/2002', 'Bank IIII-2345-6789', 'C'),\n",
                "    (2, 'Israel', 'Hearle', '802-803-0969', 'ihearle1@amazonaws.com', null, 'Bank ABCD-1234-5678', 'C'),\n",
                "    (3, 'Teena', 'Fearon', '579-120-7519', 'tfearon2@wikia.com', null, 'Bank ZZZZ-ZZZZ-ZZZZ', 'C'),\n",
                "    (4, 'Maurice', 'Raleston', '619-829-2038', 'mraleston3@usnews.com', '11/7/2004', 'Bank HHHH-3456-7890', 'C'),\n",
                "    (5, 'Hyacintha', 'Randales', '809-365-4942', 'hrandales4@prweb.com', '10/13/2003', 'Bank GGGG-9876-5432', 'C'),\n",
                "    (6, 'Freeman', 'Cohr', '892-938-6681', 'fcohr5@w3.org', '7/28/2010', 'Bank IIII-2345-6789', 'C'),\n",
                "    (7, 'Gusti', 'Grayland', '687-806-4295', 'ggrayland6@narod.ru', '8/17/2019', 'Bank ZZZZ-ZZZZ-ZZZZ', 'D'),\n",
                "    (8, 'Quill', 'MacFaul', '808-112-9658', 'qmacfaul7@theatlantic.com', '4/18/2014', 'Bank FFFF-1234-5678', 'D'),\n",
                "    (9, 'Arly', 'Shiel', '527-620-4570', 'ashiel8@reuters.com', '8/4/2016', 'Bank IIII-2345-6789', 'D'),\n",
                "    (10, 'Merrill', 'Farnan', '744-107-7542', 'mfarnan9@hexun.com', '9/12/2001', 'Bank WXYZ-5678-9012', 'C'),\n",
                "    (11, 'Maurise', 'Perris', '755-569-1032', 'mperrisa@usatoday.com', null, 'Bank FFFF-1234-5678', 'D'),\n",
                "    (12, 'Bart', 'Lantaph', '949-948-4414', 'blantaphb@nymag.com', '7/28/2023', 'Bank YYYY-YYYY-YYYY', 'D'),\n",
                "    (13, 'Dean', 'Cornu', '964-243-9215', 'dcornuc@springer.com', '6/9/2013', 'Bank ZZZZ-ZZZZ-ZZZZ', 'D'),\n",
                "    (14, 'El', 'Priestnall', '838-864-6639', 'epriestnalld@icio.us', '1/1/2012', 'Bank XXXX-XXXX-XXXX', 'D'),\n",
                "    (15, 'Humbert', 'Korpolak', '234-465-9584', 'hkorpolake@unc.edu', null, 'Bank HHHH-3456-7890', 'D'),\n",
                "    (16, 'Elsbeth', 'Iscowitz', '572-811-4729', 'eiscowitzf@sbwire.com', '5/1/2002', 'Bank IIII-2345-6789', 'C'),\n",
                "    (17, 'Shanda', 'Keers', '138-828-7778', 'skeersg@etsy.com', '6/9/2002', 'Bank IIII-2345-6789', 'C'),\n",
                "    (18, 'Percy', 'Windeatt', '137-971-0698', 'pwindeatth@tamu.edu', '7/6/2002', 'Bank EEEE-5678-9012', 'C'),\n",
                "    (19, 'Alaric', 'Sleite', '462-508-0135', 'asleitei@scientificamerican.com', '7/18/2021', 'Bank ABCD-1234-5678', 'D'),\n",
                "    (20, 'Cherida', 'Main', '999-499-1553', 'cmainj@usda.gov', '10/10/2001', 'Bank WXYZ-5678-9012', 'D'),\n",
                "    (21, 'Andrey', 'Wincer', '666-442-2393', 'awincerk@mtv.com', '9/26/2016', 'Bank EEEE-5678-9012', 'C'),\n",
                "    (22, 'Terese', 'Kinlock', '751-294-9403', 'tkinlockl@moonfruit.com', '12/24/2011', 'Bank HHHH-3456-7890', 'C'),\n",
                "    (23, 'Baxter', 'Scraney', '235-245-5594', 'bscraneym@ca.gov', '7/6/2001', 'Bank EEEE-5678-9012', 'D'),\n",
                "    (24, 'Gracie', 'Adderley', '852-641-7945', 'gadderleyn@mozilla.com', '6/17/2001', 'Bank FFFF-1234-5678', 'C'),\n",
                "    (25, 'Katharyn', 'Graeber', '147-844-1930', 'kgraebero@dagondesign.com', '3/10/2019', 'Bank YYYY-YYYY-YYYY', 'C'),\n",
                "    (26, 'Ozzy', 'Heazel', '389-770-2370', 'oheazelp@cdc.gov', '3/27/2000', 'Bank IIII-2345-6789', 'C'),\n",
                "    (27, 'Morgan', 'McLemon', '700-268-1063', 'mmclemonq@php.net', '3/9/2001', 'Bank ABCD-1234-5678', 'C'),\n",
                "    (28, 'Scottie', 'Packer', '225-144-0632', 'spackerr@wired.com', '1/3/2011', 'Bank ABCD-1234-5678', 'C'),\n",
                "    (29, 'Shelley', 'Bartlomiej', '852-742-4446', 'sbartlomiejs@newyorker.com', '5/4/2005', 'Bank GGGG-9876-5432', 'C'),\n",
                "    (30, 'Johna', 'Capineer', '529-998-7297', 'jcapineert@sakura.ne.jp', '6/24/2009', 'Bank YYYY-YYYY-YYYY', 'D'),\n",
                "    (31, 'Dalton', 'Browell', '591-181-4096', 'dbrowellu@accuweather.com', '11/15/2006', 'Bank HHHH-3456-7890', 'D'),\n",
                "    (32, 'Jordan', 'Heyfield', '320-283-8440', 'jheyfieldv@netvibes.com', null, 'Bank HHHH-3456-7890', 'C'),\n",
                "    (33, 'Denys', 'Rickeard', '686-205-1361', 'drickeardw@geocities.com', '9/13/2015', 'Bank ZZZZ-ZZZZ-ZZZZ', 'D'),\n",
                "    (34, 'Cherie', 'Tooke', '986-667-7172', 'ctookex@meetup.com', '3/19/2019', 'Bank ZZZZ-ZZZZ-ZZZZ', 'D'),\n",
                "    (35, 'Allyn', 'Darke', '304-492-8643', 'adarkey@deviantart.com', null, 'Bank IIII-2345-6789', 'D'),\n",
                "    (36, 'Emmi', 'Teague', '371-429-2048', 'eteaguez@google.co.uk', '8/16/2022', 'Bank EEEE-5678-9012', 'C'),\n",
                "    (37, 'Reina', 'Wikey', '771-328-2298', 'rwikey10@cornell.edu', '2/22/2017', 'Bank WXYZ-5678-9012', 'C'),\n",
                "    (38, 'Augustine', 'Lawfull', '517-745-9657', 'alawfull11@forbes.com', null, 'Bank FFFF-1234-5678', 'C'),\n",
                "    (39, 'Devland', 'Keri', '319-875-3598', 'dkeri12@ucsd.edu', '10/2/2019', 'Bank WXYZ-5678-9012', 'D'),\n",
                "    (40, 'Ashlen', 'Strangeways', '939-779-5915', 'astrangeways13@home.pl', '1/14/2009', 'Bank WXYZ-5678-9012', 'D'),\n",
                "    (41, 'Maurice', 'Selwyne', '792-862-2941', 'mselwyne14@samsung.com', null, 'Bank YYYY-YYYY-YYYY', 'D'),\n",
                "    (42, 'Cherlyn', 'Rhodus', '143-128-7428', 'crhodus15@netlog.com', '3/16/2002', 'Bank YYYY-YYYY-YYYY', 'C'),\n",
                "    (43, 'Armin', 'Danelutti', '442-695-7986', 'adanelutti16@jiathis.com', null, 'Bank ABCD-1234-5678', 'C'),\n",
                "    (44, 'Cchaddie', 'Mahoney', '543-770-9406', 'cmahoney17@businesswire.com', null, 'Bank HHHH-3456-7890', 'C'),\n",
                "    (45, 'Lanita', 'Cadwaladr', '272-947-0288', 'lcadwaladr18@netscape.com', '1/2/2002', 'Bank ZZZZ-ZZZZ-ZZZZ', 'C'),\n",
                "    (46, 'Luella', 'Flasby', '887-552-5850', 'lflasby19@ehow.com', '5/7/2020', 'Bank WXYZ-5678-9012', 'D'),\n",
                "    (47, 'Nolly', 'Saby', '788-460-8432', 'nsaby1a@blinklist.com', null, 'Bank GGGG-9876-5432', 'C'),\n",
                "    (48, 'Janet', 'Alfonsini', '333-128-3151', 'jalfonsini1b@rambler.ru', '2/8/2019', 'Bank WXYZ-5678-9012', 'D'),\n",
                "    (49, 'Crawford', 'Lambourne', '336-548-8259', 'clambourne1c@51.la', '5/17/2014', 'Bank XXXX-XXXX-XXXX', 'D'),\n",
                "    (50, 'Tabbie', 'Hacker', '609-257-3328', 'thacker1d@google.co.jp', '3/18/2003', 'Bank WXYZ-5678-9012', 'C'),\n",
                "    (51, 'Mireielle', 'Bulger', '293-155-4331', 'mbulger1e@weather.com', '12/30/2015', 'Bank XXXX-XXXX-XXXX', 'D'),\n",
                "    (52, 'Verna', 'Gray', '902-575-9719', 'vgray1f@cisco.com', null, 'Bank GGGG-9876-5432', 'D'),\n",
                "    (53, 'Dayna', 'Showl', '547-994-8695', 'dshowl1g@taobao.com', '11/15/2001', 'Bank GGGG-9876-5432', 'C'),\n",
                "    (54, 'Garvey', 'Alexsandrov', '725-629-2606', 'galexsandrov1h@nytimes.com', '5/23/2000', 'Bank GGGG-9876-5432', 'D'),\n",
                "    (55, 'Nevins', 'Bartlet', '477-746-0912', 'nbartlet1i@ibm.com', '10/6/2007', 'Bank FFFF-1234-5678', 'D'),\n",
                "    (56, 'Edlin', 'Berringer', '554-923-6928', 'eberringer1j@cdc.gov', '4/1/2003', 'Bank YYYY-YYYY-YYYY', 'C'),\n",
                "    (57, 'Gherardo', 'Ferrario', '864-834-0958', 'gferrario1k@prnewswire.com', '8/29/2002', 'Bank XXXX-XXXX-XXXX', 'D'),\n",
                "    (58, 'Audi', 'Paschke', '855-989-2418', 'apaschke1l@surveymonkey.com', '7/5/2002', 'Bank IIII-2345-6789', 'D'),\n",
                "    (59, 'Rickie', 'Benini', '760-698-5796', 'rbenini1m@ovh.net', '4/11/2009', 'Bank FFFF-1234-5678', 'D'),\n",
                "    (60, 'Peyter', 'Opy', '931-448-4271', 'popy1n@pinterest.com', '5/28/2000', 'Bank EEEE-5678-9012', 'D'),\n",
                "    (61, 'Roarke', 'Buggs', '768-976-8725', 'rbuggs1o@go.com', '7/17/2023', 'Bank IIII-2345-6789', 'C'),\n",
                "    (62, 'Calhoun', 'Levins', '924-479-7474', 'clevins1p@umn.edu', '2/20/2018', 'Bank ABCD-1234-5678', 'D'),\n",
                "    (63, 'Tiff', 'Lerohan', '404-182-2905', 'tlerohan1q@hhs.gov', '1/23/2005', 'Bank ZZZZ-ZZZZ-ZZZZ', 'D'),\n",
                "    (64, 'Miquela', 'Berzin', '497-978-2308', 'mberzin1r@pen.io', '4/18/2010', 'Bank HHHH-3456-7890', 'D'),\n",
                "    (65, 'Chrisse', 'Newbury', '894-369-8661', 'cnewbury1s@kickstarter.com', '8/9/2015', 'Bank WXYZ-5678-9012', 'D'),\n",
                "    (66, 'Myrwyn', 'Fullard', '663-822-1936', 'mfullard1t@51.la', null, 'Bank YYYY-YYYY-YYYY', 'C'),\n",
                "    (67, 'Pauletta', 'Salt', '758-273-8133', 'psalt1u@topsy.com', null, 'Bank WXYZ-5678-9012', 'D'),\n",
                "    (68, 'Chet', 'Giggie', '153-160-1940', 'cgiggie1v@slashdot.org', '9/27/2023', 'Bank EEEE-5678-9012', 'C'),\n",
                "    (69, 'Cordelie', 'Kenan', '417-238-9168', 'ckenan1w@parallels.com', '3/13/2020', 'Bank EEEE-5678-9012', 'C'),\n",
                "    (70, 'Culley', 'Dann', '212-331-8509', 'cdann1x@biglobe.ne.jp', '8/2/2021', 'Bank XXXX-XXXX-XXXX', 'D'),\n",
                "    (71, 'Rube', 'Jiggins', '996-423-1436', 'rjiggins1y@nasa.gov', '1/22/2020', 'Bank FFFF-1234-5678', 'C'),\n",
                "    (72, 'Nikolia', 'Corradino', '720-435-8749', 'ncorradino1z@youtube.com', null, 'Bank ABCD-1234-5678', 'D'),\n",
                "    (73, 'Judon', 'Bengtson', '502-184-8417', 'jbengtson20@tinypic.com', '4/12/2011', 'Bank EEEE-5678-9012', 'C'),\n",
                "    (74, 'Sacha', 'Spybey', '841-386-8455', 'sspybey21@nature.com', null, 'Bank IIII-2345-6789', 'C'),\n",
                "    (75, 'Hilarius', 'Caught', '937-247-5221', 'hcaught22@techcrunch.com', '3/2/2010', 'Bank GGGG-9876-5432', 'C'),\n",
                "    (76, 'Stacey', 'Baseley', '849-178-0908', 'sbaseley23@marketwatch.com', null, 'Bank EEEE-5678-9012', 'C'),\n",
                "    (77, 'Benjamin', 'Artis', '590-843-0518', 'bartis24@imdb.com', '5/6/2021', 'Bank ABCD-1234-5678', 'C'),\n",
                "    (78, 'Julius', 'Stain', '596-687-9435', 'jstain25@ca.gov', '7/13/2014', 'Bank FFFF-1234-5678', 'C'),\n",
                "    (79, 'Jemimah', 'O'' Kelleher', '857-113-4875', 'jokelleher26@kickstarter.com', '2/15/2022', 'Bank EEEE-5678-9012', 'D'),\n",
                "    (80, 'Flinn', 'Shovell', '719-913-1879', 'fshovell27@princeton.edu', '7/14/2018', 'Bank YYYY-YYYY-YYYY', 'C'),\n",
                "    (81, 'Tonie', 'Tolmie', '445-935-5631', 'ttolmie28@patch.com', '11/3/2008', 'Bank ABCD-1234-5678', 'D'),\n",
                "    (82, 'Collin', 'Dungate', '207-443-3302', 'cdungate29@rakuten.co.jp', '10/27/2013', 'Bank HHHH-3456-7890', 'D'),\n",
                "    (83, 'Kiah', 'Vinton', '986-234-6332', 'kvinton2a@elegantthemes.com', null, 'Bank XXXX-XXXX-XXXX', 'C'),\n",
                "    (84, 'Art', 'Shah', '707-459-0250', 'ashah2b@dmoz.org', '11/25/2001', 'Bank WXYZ-5678-9012', 'C'),\n",
                "    (85, 'Jerrie', 'Cathery', '814-201-6603', 'jcathery2c@smh.com.au', null, 'Bank ZZZZ-ZZZZ-ZZZZ', 'D'),\n",
                "    (86, 'Kendrick', 'Gersam', '556-544-4305', 'kgersam2d@trellian.com', '5/6/2023', 'Bank ZZZZ-ZZZZ-ZZZZ', 'C'),\n",
                "    (87, 'Jacquenette', 'Dutnell', '335-887-9208', 'jdutnell2e@tripod.com', '7/31/2006', 'Bank HHHH-3456-7890', 'D'),\n",
                "    (88, 'Lind', 'Hallmark', '302-821-0544', 'lhallmark2f@netscape.com', '8/5/2001', 'Bank FFFF-1234-5678', 'D'),\n",
                "    (89, 'Tadeo', 'Kellogg', '353-601-5844', 'tkellogg2g@ca.gov', '6/15/2010', 'Bank FFFF-1234-5678', 'D'),\n",
                "    (90, 'Leontine', 'Derry', '454-700-9407', 'lderry2h@independent.co.uk', null, 'Bank GGGG-9876-5432', 'C'),\n",
                "    (91, 'Merna', 'Possel', '774-392-3639', 'mpossel2i@ftc.gov', '1/27/2017', 'Bank HHHH-3456-7890', 'C'),\n",
                "    (92, 'Dionisio', 'Honeyghan', '820-895-0939', 'dhoneyghan2j@merriam-webster.com', null, 'Bank YYYY-YYYY-YYYY', 'C'),\n",
                "    (93, 'Candy', 'Hegarty', '881-839-0961', 'chegarty2k@github.com', '5/30/2001', 'Bank EEEE-5678-9012', 'D'),\n",
                "    (94, 'Melantha', 'Castellet', '482-116-1110', 'mcastellet2l@berkeley.edu', '1/15/2011', 'Bank IIII-2345-6789', 'C'),\n",
                "    (95, 'Kim', 'Harbord', '373-988-4108', 'kharbord2m@omniture.com', '5/3/2013', 'Bank WXYZ-5678-9012', 'D'),\n",
                "    (96, 'Sorcha', 'Ilott', '689-137-5669', 'silott2n@chronoengine.com', '1/20/2002', 'Bank WXYZ-5678-9012', 'D'),\n",
                "    (97, 'Sumner', 'Rounce', '852-753-2362', 'srounce2o@trellian.com', '8/10/2005', 'Bank IIII-2345-6789', 'D'),\n",
                "    (98, 'Harris', 'Budding', '667-963-5828', 'hbudding2p@fda.gov', '11/17/2001', 'Bank WXYZ-5678-9012', 'D'),\n",
                "    (99, 'Loretta', 'Dabling', '941-149-4691', 'ldabling2q@artisteer.com', '8/25/2002', 'Bank HHHH-3456-7890', 'D'),\n",
                "    (100, 'Babbette', 'Arnault', '482-271-5817', 'barnault2r@state.gov', '3/20/2022', 'Bank WXYZ-5678-9012', 'D');\n",
                "\n",
                "-- Inserting Data in Customer Table\n",
                "INSERT INTO Customer (CustomerId, UserID, EncryptedPaymentInfo)\n",
                "VALUES\n",
                "    (1, 86,CONVERT(varbinary(MAX), 'Credit Card - XXXX-XXXX-XXXX-XXXX')),\n",
                "    (2, 20,CONVERT(varbinary(MAX), 'PayPal - user@example.com')),\n",
                "    (3, 54,CONVERT(varbinary(MAX), 'Debit Card - YYYY-YYYY-YYYY-YYYY')),\n",
                "    (4, 33,CONVERT(varbinary(MAX), 'Bank Transfer - Account: XXXXXXXX')),\n",
                "    (5, 86,CONVERT(varbinary(MAX), 'Routing: YYYYYYYY')),\n",
                "    (6, 14,CONVERT(varbinary(MAX), 'Cash on Delivery')),\n",
                "    (7, 1,CONVERT(varbinary(MAX), 'Credit Card - ZZZZ-ZZZZ-ZZZZ-ZZZZ')),\n",
                "    (8, 14,CONVERT(varbinary(MAX), 'Debit Card - KKKK-KKKK-KKKK-KKKK')),\n",
                "    (9, 3,CONVERT(varbinary(MAX), 'PayPal - user2@example.com')),\n",
                "    (10, 65,CONVERT(varbinary(MAX), 'Bank Transfer - Account: QQQQ-QQQQ-QQQQ')),\n",
                "    (11, 75,CONVERT(varbinary(MAX), 'Routing: WWWW-WWWW-WWWW')),\n",
                "    (12, 16,CONVERT(varbinary(MAX), 'Cash on Delivery')),\n",
                "    (13, 50,CONVERT(varbinary(MAX), 'Credit Card - XXXX-XXXX-XXXX-XXXX')),\n",
                "    (14, 30,CONVERT(varbinary(MAX), 'PayPal - user@example.com')),\n",
                "    (15, 79,CONVERT(varbinary(MAX), 'Debit Card - YYYY-YYYY-YYYY-YYYY')),\n",
                "    (16, 90,CONVERT(varbinary(MAX), 'Bank Transfer - Account: XXXXXXXX')),\n",
                "    (17, 47,CONVERT(varbinary(MAX), 'Routing: YYYYYYYY')),\n",
                "    (18, 10,CONVERT(varbinary(MAX), 'Cash on Delivery')),\n",
                "    (19, 90,CONVERT(varbinary(MAX), 'Credit Card - ZZZZ-ZZZZ-ZZZZ-ZZZZ')),\n",
                "    (20, 16,CONVERT(varbinary(MAX), 'Debit Card - KKKK-KKKK-KKKK-KKKK')),\n",
                "    (21, 1,CONVERT(varbinary(MAX), 'PayPal - user2@example.com')),\n",
                "    (22, 78,CONVERT(varbinary(MAX), 'Bank Transfer - Account: QQQQ-QQQQ-QQQQ')),\n",
                "    (23, 26,CONVERT(varbinary(MAX), 'Routing: WWWW-WWWW-WWWW')),\n",
                "    (24, 19,CONVERT(varbinary(MAX), 'Cash on Delivery')),\n",
                "    (25, 5,CONVERT(varbinary(MAX), 'Credit Card - XXXX-XXXX-XXXX-XXXX')),\n",
                "    (26, 89,CONVERT(varbinary(MAX), 'PayPal - user@example.com')),\n",
                "    (27, 13,CONVERT(varbinary(MAX), 'Debit Card - YYYY-YYYY-YYYY-YYYY')),\n",
                "    (28, 35,CONVERT(varbinary(MAX), 'Bank Transfer - Account: XXXXXXXX')),\n",
                "    (29, 4,CONVERT(varbinary(MAX), 'Routing: YYYYYYYY')),\n",
                "    (30, 84,CONVERT(varbinary(MAX), 'Cash on Delivery')),\n",
                "    (31, 65,CONVERT(varbinary(MAX), 'Credit Card - ZZZZ-ZZZZ-ZZZZ-ZZZZ')),\n",
                "    (32, 84,CONVERT(varbinary(MAX), 'Debit Card - KKKK-KKKK-KKKK-KKKK')),\n",
                "    (33, 6,CONVERT(varbinary(MAX), 'PayPal - user2@example.com')),\n",
                "    (34, 33,CONVERT(varbinary(MAX), 'Bank Transfer - Account: QQQQ-QQQQ-QQQQ')),\n",
                "    (35, 76,CONVERT(varbinary(MAX), 'Routing: WWWW-WWWW-WWWW')),\n",
                "    (36, 48,CONVERT(varbinary(MAX), 'Cash on Delivery')),\n",
                "    (37, 66,CONVERT(varbinary(MAX), 'Credit Card - XXXX-XXXX-XXXX-XXXX')),\n",
                "    (38, 68,CONVERT(varbinary(MAX), 'PayPal - user@example.com')),\n",
                "    (39, 36,CONVERT(varbinary(MAX), 'Debit Card - YYYY-YYYY-YYYY-YYYY')),\n",
                "    (40, 61,CONVERT(varbinary(MAX), 'Bank Transfer - Account: XXXXXXXX')),\n",
                "    (41, 95,CONVERT(varbinary(MAX), 'Routing: YYYYYYYY')),\n",
                "    (42, 9,CONVERT(varbinary(MAX), 'Cash on Delivery')),\n",
                "    (43, 68,CONVERT(varbinary(MAX), 'Credit Card - ZZZZ-ZZZZ-ZZZZ-ZZZZ')),\n",
                "    (44, 2,CONVERT(varbinary(MAX), 'Debit Card - KKKK-KKKK-KKKK-KKKK')),\n",
                "    (45, 55,CONVERT(varbinary(MAX), 'PayPal - user2@example.com')),\n",
                "    (46, 2,CONVERT(varbinary(MAX), 'Bank Transfer - Account: QQQQ-QQQQ-QQQQ')),\n",
                "    (47, 49,CONVERT(varbinary(MAX), 'Routing: WWWW-WWWW-WWWW')),\n",
                "    (48, 97,CONVERT(varbinary(MAX), 'Cash on Delivery')),\n",
                "    (49, 63,CONVERT(varbinary(MAX), 'Credit Card - XXXX-XXXX-XXXX-XXXX')),\n",
                "    (50, 15,CONVERT(varbinary(MAX), 'PayPal - user@example.com')),\n",
                "    (51, 87,CONVERT(varbinary(MAX), 'Debit Card - YYYY-YYYY-YYYY-YYYY')),\n",
                "    (52, 33,CONVERT(varbinary(MAX), 'Bank Transfer - Account: XXXXXXXX')),\n",
                "    (53, 20,CONVERT(varbinary(MAX), 'Routing: YYYYYYYY')),\n",
                "    (54, 4,CONVERT(varbinary(MAX), 'Cash on Delivery')),\n",
                "    (55, 52,CONVERT(varbinary(MAX), 'Credit Card - ZZZZ-ZZZZ-ZZZZ-ZZZZ')),\n",
                "    (56, 59,CONVERT(varbinary(MAX), 'Debit Card - KKKK-KKKK-KKKK-KKKK')),\n",
                "    (57, 34,CONVERT(varbinary(MAX), 'PayPal - user2@example.com')),\n",
                "    (58, 26,CONVERT(varbinary(MAX), 'Bank Transfer - Account: QQQQ-QQQQ-QQQQ')),\n",
                "    (59, 35,CONVERT(varbinary(MAX), 'Routing: WWWW-WWWW-WWWW')),\n",
                "    (60, 59,CONVERT(varbinary(MAX), 'Cash on Delivery'));\n",
                "\n",
                "-- Inserting Data in Driver Table\n",
                "INSERT INTO Driver (DriverID, UserID, VehicleID, LicenseInfo)\n",
                "VALUES\n",
                "    (1, 98, 54, 'DL5N8S4'),\n",
                "    (2, 1, 22, 'DL9W1N8'),\n",
                "    (3, 96, 34, 'DL5K7Y3'),\n",
                "    (4, 67, 14, 'DL5A4G8'),\n",
                "    (5, 1, 26, 'DL6Y3S5'),\n",
                "    (6, 24, 40, 'DL3X6P7'),\n",
                "    (7, 82, 35, 'DL5A4G8'),\n",
                "    (8, 40, 76, 'DL6Y3S5'),\n",
                "    (9, 7, 24, 'DL6Y3S5'),\n",
                "    (10, 17, 61, 'DL4B8L3'),\n",
                "    (11, 57, 66, 'DL5U8B4'),\n",
                "    (12, 11, 61, 'DL4P7B3'),\n",
                "    (13, 81, 91, 'DL4R2L5'),\n",
                "    (14, 76, 6, 'DL4R2L5'),\n",
                "    (15, 13, 16, 'DL8F6V2'),\n",
                "    (16, 41, 13, 'DL9N2R8'),\n",
                "    (17, 76, 90, 'DL1V4T9'),\n",
                "    (18, 94, 28, 'DL5A4G8'),\n",
                "    (19, 99, 68, 'DL4Q1S8'),\n",
                "    (20, 25, 48, 'DL2L7V9'),\n",
                "    (21, 78, 58, 'DL2B8J7'),\n",
                "    (22, 44, 88, 'DL1J6C9'),\n",
                "    (23, 88, 19, 'DL4H6V2'),\n",
                "    (24, 12, 92, 'DL3X6P7'),\n",
                "    (25, 55, 90, 'DL4F3V6'),\n",
                "    (26, 24, 91, 'DL5N8S4'),\n",
                "    (27, 42, 38, 'DL7Z3P8'),\n",
                "    (28, 29, 55, 'DL2X1W5'),\n",
                "    (29, 39, 44, 'DL1P8J6'),\n",
                "    (30, 85, 15, 'DL4Q6Z1'),\n",
                "    (31, 65, 96, 'DL9W1N8'),\n",
                "    (32, 62, 81, 'DL5K7Y3'),\n",
                "    (33, 5, 51, 'DL6W4U9'),\n",
                "    (34, 61, 41, 'DL7H6T1'),\n",
                "    (35, 68, 99, 'DL8F6V2'),\n",
                "    (36, 38, 84, 'DL9G5R1'),\n",
                "    (37, 97, 18, 'DL2B7J4'),\n",
                "    (38, 31, 31, 'DL9T3E2'),\n",
                "    (39, 73, 76, 'DL9B8J2'),\n",
                "    (40, 83, 89, 'DL8P6X4');\n",
                "\n",
                "-- Inserting Data in Feedback Table\n",
                "INSERT INTO Feedback (FeedbackID, CustomerID, DriverID, Message,Rating)\n",
                "VALUES\n",
                "    (1, 2, 10, 'Quisque erat eros, viverra eget, congue eget, semper rutrum, nulla. Nunc purus. Phasellus in felis.', 0.5),\n",
                "    (2, 44, 37, 'Donec vitae nisi. Nam ultrices, libero non mattis pulvinar, nulla pede ullamcorper augue, a suscipit nulla elit ac nulla. Sed vel enim sit amet nunc viverra dapibus. Nulla suscipit ligula in lacus. Curabitur at ipsum ac tellus semper interdum.', 3.0),\n",
                "    (3, 53, 11, 'Nunc rhoncus dui vel sem. Sed sagittis. Nam congue, risus semper porta volutpat, quam pede lobortis ligula, sit amet eleifend pede libero quis orci. Nullam molestie nibh in lectus.', 2.2),\n",
                "    (4, 19, 14, 'Proin risus. Praesent lectus. Vestibulum quam sapien, varius ut, blandit non, interdum in, ante. Vestibulum ante ipsum primis in faucibus orci luctus et ultrices posuere cubilia Curae, Duis faucibus accumsan odio. Curabitur convallis.', 4.4),\n",
                "    (5, 5, 13, 'Duis bibendum. Morbi non quam nec dui luctus rutrum. Nulla tellus. In sagittis dui vel nisl.', 3.6),\n",
                "    (6, 4, 23, 'Aliquam erat volutpat. In congue. Etiam justo.', 0.6),\n",
                "    (7, 28, 11, 'Aliquam non mauris. Morbi non lectus. Aliquam sit amet diam in magna bibendum imperdiet.', 0.9),\n",
                "    (8, 37, 15, 'In est risus, auctor sed, tristique in, tempus sit amet, sem. Fusce consequat. Nulla nisl. Nunc nisl. Duis bibendum, felis sed interdum venenatis, turpis enim blandit mi, in porttitor pede justo eu massa.', 3.7),\n",
                "    (9, 42, 10, 'Aliquam sit amet diam in magna bibendum imperdiet. Nullam orci pede, venenatis non, sodales sed, tincidunt eu, felis. Fusce posuere felis sed lacus.', 1.0),\n",
                "    (10, 56, 10, 'Cras non velit nec nisi vulputate nonummy. Maecenas tincidunt lacus at velit. Vivamus vel nulla eget eros elementum pellentesque.', 4.1),\n",
                "    (11, 34, 25, 'Donec semper sapien a libero. Nam dui. Proin leo odio, porttitor id, consequat in, consequat ut, nulla. Sed accumsan felis. Ut at dolor quis odio consequat varius.', 4.5),\n",
                "    (12, 41, 11, 'Integer a nibh. In quis justo. Maecenas rhoncus aliquam lacus.', 4.8),\n",
                "    (13, 42, 35, 'Nullam sit amet turpis elementum ligula vehicula consequat. Morbi a ipsum. Integer a nibh. In quis justo.', 0.1),\n",
                "    (14, 49, 16, 'Nullam sit amet turpis elementum ligula vehicula consequat. Morbi a ipsum. Integer a nibh.', 0.8),\n",
                "    (15, 8, 27, 'Duis aliquam convallis nunc. Proin at turpis a pede posuere nonummy. Integer non velit. Donec diam neque, vestibulum eget, vulputate ut, ultrices vel, augue.', 0.3),\n",
                "    (16, 16, 9, 'Pellentesque viverra pede ac diam. Cras pellentesque volutpat dui. Maecenas tristique, est et tempus semper, est quam pharetra magna, ac consequat metus sapien ut nunc. Vestibulum ante ipsum primis in faucibus orci luctus et ultrices posuere cubilia Curae, Mauris viverra diam vitae quam.', 3.8),\n",
                "    (17, 22, 40, 'Donec posuere metus vitae ipsum. Aliquam non mauris. Morbi non lectus. Aliquam sit amet diam in magna bibendum imperdiet. Nullam orci pede, venenatis non, sodales sed, tincidunt eu, felis.', 2.1),\n",
                "    (18, 39, 30, 'Nullam varius. Nulla facilisi. Cras non velit nec nisi vulputate nonummy. Maecenas tincidunt lacus at velit.', 0.2),\n",
                "    (19, 47, 30, 'Donec quis orci eget orci vehicula condimentum. Curabitur in libero ut massa volutpat convallis. Morbi odio odio, elementum eu, interdum eu, tincidunt in, leo.', 0.8),\n",
                "    (20, 7, 5, 'Nunc rhoncus dui vel sem. Sed sagittis. Nam congue, risus semper porta volutpat, quam pede lobortis ligula, sit amet eleifend pede libero quis orci.', 3.7),\n",
                "    (21, 26, 30, 'Mauris sit amet eros. Suspendisse accumsan tortor quis turpis. Sed ante. Vivamus tortor.', 4.0),\n",
                "    (22, 22, 9, 'Integer non velit. Donec diam neque, vestibulum eget, vulputate ut, ultrices vel, augue. Vestibulum ante ipsum primis in faucibus orci luctus et ultrices posuere cubilia Curae, Donec pharetra, magna vestibulum aliquet ultrices, erat tortor sollicitudin mi, sit amet lobortis sapien sapien non mi. Integer ac neque.', 1.1),\n",
                "    (23, 40, 25, 'Duis ac nibh. Fusce lacus purus, aliquet at, feugiat non, pretium quis, lectus. Suspendisse potenti. In eleifend quam a odio. In hac habitasse platea dictumst.', 1.0),\n",
                "    (24, 2, 35, 'Praesent lectus. Vestibulum quam sapien, varius ut, blandit non, interdum in, ante. Vestibulum ante ipsum primis in faucibus orci luctus et ultrices posuere cubilia Curae, Duis faucibus accumsan odio.', 2.9),\n",
                "    (25, 10, 2, 'Morbi a ipsum. Integer a nibh. In quis justo. Maecenas rhoncus aliquam lacus.', 0.3),\n",
                "    (26, 35, 25, 'Integer pede justo, lacinia eget, tincidunt eget, tempus vel, pede. Morbi porttitor lorem id ligula. Suspendisse ornare consequat lectus. In est risus, auctor sed, tristique in, tempus sit amet, sem.', 4.9),\n",
                "    (27, 15, 3, 'Fusce posuere felis sed lacus. Morbi sem mauris, laoreet ut, rhoncus aliquet, pulvinar sed, nisl. Nunc rhoncus dui vel sem.', 3.0),\n",
                "    (28, 51, 9, 'Nulla tempus. Vivamus in felis eu sapien cursus vestibulum. Proin eu mi. Nulla ac enim.', 3.5),\n",
                "    (29, 11, 36, 'Praesent id massa id nisl venenatis lacinia. Aenean sit amet justo. Morbi ut odio.', 1.9),\n",
                "    (30, 10, 38, 'Phasellus id sapien in sapien iaculis congue. Vivamus metus arcu, adipiscing molestie, hendrerit at, vulputate vitae, nisl. Aenean lectus. Pellentesque eget nunc. Donec quis orci eget orci vehicula condimentum.', 4.1),\n",
                "    (31, 35, 33, 'Nullam varius. Nulla facilisi. Cras non velit nec nisi vulputate nonummy. Maecenas tincidunt lacus at velit. Vivamus vel nulla eget eros elementum pellentesque.', 1.4),\n",
                "    (32, 22, 15, 'Vivamus vel nulla eget eros elementum pellentesque. Quisque porta volutpat erat. Quisque erat eros, viverra eget, congue eget, semper rutrum, nulla. Nunc purus.', 4.7),\n",
                "    (33, 33, 20, 'Morbi ut odio. Cras mi pede, malesuada in, imperdiet et, commodo vulputate, justo. In blandit ultrices enim. Lorem ipsum dolor sit amet, consectetuer adipiscing elit.', 1.9),\n",
                "    (34, 24, 31, 'Morbi porttitor lorem id ligula. Suspendisse ornare consequat lectus. In est risus, auctor sed, tristique in, tempus sit amet, sem.', 4.3),\n",
                "    (35, 34, 7, 'Quisque id justo sit amet sapien dignissim vestibulum. Vestibulum ante ipsum primis in faucibus orci luctus et ultrices posuere cubilia Curae, Nulla dapibus dolor vel est. Donec odio justo, sollicitudin ut, suscipit a, feugiat et, eros.', 0.2),\n",
                "    (36, 40, 37, 'Nulla ut erat id mauris vulputate elementum. Nullam varius. Nulla facilisi. Cras non velit nec nisi vulputate nonummy.', 1.6),\n",
                "    (37, 27, 28, 'Praesent lectus. Vestibulum quam sapien, varius ut, blandit non, interdum in, ante. Vestibulum ante ipsum primis in faucibus orci luctus et ultrices posuere cubilia Curae, Duis faucibus accumsan odio.', 4.3),\n",
                "    (38, 29, 38, 'Donec dapibus. Duis at velit eu est congue elementum. In hac habitasse platea dictumst.', 0.9),\n",
                "    (39, 28, 12, 'Morbi non quam nec dui luctus rutrum. Nulla tellus. In sagittis dui vel nisl.', 2.0),\n",
                "    (40, 54, 13, 'Donec diam neque, vestibulum eget, vulputate ut, ultrices vel, augue. Vestibulum ante ipsum primis in faucibus orci luctus et ultrices posuere cubilia Curae, Donec pharetra, magna vestibulum aliquet ultrices, erat tortor sollicitudin mi, sit amet lobortis sapien sapien non mi. Integer ac neque.', 2.8),\n",
                "    (41, 49, 30, 'Morbi quis tortor id nulla ultrices aliquet. Maecenas leo odio, condimentum id, luctus nec, molestie sed, justo. Pellentesque viverra pede ac diam.', 1.2),\n",
                "    (42, 57, 15, 'Morbi sem mauris, laoreet ut, rhoncus aliquet, pulvinar sed, nisl. Nunc rhoncus dui vel sem. Sed sagittis.', 0.1),\n",
                "    (43, 3, 15, 'Nulla facilisi. Cras non velit nec nisi vulputate nonummy. Maecenas tincidunt lacus at velit. Vivamus vel nulla eget eros elementum pellentesque.', 4.5),\n",
                "    (44, 30, 18, 'Pellentesque ultrices mattis odio. Donec vitae nisi. Nam ultrices, libero non mattis pulvinar, nulla pede ullamcorper augue, a suscipit nulla elit ac nulla. Sed vel enim sit amet nunc viverra dapibus. Nulla suscipit ligula in lacus.', 1.5),\n",
                "    (45, 3, 4, 'Fusce posuere felis sed lacus. Morbi sem mauris, laoreet ut, rhoncus aliquet, pulvinar sed, nisl. Nunc rhoncus dui vel sem.', 0.3),\n",
                "    (46, 48, 6, 'Nulla facilisi. Cras non velit nec nisi vulputate nonummy. Maecenas tincidunt lacus at velit. Vivamus vel nulla eget eros elementum pellentesque. Quisque porta volutpat erat.', 3.5),\n",
                "    (47, 2, 4, 'Quisque porta volutpat erat. Quisque erat eros, viverra eget, congue eget, semper rutrum, nulla. Nunc purus.', 4.7),\n",
                "    (48, 1, 28, 'Cras in purus eu magna vulputate luctus. Cum sociis natoque penatibus et magnis dis parturient montes, nascetur ridiculus mus. Vivamus vestibulum sagittis sapien.', 3.2),\n",
                "    (49, 36, 11, 'Phasellus sit amet erat. Nulla tempus. Vivamus in felis eu sapien cursus vestibulum.', 4.5),\n",
                "    (50, 4, 8, 'In congue. Etiam justo. Etiam pretium iaculis justo. In hac habitasse platea dictumst. Etiam faucibus cursus urna.', 1.7),\n",
                "    (51, 4, 29, 'Fusce consequat. Nulla nisl. Nunc nisl. Duis bibendum, felis sed interdum venenatis, turpis enim blandit mi, in porttitor pede justo eu massa. Donec dapibus.', 2.3),\n",
                "    (52, 56, 35, 'Mauris ullamcorper purus sit amet nulla. Quisque arcu libero, rutrum ac, lobortis vel, dapibus at, diam. Nam tristique tortor eu pede.', 3.1),\n",
                "    (53, 60, 36, 'Ut tellus. Nulla ut erat id mauris vulputate elementum. Nullam varius. Nulla facilisi. Cras non velit nec nisi vulputate nonummy.', 0.9),\n",
                "    (54, 16, 30, 'Aliquam erat volutpat. In congue. Etiam justo. Etiam pretium iaculis justo. In hac habitasse platea dictumst.', 2.9),\n",
                "    (55, 18, 5, 'Maecenas tristique, est et tempus semper, est quam pharetra magna, ac consequat metus sapien ut nunc. Vestibulum ante ipsum primis in faucibus orci luctus et ultrices posuere cubilia Curae, Mauris viverra diam vitae quam. Suspendisse potenti. Nullam porttitor lacus at turpis.', 1.5),\n",
                "    (56, 19, 27, 'Vestibulum ante ipsum primis in faucibus orci luctus et ultrices posuere cubilia Curae, Nulla dapibus dolor vel est. Donec odio justo, sollicitudin ut, suscipit a, feugiat et, eros. Vestibulum ac est lacinia nisi venenatis tristique.', 1.5),\n",
                "    (57, 60, 28, 'Vestibulum ante ipsum primis in faucibus orci luctus et ultrices posuere cubilia Curae, Nulla dapibus dolor vel est. Donec odio justo, sollicitudin ut, suscipit a, feugiat et, eros. Vestibulum ac est lacinia nisi venenatis tristique.', 1.5),\n",
                "    (58, 36, 40, 'Morbi odio odio, elementum eu, interdum eu, tincidunt in, leo. Maecenas pulvinar lobortis est. Phasellus sit amet erat. Nulla tempus.', 4.9),\n",
                "    (59, 26, 3, 'Nulla ac enim. In tempor, turpis nec euismod scelerisque, quam turpis adipiscing lorem, vitae mattis nibh ligula nec sem. Duis aliquam convallis nunc.', 1.1),\n",
                "    (60, 26, 5, 'In hac habitasse platea dictumst. Aliquam augue quam, sollicitudin vitae, consectetuer eget, rutrum at, lorem. Integer tincidunt ante vel ipsum. Praesent blandit lacinia erat.', 4.8),\n",
                "    (61, 9, 17, 'Suspendisse accumsan tortor quis turpis. Sed ante. Vivamus tortor.', 1.8),\n",
                "    (62, 56, 29, 'Curabitur gravida nisi at nibh. In hac habitasse platea dictumst. Aliquam augue quam, sollicitudin vitae, consectetuer eget, rutrum at, lorem. Integer tincidunt ante vel ipsum.', 1.3),\n",
                "    (63, 39, 1, 'Aliquam quis turpis eget elit sodales scelerisque. Mauris sit amet eros. Suspendisse accumsan tortor quis turpis. Sed ante.', 3.9),\n",
                "    (64, 39, 23, 'Curabitur convallis. Duis consequat dui nec nisi volutpat eleifend. Donec ut dolor.', 1.8),\n",
                "    (65, 6, 21, 'In quis justo. Maecenas rhoncus aliquam lacus. Morbi quis tortor id nulla ultrices aliquet. Maecenas leo odio, condimentum id, luctus nec, molestie sed, justo.', 2.6),\n",
                "    (66, 23, 27, 'Nam dui. Proin leo odio, porttitor id, consequat in, consequat ut, nulla. Sed accumsan felis.', 0.4),\n",
                "    (67, 50, 34, 'Nulla facilisi. Cras non velit nec nisi vulputate nonummy. Maecenas tincidunt lacus at velit. Vivamus vel nulla eget eros elementum pellentesque. Quisque porta volutpat erat.', 0.4),\n",
                "    (68, 23, 32, 'Nullam porttitor lacus at turpis. Donec posuere metus vitae ipsum. Aliquam non mauris.', 0.9),\n",
                "    (69, 19, 7, 'Fusce lacus purus, aliquet at, feugiat non, pretium quis, lectus. Suspendisse potenti. In eleifend quam a odio. In hac habitasse platea dictumst. Maecenas ut massa quis augue luctus tincidunt.', 3.7),\n",
                "    (70, 13, 15, 'Maecenas rhoncus aliquam lacus. Morbi quis tortor id nulla ultrices aliquet. Maecenas leo odio, condimentum id, luctus nec, molestie sed, justo. Pellentesque viverra pede ac diam. Cras pellentesque volutpat dui.', 0.1),\n",
                "    (71, 48, 15, 'Curabitur gravida nisi at nibh. In hac habitasse platea dictumst. Aliquam augue quam, sollicitudin vitae, consectetuer eget, rutrum at, lorem. Integer tincidunt ante vel ipsum. Praesent blandit lacinia erat.', 0.8),\n",
                "    (72, 32, 1, 'Praesent blandit. Nam nulla. Integer pede justo, lacinia eget, tincidunt eget, tempus vel, pede.', 4.5),\n",
                "    (73, 59, 10, 'Donec ut dolor. Morbi vel lectus in quam fringilla rhoncus. Mauris enim leo, rhoncus sed, vestibulum sit amet, cursus id, turpis. Integer aliquet, massa id lobortis convallis, tortor risus dapibus augue, vel accumsan tellus nisi eu orci. Mauris lacinia sapien quis libero.', 4.0),\n",
                "    (74, 55, 40, 'Nulla ac enim. In tempor, turpis nec euismod scelerisque, quam turpis adipiscing lorem, vitae mattis nibh ligula nec sem. Duis aliquam convallis nunc.', 2.8),\n",
                "    (75, 18, 8, 'Nulla ut erat id mauris vulputate elementum. Nullam varius. Nulla facilisi.', 3.7),\n",
                "    (76, 58, 39, 'Etiam faucibus cursus urna. Ut tellus. Nulla ut erat id mauris vulputate elementum. Nullam varius. Nulla facilisi.', 3.9),\n",
                "    (77, 43, 10, 'Praesent blandit. Nam nulla. Integer pede justo, lacinia eget, tincidunt eget, tempus vel, pede. Morbi porttitor lorem id ligula.', 2.5),\n",
                "    (78, 52, 14, 'Nullam porttitor lacus at turpis. Donec posuere metus vitae ipsum. Aliquam non mauris. Morbi non lectus.', 0.0),\n",
                "    (79, 48, 7, 'Quisque erat eros, viverra eget, congue eget, semper rutrum, nulla. Nunc purus. Phasellus in felis. Donec semper sapien a libero. Nam dui.', 4.1),\n",
                "    (80, 58, 15, 'Nullam porttitor lacus at turpis. Donec posuere metus vitae ipsum. Aliquam non mauris. Morbi non lectus. Aliquam sit amet diam in magna bibendum imperdiet.', 3.8),\n",
                "    (81, 29, 8, 'Nulla tellus. In sagittis dui vel nisl. Duis ac nibh. Fusce lacus purus, aliquet at, feugiat non, pretium quis, lectus.', 2.6),\n",
                "    (82, 40, 24, 'Sed accumsan felis. Ut at dolor quis odio consequat varius. Integer ac leo. Pellentesque ultrices mattis odio. Donec vitae nisi.', 1.1),\n",
                "    (83, 51, 36, 'Aliquam sit amet diam in magna bibendum imperdiet. Nullam orci pede, venenatis non, sodales sed, tincidunt eu, felis. Fusce posuere felis sed lacus. Morbi sem mauris, laoreet ut, rhoncus aliquet, pulvinar sed, nisl.', 2.2),\n",
                "    (84, 12, 31, 'Vestibulum quam sapien, varius ut, blandit non, interdum in, ante. Vestibulum ante ipsum primis in faucibus orci luctus et ultrices posuere cubilia Curae, Duis faucibus accumsan odio. Curabitur convallis.', 2.5),\n",
                "    (85, 15, 33, 'In eleifend quam a odio. In hac habitasse platea dictumst. Maecenas ut massa quis augue luctus tincidunt. Nulla mollis molestie lorem.', 3.3),\n",
                "    (86, 59, 5, 'Nam congue, risus semper porta volutpat, quam pede lobortis ligula, sit amet eleifend pede libero quis orci. Nullam molestie nibh in lectus. Pellentesque at nulla.', 0.7),\n",
                "    (87, 51, 3, 'Morbi porttitor lorem id ligula. Suspendisse ornare consequat lectus. In est risus, auctor sed, tristique in, tempus sit amet, sem. Fusce consequat.', 0.9),\n",
                "    (88, 31, 1, 'Nam congue, risus semper porta volutpat, quam pede lobortis ligula, sit amet eleifend pede libero quis orci. Nullam molestie nibh in lectus. Pellentesque at nulla. Suspendisse potenti. Cras in purus eu magna vulputate luctus.', 5.0),\n",
                "    (89, 39, 24, 'In blandit ultrices enim. Lorem ipsum dolor sit amet, consectetuer adipiscing elit. Proin interdum mauris non ligula pellentesque ultrices. Phasellus id sapien in sapien iaculis congue.', 4.3),\n",
                "    (90, 44, 28, 'Donec posuere metus vitae ipsum. Aliquam non mauris. Morbi non lectus. Aliquam sit amet diam in magna bibendum imperdiet. Nullam orci pede, venenatis non, sodales sed, tincidunt eu, felis.', 2.7),\n",
                "    (91, 25, 8, 'Aenean fermentum. Donec ut mauris eget massa tempor convallis. Nulla neque libero, convallis eget, eleifend luctus, ultricies eu, nibh. Quisque id justo sit amet sapien dignissim vestibulum.', 4.1),\n",
                "    (92, 1, 5, 'Maecenas leo odio, condimentum id, luctus nec, molestie sed, justo. Pellentesque viverra pede ac diam. Cras pellentesque volutpat dui. Maecenas tristique, est et tempus semper, est quam pharetra magna, ac consequat metus sapien ut nunc. Vestibulum ante ipsum primis in faucibus orci luctus et ultrices posuere cubilia Curae, Mauris viverra diam vitae quam.', 3.8),\n",
                "    (93, 26, 33, 'In blandit ultrices enim. Lorem ipsum dolor sit amet, consectetuer adipiscing elit. Proin interdum mauris non ligula pellentesque ultrices.', 1.8),\n",
                "    (94, 16, 40, 'Mauris sit amet eros. Suspendisse accumsan tortor quis turpis. Sed ante. Vivamus tortor. Duis mattis egestas metus.', 1.0),\n",
                "    (95, 33, 11, 'Nam nulla. Integer pede justo, lacinia eget, tincidunt eget, tempus vel, pede. Morbi porttitor lorem id ligula.', 1.2),\n",
                "    (96, 24, 25, 'Duis at velit eu est congue elementum. In hac habitasse platea dictumst. Morbi vestibulum, velit id pretium iaculis, diam erat fermentum justo, nec condimentum neque sapien placerat ante. Nulla justo.', 4.3),\n",
                "    (97, 50, 15, 'Aliquam sit amet diam in magna bibendum imperdiet. Nullam orci pede, venenatis non, sodales sed, tincidunt eu, felis. Fusce posuere felis sed lacus.', 3.3),\n",
                "    (98, 13, 30, 'Vestibulum ante ipsum primis in faucibus orci luctus et ultrices posuere cubilia Curae, Donec pharetra, magna vestibulum aliquet ultrices, erat tortor sollicitudin mi, sit amet lobortis sapien sapien non mi. Integer ac neque. Duis bibendum. Morbi non quam nec dui luctus rutrum.', 1.6),\n",
                "    (99, 58, 20, 'In blandit ultrices enim. Lorem ipsum dolor sit amet, consectetuer adipiscing elit. Proin interdum mauris non ligula pellentesque ultrices. Phasellus id sapien in sapien iaculis congue. Vivamus metus arcu, adipiscing molestie, hendrerit at, vulputate vitae, nisl.', 2.8),\n",
                "    (100, 19, 28, 'Vestibulum rutrum rutrum neque. Aenean auctor gravida sem. Praesent id massa id nisl venenatis lacinia.', 0.8);\n",
                "\n",
                "-- Inserting Data in TripEstimate Table\n",
                "INSERT INTO TripEstimate (EstimationId, VehicleID, CurrentTime, Cost)\n",
                "VALUES\n",
                "    (1, 59, '2023-06-16 18:00:57', 145.72),\n",
                "    (2, 63, '2023-12-17 19:56:27', 69.63),\n",
                "    (3, 52, '2023-12-18 16:34:09', 80.67),\n",
                "    (4, 64, '2023-12-22 16:16:17', 214.70),\n",
                "    (5, 96, '2023-02-11 05:14:46', 105.25),\n",
                "    (6, 56, '2023-08-29 04:33:52', 178.10),\n",
                "    (7, 100, '2023-11-01 10:52:41', 92.30),\n",
                "    (8, 54, '2023-10-02 00:17:28', 96.26),\n",
                "    (9, 100, '2023-10-30 22:37:25', 185.74),\n",
                "    (10, 70, '2023-11-22 17:17:52', 157.42),\n",
                "    (11, 17, '2023-04-28 10:43:57', 79.82),\n",
                "    (12, 79, '2023-02-24 23:35:44', 13.98),\n",
                "    (13, 73, '2023-10-23 16:31:15', 142.31),\n",
                "    (14, 32, '2023-08-08 22:15:59', 61.05),\n",
                "    (15, 14, '2023-06-15 10:39:21', 188.13),\n",
                "    (16, 10, '2023-12-07 09:15:57', 177.53),\n",
                "    (17, 6, '2023-12-07 15:54:17', 48.34),\n",
                "    (18, 19, '2023-12-24 18:51:08', 90.60),\n",
                "    (19, 19, '2022-12-31 02:17:37', 189.65),\n",
                "    (20, 76, '2023-11-09 18:04:42', 91.55),\n",
                "    (21, 59, '2023-01-01 09:00:31', 161.85),\n",
                "    (22, 72, '2023-09-18 22:02:33', 192.53),\n",
                "    (23, 73, '2023-05-23 00:49:57', 89.77),\n",
                "    (24, 90, '2023-09-14 02:40:29', 161.10),\n",
                "    (25, 14, '2023-10-17 08:06:19', 105.35),\n",
                "    (26, 26, '2023-10-15 07:22:16', 61.43),\n",
                "    (27, 59, '2023-12-12 20:36:23', 50.64),\n",
                "    (28, 6, '2023-06-27 18:56:47', 225.19),\n",
                "    (29, 84, '2023-10-10 16:03:27', 222.31),\n",
                "    (30, 12, '2023-04-21 23:19:23', 213.05);\n",
                "\n",
                "-- Inserting Data in RideRequest Table\n",
                "INSERT INTO RideRequest (RequestId, EstimationID, VehicleID,DriverID, CustomerID,RequestType, ReqDateTime, \n",
                "    PickUpLocationLatitude, PickUpLocationLongitude, DestinationLocationLatitude, \n",
                "    DestinationLocationLongitude, TripType, TripCompletionFlag, PickUpLocation, DestinationLocation)\n",
                "VALUES\n",
                "    (1, 28, 69, 16, 14, 'Out Station Cab', '2023-04-09 20:08:17', -7.5849174, 111.8784707, -6.7515973, 107.9287898, 'Out Station Cab', 1, '415 Scofield Alley', '873 Jackson Way'),\n",
                "    (2, 14, 52, 14, 43, 'City Cab', '2023-10-25 12:17:31', 22.948016, 113.366904, 37.4882943, 71.5901986, 'Out Station Cab', 1, '678 Bonner Parkway', '5904 Gina Way'),\n",
                "    (3, 8, 67, 39, 29, 'Out Station Cab', '2023-06-02 01:40:19', 44.6208353, 21.1842054, 34.9588458, 33.466379, 'Out Station Cab', 0, '2342 Rockefeller Junction', '488 Milwaukee Way'),\n",
                "    (4, 28, 1, 29, 39, 'City Cab', '2023-02-27 04:05:59', 12.5641479, -16.2639825, 3.095417, -76.1435915, 'City Cab', 1, '8177 Kensington Place', '59 Troy Way'),\n",
                "    (5, 30, 88, 10, 60, 'Out Station Cab', '2023-01-06 23:57:38', 5.032145, -74.884455, 40.0115285, -119.6962677, 'Out Station Cab', 1, '5768 Eliot Hill', '0937 Monica Center'),\n",
                "    (6, 30, 23, 22, 19, 'Out Station Cab', '2023-12-06 07:00:53', 36.077544, 120.008307, -31.4311903, -62.0729285, 'City Cab', 0, '970 Elka Court', '767 Becker Pass'),\n",
                "    (7, 13, 37, 32, 51, 'Out Station Cab', '2023-07-04 03:23:37', 10.1592286, -69.0087365, 24.781681, 118.552365, 'Out Station Cab', 1, '00226 Summer Ridge Way', '47567 Oriole Alley'),\n",
                "    (8, 28, 17, 10, 11, 'City Cab', '2023-08-07 04:55:58', 28.1904306, 112.9857433, 6.5163966, 14.2919273, 'Out Station Cab', 0, '74 Coleman Parkway', '459 Comanche Way'),\n",
                "    (9, 18, 25, 27, 60, 'City Cab', '2023-06-06 11:32:00', 25.2898918, 32.5522304, 38.8062871, 139.9346659, 'City Cab', 1, '931 Barnett Trail', '33824 Transport Lane'),\n",
                "    (10, 6, 61, 6, 31, 'Out Station Cab', '2023-02-10 16:10:28', 50.8290137, 15.6741931, 29.483315, 119.872545, 'Out Station Cab', 1, '82573 Miller Drive', '31864 Holy Cross Street'),\n",
                "    (11, 30, 26, 30, 59, 'Out Station Cab', '2023-04-09 23:11:39', 6.7911741, -77.5504779, 9.49858, 50.8105261, 'City Cab', 0, '989 Maple Alley', '1995 Union Place'),\n",
                "    (12, 14, 2, 29, 36, 'Out Station Cab', '2023-01-11 07:37:05', 50.5332417, 23.7255557, 32.5538633, 51.5097515, 'Out Station Cab', 1, '6459 Hanover Street', '353 Merchant Crossing'),\n",
                "    (13, 27, 15, 24, 24, 'Out Station Cab', '2023-03-09 20:36:12', 33.504555, 113.913911, 48.9095, 25.33926, 'City Cab', 1, '08 Bashford Center', '68 Clarendon Court'),\n",
                "    (14, 19, 46, 38, 44, 'Out Station Cab', '2023-10-10 14:50:15', 26.6646381, 87.271781, 35.4335808, 139.5718014, 'Out Station Cab', 0, '1 Arrowood Lane', '0866 Vidon Trail'),\n",
                "    (15, 5, 20, 35, 19, 'City Cab', '2023-10-20 12:16:20', 14.5346437, 121.0133007, 39.109563, 117.223371, 'City Cab', 0, '6 Buell Lane', '59 Daystar Avenue'),\n",
                "    (16, 1, 6, 4, 22, 'Out Station Cab', '2023-01-19 15:09:14', 32.5777123, 59.7977761, 17.057356, -89.151003, 'Out Station Cab', 1, '067 Carey Court', '203 Chinook Drive'),\n",
                "    (17, 17, 62, 35, 23, 'City Cab', '2023-01-03 17:54:22', 52.4293273, 19.4619176, 23.0594685, 113.8146974, 'City Cab', 0, '7 Schmedeman Terrace', '6347 Memorial Plaza'),\n",
                "    (18, 5, 48, 2, 59, 'Out Station Cab', '2023-01-30 19:17:54', -31.3582685, -64.2371705, 39.9721425, 69.8597406, 'Out Station Cab', 1, '14259 Russell Circle', '90995 Arizona Point'),\n",
                "    (19, 3, 72, 38, 31, 'Out Station Cab', '2023-05-05 06:39:33', -6.4237489, 20.7956878, 53.3004898, -6.2634596, 'City Cab', 1, '56662 Vera Parkway', '597 Fremont Center'),\n",
                "    (20, 10, 62, 31, 37, 'City Cab', '2023-01-20 06:35:55', 19.4102526, -99.0073673, 38.3208398, 23.7900853, 'City Cab', 1, '3384 Havey Pass', '45 Ridgeway Junction'),\n",
                "    (21, 3, 73, 9, 60, 'Out Station Cab', '2023-06-24 07:46:50', 1.0725136, 121.499885, 14.5699334, 121.0204582, 'City Cab', 0, '8466 Nova Circle', '40 Milwaukee Parkway'),\n",
                "    (22, 17, 88, 9, 44, 'Out Station Cab', '2023-02-15 07:09:35', -6.8013457, 111.4126837, -7.6411786, 112.6377432, 'City Cab', 1, '72 Charing Cross Drive', '08598 Lillian Point'),\n",
                "    (23, 18, 21, 22, 26, 'City Cab', '2023-03-27 15:17:37', -18.0292038, -63.4021544, 53.1501463, 24.8029784, 'Out Station Cab', 0, '81 Lukken Trail', '547 Eastlawn Road'),\n",
                "    (24, 27, 6, 14, 27, 'Out Station Cab', '2023-01-13 23:22:18', 25.7784224, -103.2605763, 49.1169513, 101.449837, 'City Cab', 1, '4993 Comanche Plaza', '3 Harper Plaza'),\n",
                "    (25, 26, 47, 27, 31, 'Out Station Cab', '2023-11-07 22:08:27', 42.4576548, -2.4407498, 50.71966, 16.345569, 'Out Station Cab', 0, '505 Division Park', '55281 6th Junction'),\n",
                "    (26, 5, 11, 26, 48, 'City Cab', '2023-05-17 12:40:06', 6.027632, -75.431596, 29.2031708, 25.5195451, 'City Cab', 0, '8 Village Road', '3 Oak Alley'),\n",
                "    (27, 23, 21, 34, 54, 'City Cab', '2023-10-06 21:59:14', 56.232836, 43.8367278, -6.8546403, 107.4293388, 'City Cab', 0, '054 Annamark Junction', '0 South Junction'),\n",
                "    (28, 13, 57, 31, 56, 'City Cab', '2023-06-08 14:18:20', -34.4402062, -55.9600098, 16.3274859, 120.3660634, 'City Cab', 1, '72159 Steensland Park', '979 Blue Bill Park Plaza'),\n",
                "    (29, 14, 86, 37, 26, 'City Cab', '2023-09-06 04:55:48', 41.1266172, 23.3819761, 12.573631, 102.1041583, 'City Cab', 1, '53 Menomonie Alley', '602 Sage Alley'),\n",
                "    (30, 15, 60, 4, 38, 'Out Station Cab', '2023-10-09 03:41:45', -22.3734081, -48.3860575, 29.099294, 119.692696, 'Out Station Cab', 0, '2259 Summer Ridge Pass', '38 Lotheville Hill');\n",
                "\n",
                "\n",
                "-- Inserting Data in ServiceRequest Table\n",
                "INSERT INTO ServiceRequest (SerReqId, VehicleId, ServiceId, ReqDateTime, ServiceDueDate, PreviousServiceDate)\n",
                "VALUES\n",
                "    (1, 71, 79, '10/31/2023', '3/18/2023', '2/22/2022'),\n",
                "    (2, 94, 70, '2/22/2023', '4/30/2023', '4/12/2022'),\n",
                "    (3, 83, 62, '4/5/2023', '12/5/2023', '10/5/2022'),\n",
                "    (4, 91, 16, '7/19/2023', '7/12/2023', '7/14/2022'),\n",
                "    (5, 47, 92, '3/8/2023', '6/15/2023', '9/1/2022'),\n",
                "    (6, 45, 81, '7/18/2023', '7/10/2023', '5/28/2022'),\n",
                "    (7, 37, 1, '6/23/2023', '1/25/2023', '7/2/2022'),\n",
                "    (8, 82, 13, '7/3/2023', '6/26/2023', '4/6/2022'),\n",
                "    (9, 88, 82, '5/16/2023', '3/28/2023', '4/27/2022'),\n",
                "    (10, 20, 93, '4/20/2023', '3/10/2023', '7/13/2022'),\n",
                "    (11, 14, 17, '5/6/2023', '1/15/2023', '6/1/2022'),\n",
                "    (12, 24, 39, '5/21/2023', '1/21/2023', '2/13/2022'),\n",
                "    (13, 12, 3, '11/2/2023', '10/27/2023', '10/4/2022'),\n",
                "    (14, 6, 11, '10/2/2023', '4/21/2023', '2/20/2022'),\n",
                "    (15, 47, 27, '9/27/2023', '10/1/2023', '2/17/2022'),\n",
                "    (16, 43, 9, '1/26/2023', '10/9/2023', '12/21/2022'),\n",
                "    (17, 19, 22, '10/10/2023', '7/14/2023', '6/22/2022'),\n",
                "    (18, 76, 68, '4/27/2023', '9/3/2023', '8/25/2022'),\n",
                "    (19, 27, 76, '2/20/2023', '4/1/2023', '6/7/2022'),\n",
                "    (20, 86, 17, '6/3/2023', '1/17/2023', '10/2/2022'),\n",
                "    (21, 17, 65, '5/5/2023', '12/20/2023', '9/11/2022'),\n",
                "    (22, 58, 87, '6/4/2023', '9/13/2023', '4/9/2022'),\n",
                "    (23, 17, 49, '2/9/2023', '6/24/2023', '12/21/2022'),\n",
                "    (24, 58, 48, '4/11/2023', '10/11/2023', '7/29/2022'),\n",
                "    (25, 74, 11, '7/13/2023', '9/28/2023', '12/6/2022'),\n",
                "    (26, 55, 46, '12/26/2022', '4/27/2023', '11/16/2022'),\n",
                "    (27, 10, 85, '9/4/2023', '8/25/2023', '5/26/2022'),\n",
                "    (28, 76, 78, '1/26/2023', '1/17/2023', '2/6/2022'),\n",
                "    (29, 99, 27, '3/26/2023', '2/21/2023', '2/5/2022'),\n",
                "    (30, 28, 83, '5/21/2023', '4/12/2023', '10/18/2022'),\n",
                "    (31, 79, 60, '3/18/2023', '12/11/2023', '4/24/2022'),\n",
                "    (32, 36, 84, '3/15/2023', '10/24/2023', '9/21/2022'),\n",
                "    (33, 97, 85, '12/8/2022', '1/18/2023', '7/2/2022'),\n",
                "    (34, 79, 26, '6/3/2023', '8/4/2023', '9/13/2022'),\n",
                "    (35, 71, 90, '12/23/2022', '5/4/2023', '11/30/2022'),\n",
                "    (36, 38, 51, '5/15/2023', '5/13/2023', '4/10/2022'),\n",
                "    (37, 83, 55, '4/23/2023', '10/1/2023', '11/10/2022'),\n",
                "    (38, 86, 16, '8/13/2023', '1/27/2023', '7/6/2022'),\n",
                "    (39, 59, 61, '3/24/2023', '6/30/2023', '6/11/2022'),\n",
                "    (40, 43, 92, '3/8/2023', '3/13/2023', '7/12/2022'),\n",
                "    (41, 7, 37, '6/11/2023', '12/8/2023', '1/26/2022'),\n",
                "    (42, 70, 8, '7/28/2023', '12/9/2023', '7/13/2022'),\n",
                "    (43, 12, 36, '12/24/2022', '3/29/2023', '2/22/2022'),\n",
                "    (44, 18, 99, '12/6/2022', '3/27/2023', '10/29/2022'),\n",
                "    (45, 31, 87, '12/12/2022', '10/5/2023', '10/17/2022'),\n",
                "    (46, 32, 94, '1/9/2023', '11/14/2023', '3/12/2022'),\n",
                "    (47, 83, 79, '10/14/2023', '3/4/2023', '12/21/2022'),\n",
                "    (48, 85, 43, '8/31/2023', '9/18/2023', '8/9/2022'),\n",
                "    (49, 38, 35, '3/9/2023', '5/29/2023', '5/11/2022'),\n",
                "    (50, 68, 48, '2/19/2023', '9/4/2023', '7/19/2022'),\n",
                "    (51, 27, 47, '9/8/2023', '6/10/2023', '1/15/2022'),\n",
                "    (52, 93, 96, '3/8/2023', '2/7/2023', '1/30/2022'),\n",
                "    (53, 6, 84, '9/2/2023', '7/15/2023', '4/18/2022'),\n",
                "    (54, 91, 15, '4/22/2023', '8/7/2023', '10/29/2022'),\n",
                "    (55, 66, 64, '9/17/2023', '12/5/2023', '4/26/2022'),\n",
                "    (56, 37, 68, '1/25/2023', '12/15/2023', '4/2/2022'),\n",
                "    (57, 55, 77, '11/1/2023', '10/30/2023', '11/11/2022'),\n",
                "    (58, 19, 96, '5/30/2023', '1/2/2023', '8/3/2022'),\n",
                "    (59, 59, 67, '10/20/2023', '6/19/2023', '5/19/2022'),\n",
                "    (60, 95, 84, '3/30/2023', '11/1/2023', '8/6/2022'),\n",
                "    (61, 51, 61, '6/2/2023', '10/1/2023', '12/14/2022'),\n",
                "    (62, 84, 85, '3/10/2023', '9/10/2023', '12/21/2022'),\n",
                "    (63, 37, 24, '7/31/2023', '12/8/2023', '1/3/2022'),\n",
                "    (64, 79, 5, '10/10/2023', '8/31/2023', '2/28/2022'),\n",
                "    (65, 69, 98, '7/28/2023', '1/15/2023', '6/25/2022'),\n",
                "    (66, 70, 84, '12/31/2022', '6/15/2023', '8/18/2022'),\n",
                "    (67, 86, 48, '9/2/2023', '11/10/2023', '4/2/2022'),\n",
                "    (68, 70, 70, '10/24/2023', '9/12/2023', '3/10/2022'),\n",
                "    (69, 76, 97, '5/27/2023', '10/3/2023', '7/15/2022'),\n",
                "    (70, 91, 29, '3/5/2023', '2/8/2023', '4/4/2022'),\n",
                "    (71, 93, 100, '11/10/2023', '2/9/2023', '12/1/2022'),\n",
                "    (72, 100, 73, '12/26/2022', '8/9/2023', '11/22/2022'),\n",
                "    (73, 1, 56, '12/24/2022', '1/7/2023', '9/26/2022'),\n",
                "    (74, 36, 42, '7/18/2023', '3/20/2023', '10/5/2022'),\n",
                "    (75, 86, 36, '1/29/2023', '5/28/2023', '12/30/2021'),\n",
                "    (76, 61, 96, '11/22/2023', '5/27/2023', '5/17/2022'),\n",
                "    (77, 75, 97, '4/28/2023', '12/10/2023', '9/14/2022'),\n",
                "    (78, 29, 75, '7/11/2023', '9/18/2023', '11/7/2022'),\n",
                "    (79, 37, 6, '7/17/2023', '8/31/2023', '12/30/2022'),\n",
                "    (80, 24, 4, '5/19/2023', '8/13/2023', '12/4/2022'),\n",
                "    (81, 40, 46, '8/18/2023', '12/16/2023', '7/30/2022'),\n",
                "    (82, 79, 33, '9/13/2023', '11/3/2023', '4/23/2022'),\n",
                "    (83, 38, 61, '11/4/2023', '11/17/2023', '3/21/2022'),\n",
                "    (84, 43, 79, '6/2/2023', '8/9/2023', '12/13/2022'),\n",
                "    (85, 99, 93, '11/12/2023', '11/15/2023', '4/24/2022'),\n",
                "    (86, 22, 86, '12/29/2022', '8/31/2023', '11/13/2022'),\n",
                "    (87, 37, 17, '3/16/2023', '12/30/2022', '12/13/2022'),\n",
                "    (88, 55, 32, '2/7/2023', '12/11/2023', '3/7/2022'),\n",
                "    (89, 19, 93, '11/29/2022', '9/18/2023', '5/11/2022'),\n",
                "    (90, 98, 96, '9/26/2023', '2/27/2023', '6/8/2022'),\n",
                "    (91, 7, 32, '3/1/2023', '7/14/2023', '7/12/2022'),\n",
                "    (92, 35, 80, '3/14/2023', '2/4/2023', '3/12/2022'),\n",
                "    (93, 18, 79, '1/13/2023', '7/15/2023', '1/4/2022'),\n",
                "    (94, 87, 63, '8/7/2023', '4/22/2023', '6/9/2022'),\n",
                "    (95, 61, 45, '10/14/2023', '6/25/2023', '7/14/2022'),\n",
                "    (96, 31, 62, '8/17/2023', '4/22/2023', '12/29/2022'),\n",
                "    (97, 1, 88, '8/31/2023', '9/9/2023', '5/20/2022'),\n",
                "    (98, 56, 94, '11/16/2023', '2/14/2023', '8/2/2022'),\n",
                "    (99, 10, 54, '9/3/2023', '6/30/2023', '5/23/2022'),\n",
                "    (100, 36, 55, '8/25/2023', '8/5/2023', '4/4/2022');\n",
                "\n",
                "-- Inserting Data in InsuranceLogs Table\n",
                "INSERT INTO InsuranceLogs (VehicleID, InsuranceId, InsuranceStartDate, InsuranceEndDate)\n",
                "VALUES\n",
                "    (46, 67, '3/20/2023', '11/19/2024'),\n",
                "    (72, 74, '11/22/2023', '10/5/2024'),\n",
                "    (43, 16, '12/26/2023', '10/28/2024'),\n",
                "    (21, 65, '4/5/2023', '5/12/2024'),\n",
                "    (59, 68, '8/19/2023', '11/8/2024'),\n",
                "    (18, 96, '10/19/2023', '12/3/2024'),\n",
                "    (94, 11, '1/12/2023', '1/1/2024'),\n",
                "    (86, 51, '2/18/2023', '9/23/2024'),\n",
                "    (41, 75, '8/9/2023', '12/15/2024'),\n",
                "    (56, 62, '8/24/2023', '2/8/2024'),\n",
                "    (62, 46, '3/3/2023', '6/13/2024'),\n",
                "    (28, 76, '1/31/2023', '6/14/2024'),\n",
                "    (28, 95, '3/12/2023', '8/29/2024'),\n",
                "    (54, 8, '2/16/2023', '8/31/2024'),\n",
                "    (82, 97, '11/29/2023', '5/11/2024'),\n",
                "    (9, 27, '1/12/2023', '6/10/2024'),\n",
                "    (24, 50, '8/10/2023', '5/16/2024'),\n",
                "    (12, 68, '3/10/2023', '4/4/2024'),\n",
                "    (90, 56, '11/2/2023', '1/30/2024'),\n",
                "    (12, 17, '6/5/2023', '1/3/2024'),\n",
                "    (1, 20, '4/20/2023', '7/2/2024'),\n",
                "    (60, 52, '5/17/2023', '5/23/2024'),\n",
                "    (60, 63, '1/26/2023', '1/15/2024'),\n",
                "    (28, 67, '5/28/2023', '10/15/2024'),\n",
                "    (61, 2, '1/3/2023', '1/6/2024'),\n",
                "    (14, 43, '3/12/2023', '11/13/2024'),\n",
                "    (66, 9, '5/20/2023', '9/25/2024'),\n",
                "    (94, 41, '5/19/2023', '7/6/2024'),\n",
                "    (36, 95, '5/17/2023', '1/8/2024'),\n",
                "    (86, 95, '5/12/2023', '3/11/2024'),\n",
                "    (54, 100, '3/10/2023', '4/6/2024'),\n",
                "    (27, 47, '3/26/2023', '7/8/2024'),\n",
                "    (93, 75, '10/7/2023', '2/8/2024'),\n",
                "    (77, 9, '11/13/2023', '1/9/2024'),\n",
                "    (76, 30, '1/27/2023', '9/23/2024'),\n",
                "    (49, 71, '2/16/2023', '3/9/2024'),\n",
                "    (54, 91, '7/28/2023', '6/24/2024'),\n",
                "    (33, 92, '2/24/2023', '6/9/2024'),\n",
                "    (44, 14, '7/19/2023', '2/16/2024'),\n",
                "    (70, 42, '7/21/2023', '6/16/2024'),\n",
                "    (23, 81, '4/5/2023', '12/24/2024'),\n",
                "    (18, 88, '11/8/2023', '3/17/2024'),\n",
                "    (39, 40, '8/31/2023', '9/9/2024'),\n",
                "    (6, 80, '3/7/2023', '9/27/2024'),\n",
                "    (86, 22, '6/22/2023', '9/1/2024'),\n",
                "    (9, 59, '6/16/2023', '8/4/2024'),\n",
                "    (27, 46, '9/1/2023', '10/22/2024'),\n",
                "    (47, 100, '7/18/2023', '11/17/2024'),\n",
                "    (32, 42, '6/14/2023', '6/23/2024'),\n",
                "    (87, 61, '5/19/2023', '2/15/2024'),\n",
                "    (30, 57, '7/25/2023', '5/16/2024'),\n",
                "    (88, 84, '1/17/2023', '12/22/2024'),\n",
                "    (53, 88, '4/18/2023', '1/22/2024'),\n",
                "    (43, 44, '12/7/2023', '6/29/2024'),\n",
                "    (4, 42, '10/21/2023', '1/27/2024'),\n",
                "    (2, 2, '1/10/2023', '7/30/2024'),\n",
                "    (58, 9, '9/15/2023', '2/20/2024'),\n",
                "    (50, 87, '11/9/2023', '12/5/2024'),\n",
                "    (21, 38, '10/14/2023', '12/17/2024'),\n",
                "    (84, 40, '6/15/2023', '7/21/2024'),\n",
                "    (31, 58, '10/13/2023', '6/19/2024'),\n",
                "    (54, 28, '11/4/2023', '5/29/2024'),\n",
                "    (44, 31, '2/28/2023', '2/1/2024'),\n",
                "    (57, 1, '9/18/2023', '1/25/2024'),\n",
                "    (82, 78, '6/28/2023', '7/31/2024'),\n",
                "    (94, 64, '2/11/2023', '7/3/2024'),\n",
                "    (61, 63, '5/20/2023', '3/3/2024'),\n",
                "    (40, 11, '3/9/2023', '7/6/2024'),\n",
                "    (98, 81, '11/21/2023', '2/27/2024'),\n",
                "    (44, 63, '10/5/2023', '3/9/2024'),\n",
                "    (93, 9, '8/4/2023', '9/21/2024'),\n",
                "    (21, 12, '1/1/2023', '8/30/2024'),\n",
                "    (43, 61, '1/5/2023', '8/30/2024'),\n",
                "    (95, 25, '12/23/2023', '2/3/2024'),\n",
                "    (71, 63, '10/23/2023', '4/28/2024'),\n",
                "    (91, 85, '6/6/2023', '5/4/2024'),\n",
                "    (77, 74, '1/26/2023', '6/22/2024'),\n",
                "    (65, 26, '6/10/2023', '1/16/2024'),\n",
                "    (54, 64, '1/29/2023', '11/12/2024'),\n",
                "    (41, 93, '10/6/2023', '9/9/2024'),\n",
                "    (34, 32, '4/12/2023', '12/8/2024'),\n",
                "    (64, 44, '5/24/2023', '8/20/2024'),\n",
                "    (75, 56, '2/20/2023', '3/18/2024'),\n",
                "    (90, 78, '3/27/2023', '6/13/2024'),\n",
                "    (5, 23, '2/5/2023', '7/15/2024'),\n",
                "    (11, 64, '4/20/2023', '2/22/2024'),\n",
                "    (47, 99, '4/16/2023', '9/21/2024'),\n",
                "    (62, 94, '1/18/2023', '6/7/2024'),\n",
                "    (52, 12, '2/24/2023', '10/31/2024'),\n",
                "    (27, 17, '2/15/2023', '8/27/2024'),\n",
                "    (36, 26, '5/3/2023', '11/7/2024'),\n",
                "    (98, 56, '8/14/2023', '4/24/2024'),\n",
                "    (1, 1, '6/9/2023', '5/15/2024'),\n",
                "    (44, 68, '4/12/2023', '8/22/2024'),\n",
                "    (53, 68, '5/22/2023', '7/13/2024'),\n",
                "    (43, 74, '4/30/2023', '1/29/2024'),\n",
                "    (89, 28, '4/29/2023', '1/17/2024'),\n",
                "    (74, 90, '10/22/2023', '7/29/2024'),\n",
                "    (87, 50, '6/13/2023', '11/14/2024'),\n",
                "    (95, 33, '11/28/2023', '12/26/2024');"
            ],
            "metadata": {
                "language": "sql",
                "azdata_cell_guid": "8077e5b6-3f31-45c5-a96c-53326023a47a",
                "tags": [
                    "hide_input"
                ]
            },
            "outputs": [],
            "execution_count": null
        },
        {
            "cell_type": "code",
            "source": [
                "-- Displaying Data from Service Table\n",
                "SELECT * FROM Service;\n",
                "\n",
                "-- Displaying Data from Insurance Table\n",
                "SELECT * FROM Insurance;\n",
                "\n",
                "-- Displaying Data from Vehicle Table\n",
                "SELECT * FROM Vehicle;\n",
                "\n",
                "-- Displaying Data from [User] Table\n",
                "SELECT * FROM [User];\n",
                "\n",
                "-- Displaying Data from Customer Table\n",
                "SELECT * FROM Customer;\n",
                "\n",
                "-- Displaying Data from Driver Table\n",
                "SELECT * FROM Driver;\n",
                "\n",
                "-- Displaying Data from Feedback Table\n",
                "SELECT * FROM Feedback;\n",
                "\n",
                "-- Displaying Data from TripEstimate Table\n",
                "SELECT * FROM TripEstimate;\n",
                "\n",
                "-- Displaying Data from RideRequest Table\n",
                "SELECT * FROM RideRequest;\n",
                "\n",
                "-- Displaying Data from ServiceRequest Table\n",
                "SELECT * FROM ServiceRequest;\n",
                "\n",
                "-- Displaying Data from InsuranceLogs Table\n",
                "SELECT * FROM InsuranceLogs;"
            ],
            "metadata": {
                "language": "sql",
                "azdata_cell_guid": "7446b839-d350-4def-9c69-299399607de2",
                "tags": [
                    "hide_input"
                ]
            },
            "outputs": [],
            "execution_count": null
        },
        {
            "cell_type": "code",
            "source": [
                "select * from Customer"
            ],
            "metadata": {
                "azdata_cell_guid": "0bb388d9-202a-44b4-b17e-93dc03d8bf3e",
                "language": "sql",
                "tags": [
                    "hide_input"
                ]
            },
            "outputs": [],
            "execution_count": null
        }
    ]
}