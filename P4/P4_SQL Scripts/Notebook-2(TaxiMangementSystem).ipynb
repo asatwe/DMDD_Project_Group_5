{
    "metadata": {
        "kernelspec": {
            "name": "SQL",
            "display_name": "SQL",
            "language": "sql"
        },
        "language_info": {
            "name": "sql",
            "version": ""
        }
    },
    "nbformat_minor": 2,
    "nbformat": 4,
    "cells": [
        {
            "cell_type": "code",
            "source": [
                "-- Check if the database 'TaxiManagementSystem' exists\n",
                "IF EXISTS (SELECT name FROM sys.databases WHERE name = N'TaxiManagementSystem')\n",
                "BEGIN\n",
                "    -- Drop (delete) the database 'TaxiManagementSystem' if it exists\n",
                "    DROP DATABASE TaxiManagementSystem;\n",
                "END\n",
                "GO"
            ],
            "metadata": {
                "language": "sql",
                "azdata_cell_guid": "d0d7c4de-65d6-498c-b30b-7ba13cdb4b92",
                "tags": []
            },
            "outputs": [],
            "execution_count": null
        },
        {
            "cell_type": "code",
            "source": [
                "-- Create a new database named 'TaxiManagementSystem'\n",
                "CREATE DATABASE TaxiManagementSystem;\n",
                "GO"
            ],
            "metadata": {
                "azdata_cell_guid": "4c3de291-8d76-4f57-aaf6-8f0eee72e6a9",
                "language": "sql",
                "tags": []
            },
            "outputs": [],
            "execution_count": null
        },
        {
            "cell_type": "code",
            "source": [
                "-- Switch to the 'TaxiManagementSystem' database\n",
                "USE TaxiManagementSystem;\n",
                "GO"
            ],
            "metadata": {
                "language": "sql",
                "azdata_cell_guid": "9ced1628-16cd-4d01-8808-6b23f8f6fedc",
                "tags": []
            },
            "outputs": [],
            "execution_count": null
        },
        {
            "cell_type": "code",
            "source": [
                "-- Drop table statements\n",
                "\n",
                "-- ServiceRequest Table\n",
                "DROP TABLE IF EXISTS ServiceRequest;\n",
                "GO\n",
                "\n",
                "-- RideRequest Table\n",
                "DROP TABLE IF EXISTS RideRequest;\n",
                "GO\n",
                "\n",
                "-- Trip Estimate Table\n",
                "DROP TABLE IF EXISTS TripEstimate;\n",
                "GO\n",
                "\n",
                "-- Feedback Table\n",
                "DROP TABLE IF EXISTS Feedback;\n",
                "GO\n",
                "\n",
                "-- Driver Table\n",
                "DROP TABLE IF EXISTS Driver;\n",
                "GO\n",
                "\n",
                "-- User Table\n",
                "DROP TABLE IF EXISTS [User];\n",
                "GO\n",
                "\n",
                "-- Vehicle Table\n",
                "DROP TABLE IF EXISTS Vehicle;\n",
                "GO\n",
                "\n",
                "-- Customer Table\n",
                "DROP TABLE IF EXISTS Customer;\n",
                "GO\n",
                "\n",
                "-- Insurance Table\n",
                "DROP TABLE IF EXISTS Insurance;\n",
                "GO\n",
                "\n",
                "-- Service Table\n",
                "DROP TABLE IF EXISTS Service;\n",
                "GO\n",
                "\n",
                "-- InsuranceLogs Table\n",
                "DROP TABLE IF EXISTS InsuranceLogs;\n",
                "GO"
            ],
            "metadata": {
                "language": "sql",
                "azdata_cell_guid": "73d42d89-9683-4548-ad00-6c17a49b6696",
                "tags": [
                    "hide_input"
                ]
            },
            "outputs": [],
            "execution_count": null
        },
        {
            "cell_type": "code",
            "source": [
                "-- Service Table\n",
                "CREATE TABLE Service (\n",
                "    ServiceId INT PRIMARY KEY,          -- Unique identifier for each service\n",
                "    ServiceCompanyName VARCHAR(50),     -- Name of the company providing the service\n",
                "    ServiceName VARCHAR(50),            -- Name of the service\n",
                "    ServiceDetails VARCHAR(255)         -- Additional details or description of the service\n",
                ");\n",
                "GO"
            ],
            "metadata": {
                "language": "sql",
                "azdata_cell_guid": "b742c88c-d5e2-4d66-894b-4dd94b6fd9e2",
                "tags": []
            },
            "outputs": [],
            "execution_count": null
        },
        {
            "cell_type": "code",
            "source": [
                "-- Insurance Table\n",
                "CREATE TABLE Insurance (\n",
                "    InsuranceId INT PRIMARY KEY,            -- Unique identifier for each insurance record\n",
                "    InsuranceProvider VARCHAR(50),          -- Name of the insurance provider\n",
                "    InsuranceCoverage VARCHAR(255),         -- Details of insurance coverage\n",
                "    InsurancePremium DECIMAL(10, 2),        -- Cost of the insurance premium (monetary value with two decimal places)\n",
                "    InsuranceDeductible DECIMAL(10, 2)      -- Deductible amount for the insurance (monetary value with two decimal places)\n",
                ");\n",
                "GO"
            ],
            "metadata": {
                "language": "sql",
                "azdata_cell_guid": "231b7d24-ab47-4bce-9969-eb0e9bf01b36",
                "tags": []
            },
            "outputs": [],
            "execution_count": null
        },
        {
            "cell_type": "code",
            "source": [
                "-- Vehicle Table\n",
                "CREATE TABLE Vehicle (\n",
                "    VehicleId INT PRIMARY KEY,                                      -- Unique identifier for each vehicle\n",
                "    VehicleType VARCHAR(50),                                        -- Type or model of the vehicle\n",
                "    ServiceInfo VARCHAR(255),                                       -- Information about the vehicle's service history\n",
                "    InsuranceInfo CHAR(1) CHECK (InsuranceInfo IN ('Y', 'N'))       -- Check constraint for InsuranceInfo (Y for present, N for not present)\n",
                ");\n",
                "GO"
            ],
            "metadata": {
                "language": "sql",
                "azdata_cell_guid": "58adcf82-58a8-418a-a58c-3813faac6945",
                "tags": []
            },
            "outputs": [],
            "execution_count": null
        },
        {
            "cell_type": "code",
            "source": [
                "-- User Table\n",
                "CREATE TABLE [User] (\n",
                "    UserID INT PRIMARY KEY,                                         -- Unique identifier for each user\n",
                "    UserFName VARCHAR(50) NOT NULL,                                 -- User's first name\n",
                "    UserLName VARCHAR(50) NOT NULL,                                 -- User's last name\n",
                "    PhoneNumber VARCHAR(15) NOT NULL,                               -- User's phone number\n",
                "    EmailId VARCHAR(255) NOT NULL,                                  -- User's email address\n",
                "    DOB DATE NOT NULL,                                              -- User's date of birth\n",
                "    BankAccInfo VARCHAR(255) NOT NULL,                              -- User's bank account information\n",
                "    UserType CHAR(1) NOT NULL CHECK (UserType IN ('D', 'C')),       -- Type of user (D for driver, C for customer)\n",
                ");\n",
                "GO"
            ],
            "metadata": {
                "language": "sql",
                "azdata_cell_guid": "5f4b89d8-454c-4c07-a70a-32bf1c1a0148",
                "tags": []
            },
            "outputs": [],
            "execution_count": null
        },
        {
            "cell_type": "code",
            "source": [
                "-- Customer Table\n",
                "-- This table stores information about customers who use the service.\n",
                "CREATE TABLE Customer (\n",
                "    CustomerId INT PRIMARY KEY,                             -- Unique identifier for each customer\n",
                "    UserID INT FOREIGN KEY REFERENCES [User](UserID),       -- Foreign key referencing the User table to link with user information\n",
                "    PaymentInfo VARCHAR(255)                                -- Payment information for the customer, such as payment methods or details\n",
                ");\n",
                "GO"
            ],
            "metadata": {
                "language": "sql",
                "azdata_cell_guid": "6193b2c1-7817-45ac-86ce-94006126c160",
                "tags": []
            },
            "outputs": [],
            "execution_count": null
        },
        {
            "cell_type": "code",
            "source": [
                "-- Driver Table\n",
                "-- This table stores information about drivers who provide services using vehicles.\n",
                "\n",
                "CREATE TABLE Driver (\n",
                "    DriverID INT PRIMARY KEY NOT NULL,                               -- Unique identifier for each driver\n",
                "    UserID INT FOREIGN KEY REFERENCES [User](UserID),                -- Foreign key referencing the User table to link with user information\n",
                "    VehicleID INT FOREIGN KEY REFERENCES Vehicle(VehicleID),         -- Foreign key referencing the Vehicle table to link with vehicle information\n",
                "    LicenseInfo VARCHAR(255) NOT NULL,                               -- Driver's license information\n",
                ");\n",
                "GO"
            ],
            "metadata": {
                "language": "sql",
                "azdata_cell_guid": "6b0ceb59-f890-48c5-9e4e-367c9e06fffb",
                "tags": []
            },
            "outputs": [],
            "execution_count": null
        },
        {
            "cell_type": "code",
            "source": [
                "-- Feedback Table\n",
                "CREATE TABLE Feedback (\n",
                "    FeedbackID INT PRIMARY KEY NOT NULL,                            -- Unique identifier for each feedback record\n",
                "    CustomerID INT FOREIGN KEY REFERENCES Customer(CustomerId),     -- Foreign key referencing Customer table\n",
                "    DriverID INT FOREIGN KEY REFERENCES Driver(DriverID),           -- Foreign key referencing Driver table\n",
                "    Message VARCHAR(255) NOT NULL                                   -- Feedback message\n",
                ");\n",
                "GO"
            ],
            "metadata": {
                "language": "sql",
                "azdata_cell_guid": "fb2e1229-e57a-4f47-9305-205c5474ffac",
                "tags": []
            },
            "outputs": [],
            "execution_count": null
        },
        {
            "cell_type": "code",
            "source": [
                "-- Trip Estimate Table\n",
                "CREATE TABLE TripEstimate (\n",
                "    EstimationId INT PRIMARY KEY NOT NULL,                          -- Unique identifier for each trip estimate\n",
                "    VehicleID INT FOREIGN KEY REFERENCES Vehicle(VehicleID),        -- Foreign key referencing Vehicle table\n",
                "    CurrentTime DATETIME NOT NULL,                                  -- Timestamp of the trip estimate\n",
                "    Cost DECIMAL(10, 2) NOT NULL                                    -- Estimated cost of the trip\n",
                ");\n",
                "GO"
            ],
            "metadata": {
                "language": "sql",
                "azdata_cell_guid": "0d732e1c-7f15-4d4b-b703-11ffa46b73ea",
                "tags": []
            },
            "outputs": [],
            "execution_count": null
        },
        {
            "cell_type": "code",
            "source": [
                "-- RideRequest Table\n",
                "CREATE TABLE RideRequest (\n",
                "    RequestId INT PRIMARY KEY NOT NULL,                                                 -- Unique identifier for each ride request\n",
                "    EstimationID INT FOREIGN KEY REFERENCES TripEstimate(EstimationId),                 -- Foreign key referencing TripEstimate table\n",
                "    VehicleID INT FOREIGN KEY REFERENCES Vehicle(VehicleID),                            -- Foreign key referencing Vehicle table\n",
                "    RequestType VARCHAR(50) NOT NULL,                                                   -- Type of the ride request\n",
                "    ReqDateTime DATETIME NOT NULL,                                                      -- Timestamp of the ride request\n",
                "    PickUpLocationLatitude DECIMAL(10, 6) NOT NULL,                                     -- Latitude of the pickup location\n",
                "    PickUpLocationLongitude DECIMAL(10, 6) NOT NULL,                                    -- Longitude of the pickup location\n",
                "    DestinationLocationLatitude DECIMAL(10, 6) NOT NULL,                                -- Latitude of the destination location\n",
                "    DestinationLocationLongitude DECIMAL(10, 6) NOT NULL,                               -- Longitude of the destination location\n",
                "    TripType VARCHAR(50) NOT NULL CHECK (TripType IN ('City Cab', 'Out Station Cab')),  -- Type of the trip\n",
                "    TripCompletionFlag BIT NOT NULL,                                                    -- Flag indicating trip completion status\n",
                "    PickUpLocation VARCHAR(50) NOT NULL,                                                -- Textual description of the pickup location\n",
                "    DestinationLocation VARCHAR(50) NOT NULL                                            -- Textual description of the destination location\n",
                ");\n",
                "GO"
            ],
            "metadata": {
                "language": "sql",
                "azdata_cell_guid": "a43d29c2-ba92-4a25-8463-99c195492ff3",
                "tags": []
            },
            "outputs": [],
            "execution_count": null
        },
        {
            "cell_type": "code",
            "source": [
                "-- ServiceRequest Table\n",
                "CREATE TABLE ServiceRequest (\n",
                "    SerReqId INT PRIMARY KEY NOT NULL,                             -- Unique identifier for each service request\n",
                "    VehicleId INT FOREIGN KEY REFERENCES Vehicle(VehicleID),       -- Foreign key referencing Vehicle table\n",
                "    ServiceId INT FOREIGN KEY REFERENCES Service(ServiceID),       -- Foreign key referencing Service table\n",
                "    ReqDateTime DATETIME NOT NULL,                                 -- Timestamp of the service request\n",
                "    ServiceDueDate DATE NOT NULL,                                  -- Due date for the requested service\n",
                "    PreviousServiceDate DATE NOT NULL                              -- Date of the previous service for the vehicle\n",
                ");\n",
                "GO"
            ],
            "metadata": {
                "language": "sql",
                "azdata_cell_guid": "ada84465-eb53-4567-9fbd-7f1e03e72839",
                "tags": []
            },
            "outputs": [],
            "execution_count": null
        },
        {
            "cell_type": "code",
            "source": [
                "-- InsuranceLogs Table\n",
                "CREATE TABLE InsuranceLogs (\n",
                "    VehicleID INT FOREIGN KEY REFERENCES Vehicle(VehicleID),            -- Foreign key referencing Vehicle table\n",
                "    InsuranceId INT FOREIGN KEY REFERENCES Insurance(InsuranceId),      -- Foreign key referencing Insurance table\n",
                "    InsuranceStartDate DATE NOT NULL,                                   -- Start date of the insurance coverage\n",
                "    InsuranceEndDate DATE NOT NULL                                      -- End date of the insurance coverage\n",
                ");\n",
                "GO"
            ],
            "metadata": {
                "language": "sql",
                "azdata_cell_guid": "8f9a6c87-6410-468b-a7e7-dec4b77866e8",
                "tags": []
            },
            "outputs": [],
            "execution_count": null
        },
        {
            "cell_type": "code",
            "source": [
                "-- Inserting Data in Service Table\n",
                "INSERT INTO Service (ServiceId, ServiceCompanyName, ServiceName, ServiceDetails)\n",
                "VALUES \n",
                "    (1, 'ABC Service Company', 'Regular Maintenance', 'Scheduled maintenance and inspection'),\n",
                "    (2, 'XYZ Repairs', 'Brake Replacement', 'Replacement of worn-out brake components'),\n",
                "    (3, 'QuickOil', 'Oil Change', 'Fast and efficient oil change service'),\n",
                "    (4, 'Sparkle Wash', 'Car Wash', 'Exterior and interior cleaning services'),\n",
                "    (5, 'Coolant Experts', 'Coolant Flush', 'Professional coolant system flushing');\n",
                "\n",
                "-- Inserting Data in Insurance Table\n",
                "INSERT INTO Insurance (InsuranceId, InsuranceProvider, InsuranceCoverage, InsurancePremium, InsuranceDeductible)\n",
                "VALUES \n",
                "    (1, 'XYZ Insurance', 'Comprehensive Coverage', 500.00, 50.00),\n",
                "    (2, 'SafeDrive Assurance', 'Liability Coverage', 300.00, 30.00),\n",
                "    (3, 'Guardian Insurers', 'Collision Coverage', 400.00, 40.00),\n",
                "    (4, 'Shield Protect', 'Full Coverage', 600.00, 60.00),\n",
                "    (5, 'SureSafety Insurance', 'Uninsured Motorist Coverage', 250.00, 25.00);\n",
                "\n",
                "-- Inserting Data in Vehicle Table\n",
                "INSERT INTO Vehicle (VehicleId, VehicleType, ServiceInfo, InsuranceInfo)\n",
                "VALUES \n",
                "    (1, 'Sedan', 'Regularly serviced', 'Y'),\n",
                "    (2, 'SUV', 'Bi-annual check-ups', 'Y'),\n",
                "    (3, 'Truck', 'Heavy-duty maintenance', 'N'),\n",
                "    (4, 'Compact', 'Fuel-efficient model', 'Y'),\n",
                "    (5, 'Convertible', 'Specialized care', 'N');\n",
                "\n",
                "-- Inserting Data in [User] Table\n",
                "INSERT INTO [User] (UserID, UserFName, UserLName, PhoneNumber, EmailId, DOB, BankAccInfo, UserType)\n",
                "VALUES \n",
                "    (1, 'John', 'Doe', '123-456-7890', 'john.doe@email.com', '1990-01-01', 'Bank XXXX-XXXX-XXXX', 'C'),\n",
                "    (2, 'Alice', 'Johnson', '987-654-3210', 'alice.johnson@email.com', '1985-05-15', 'Bank YYYY-YYYY-YYYY', 'D'),\n",
                "    (3, 'Bob', 'Smith', '555-123-4567', 'bob.smith@email.com', '1978-09-30', 'Bank ZZZZ-ZZZZ-ZZZZ', 'C'),\n",
                "    (4, 'Eva', 'Williams', '111-222-3333', 'eva.williams@email.com', '1995-07-20', 'Bank ABCD-1234-5678', 'D'),\n",
                "    (5, 'Chris', 'Taylor', '777-888-9999', 'chris.taylor@email.com', '1982-03-10', 'Bank WXYZ-5678-9012', 'C');\n",
                "\n",
                "-- Inserting Data in Customer Table\n",
                "INSERT INTO Customer (CustomerId, UserID, PaymentInfo)\n",
                "VALUES \n",
                "    (1, 1, 'Credit Card - XXXX-XXXX-XXXX-XXXX'),\n",
                "    (2, 3, 'PayPal - user@example.com'),\n",
                "    (3, 5, 'Debit Card - YYYY-YYYY-YYYY-YYYY'),\n",
                "    (4, 2, 'Bank Transfer - Account: XXXXXXXX, Routing: YYYYYYYY'),\n",
                "    (5, 4, 'Cash on Delivery');\n",
                "\n",
                "-- Inserting Data in Driver Table\n",
                "INSERT INTO Driver (DriverID, UserID, VehicleID, LicenseInfo)\n",
                "VALUES \n",
                "    (1, 2, 2, 'DL123456'),\n",
                "    (2, 4, 1, 'DL789012'),\n",
                "    (3, 5, 4, 'DL345678'),\n",
                "    (4, 3, 3, 'DL901234'),\n",
                "    (5, 1, 5, 'DL567890');\n",
                "\n",
                "-- Inserting Data in Feedback Table\n",
                "INSERT INTO Feedback (FeedbackID, CustomerID, DriverID, Message)\n",
                "VALUES \n",
                "    (1, 1, 2, 'Excellent service!'),\n",
                "    (2, 3, 4, 'Driver was punctual.'),\n",
                "    (3, 5, 1, 'Vehicle was clean and well-maintained.'),\n",
                "    (4, 2, 3, 'Smooth and safe driving.'),\n",
                "    (5, 4, 5, 'Driver was courteous.');\n",
                "\n",
                "-- Inserting Data in TripEstimate Table\n",
                "INSERT INTO TripEstimate (EstimationId, VehicleID, CurrentTime, Cost)\n",
                "VALUES \n",
                "    (1, 2, '2023-11-24 08:00:00', 35.50),\n",
                "    (2, 4, '2023-11-25 14:30:00', 20.75),\n",
                "    (3, 1, '2023-11-26 10:45:00', 45.20),\n",
                "    (4, 3, '2023-11-27 18:20:00', 30.00),\n",
                "    (5, 5, '2023-11-28 22:15:00', 55.80);\n",
                "\n",
                "-- Inserting Data in RideRequest Table\n",
                "INSERT INTO RideRequest (RequestId, EstimationID, VehicleID, RequestType, ReqDateTime, \n",
                "    PickUpLocationLatitude, PickUpLocationLongitude, DestinationLocationLatitude, \n",
                "    DestinationLocationLongitude, TripType, TripCompletionFlag, PickUpLocation, DestinationLocation)\n",
                "VALUES \n",
                "    (1, 1, 2, 'City Cab', '2023-11-24 09:00:00', 40.7128, -74.0060, 40.7414, -73.9906, 'City Cab', 1, '123 Main St', '456 Broadway'),\n",
                "    (2, 2, 4, 'Out Station Cab', '2023-11-25 15:00:00', 34.0522, -118.2437, 37.7749, -122.4194, 'Out Station Cab', 0, '789 Oak St', '101 Pine St'),\n",
                "    (3, 3, 1, 'City Cab', '2023-11-26 11:00:00', 41.8781, -87.6298, 39.9526, -75.1652, 'City Cab', 1, '567 Elm St', '202 Walnut St'),\n",
                "    (4, 4, 3, 'Out Station Cab', '2023-11-27 19:00:00', 29.7604, -95.3698, 32.7767, -96.7970, 'Out Station Cab', 0, '890 Maple St', '303 Oak St'),\n",
                "    (5, 5, 5, 'City Cab', '2023-11-28 23:00:00', 34.0522, -118.2437, 34.0522, -118.2437, 'City Cab', 1, '111 Pine St', '999 Maple St');\n",
                "\n",
                "-- Inserting Data in ServiceRequest Table\n",
                "INSERT INTO ServiceRequest (SerReqId, VehicleId, ServiceId, ReqDateTime, ServiceDueDate, PreviousServiceDate)\n",
                "VALUES \n",
                "    (1, 2, 1, '2023-11-24 10:00:00', '2023-12-01', '2023-11-01'),\n",
                "    (2, 4, 3, '2023-11-25 16:00:00', '2023-12-05', '2023-11-01'),\n",
                "    (3, 1, 2, '2023-11-26 12:00:00', '2023-12-10', '2023-11-01'),\n",
                "    (4, 3, 4, '2023-11-27 20:00:00', '2023-12-15', '2023-11-01'),\n",
                "    (5, 5, 5, '2023-11-29 00:00:00', '2023-12-20', '2023-11-01');\n",
                "\n",
                "-- Inserting Data in InsuranceLogs Table\n",
                "INSERT INTO InsuranceLogs (VehicleID, InsuranceId, InsuranceStartDate, InsuranceEndDate)\n",
                "VALUES \n",
                "    (2, 1, '2023-01-01', '2023-12-31'),\n",
                "    (4, 2, '2023-02-01', '2023-11-30'),\n",
                "    (1, 3, '2023-03-01', '2023-12-15'),\n",
                "    (3, 4, '2023-04-01', '2023-12-20'),\n",
                "    (5, 5, '2023-05-01', '2023-12-25');"
            ],
            "metadata": {
                "language": "sql",
                "azdata_cell_guid": "8077e5b6-3f31-45c5-a96c-53326023a47a"
            },
            "outputs": [],
            "execution_count": null
        },
        {
            "cell_type": "code",
            "source": [
                "-- Displaying Data from Service Table\n",
                "SELECT * FROM Service;\n",
                "\n",
                "-- Displaying Data from Insurance Table\n",
                "SELECT * FROM Insurance;\n",
                "\n",
                "-- Displaying Data from Vehicle Table\n",
                "SELECT * FROM Vehicle;\n",
                "\n",
                "-- Displaying Data from [User] Table\n",
                "SELECT * FROM [User];\n",
                "\n",
                "-- Displaying Data from Customer Table\n",
                "SELECT * FROM Customer;\n",
                "\n",
                "-- Displaying Data from Driver Table\n",
                "SELECT * FROM Driver;\n",
                "\n",
                "-- Displaying Data from Feedback Table\n",
                "SELECT * FROM Feedback;\n",
                "\n",
                "-- Displaying Data from TripEstimate Table\n",
                "SELECT * FROM TripEstimate;\n",
                "\n",
                "-- Displaying Data from RideRequest Table\n",
                "SELECT * FROM RideRequest;\n",
                "\n",
                "-- Displaying Data from ServiceRequest Table\n",
                "SELECT * FROM ServiceRequest;\n",
                "\n",
                "-- Displaying Data from InsuranceLogs Table\n",
                "SELECT * FROM InsuranceLogs;"
            ],
            "metadata": {
                "language": "sql",
                "azdata_cell_guid": "7446b839-d350-4def-9c69-299399607de2"
            },
            "outputs": [
                {
                    "output_type": "display_data",
                    "data": {
                        "text/html": "(5 rows affected)"
                    },
                    "metadata": {}
                },
                {
                    "output_type": "display_data",
                    "data": {
                        "text/html": "(5 rows affected)"
                    },
                    "metadata": {}
                },
                {
                    "output_type": "display_data",
                    "data": {
                        "text/html": "(5 rows affected)"
                    },
                    "metadata": {}
                },
                {
                    "output_type": "display_data",
                    "data": {
                        "text/html": "(5 rows affected)"
                    },
                    "metadata": {}
                },
                {
                    "output_type": "display_data",
                    "data": {
                        "text/html": "(5 rows affected)"
                    },
                    "metadata": {}
                },
                {
                    "output_type": "display_data",
                    "data": {
                        "text/html": "(5 rows affected)"
                    },
                    "metadata": {}
                },
                {
                    "output_type": "display_data",
                    "data": {
                        "text/html": "(5 rows affected)"
                    },
                    "metadata": {}
                },
                {
                    "output_type": "display_data",
                    "data": {
                        "text/html": "(5 rows affected)"
                    },
                    "metadata": {}
                },
                {
                    "output_type": "display_data",
                    "data": {
                        "text/html": "(5 rows affected)"
                    },
                    "metadata": {}
                },
                {
                    "output_type": "display_data",
                    "data": {
                        "text/html": "(5 rows affected)"
                    },
                    "metadata": {}
                },
                {
                    "output_type": "display_data",
                    "data": {
                        "text/html": "(5 rows affected)"
                    },
                    "metadata": {}
                },
                {
                    "output_type": "display_data",
                    "data": {
                        "text/html": "Total execution time: 00:00:00.030"
                    },
                    "metadata": {}
                },
                {
                    "output_type": "execute_result",
                    "metadata": {},
                    "execution_count": 51,
                    "data": {
                        "application/vnd.dataresource+json": {
                            "schema": {
                                "fields": [
                                    {
                                        "name": "ServiceId"
                                    },
                                    {
                                        "name": "ServiceCompanyName"
                                    },
                                    {
                                        "name": "ServiceName"
                                    },
                                    {
                                        "name": "ServiceDetails"
                                    }
                                ]
                            },
                            "data": [
                                {
                                    "ServiceId": "1",
                                    "ServiceCompanyName": "ABC Service Company",
                                    "ServiceName": "Regular Maintenance",
                                    "ServiceDetails": "Scheduled maintenance and inspection"
                                },
                                {
                                    "ServiceId": "2",
                                    "ServiceCompanyName": "XYZ Repairs",
                                    "ServiceName": "Brake Replacement",
                                    "ServiceDetails": "Replacement of worn-out brake components"
                                },
                                {
                                    "ServiceId": "3",
                                    "ServiceCompanyName": "QuickOil",
                                    "ServiceName": "Oil Change",
                                    "ServiceDetails": "Fast and efficient oil change service"
                                },
                                {
                                    "ServiceId": "4",
                                    "ServiceCompanyName": "Sparkle Wash",
                                    "ServiceName": "Car Wash",
                                    "ServiceDetails": "Exterior and interior cleaning services"
                                },
                                {
                                    "ServiceId": "5",
                                    "ServiceCompanyName": "Coolant Experts",
                                    "ServiceName": "Coolant Flush",
                                    "ServiceDetails": "Professional coolant system flushing"
                                }
                            ]
                        },
                        "text/html": [
                            "<table>",
                            "<tr><th>ServiceId</th><th>ServiceCompanyName</th><th>ServiceName</th><th>ServiceDetails</th></tr>",
                            "<tr><td>1</td><td>ABC Service Company</td><td>Regular Maintenance</td><td>Scheduled maintenance and inspection</td></tr>",
                            "<tr><td>2</td><td>XYZ Repairs</td><td>Brake Replacement</td><td>Replacement of worn-out brake components</td></tr>",
                            "<tr><td>3</td><td>QuickOil</td><td>Oil Change</td><td>Fast and efficient oil change service</td></tr>",
                            "<tr><td>4</td><td>Sparkle Wash</td><td>Car Wash</td><td>Exterior and interior cleaning services</td></tr>",
                            "<tr><td>5</td><td>Coolant Experts</td><td>Coolant Flush</td><td>Professional coolant system flushing</td></tr>",
                            "</table>"
                        ]
                    }
                },
                {
                    "output_type": "execute_result",
                    "metadata": {},
                    "execution_count": 51,
                    "data": {
                        "application/vnd.dataresource+json": {
                            "schema": {
                                "fields": [
                                    {
                                        "name": "InsuranceId"
                                    },
                                    {
                                        "name": "InsuranceProvider"
                                    },
                                    {
                                        "name": "InsuranceCoverage"
                                    },
                                    {
                                        "name": "InsurancePremium"
                                    },
                                    {
                                        "name": "InsuranceDeductible"
                                    }
                                ]
                            },
                            "data": [
                                {
                                    "InsuranceId": "1",
                                    "InsuranceProvider": "XYZ Insurance",
                                    "InsuranceCoverage": "Comprehensive Coverage",
                                    "InsurancePremium": "500.00",
                                    "InsuranceDeductible": "50.00"
                                },
                                {
                                    "InsuranceId": "2",
                                    "InsuranceProvider": "SafeDrive Assurance",
                                    "InsuranceCoverage": "Liability Coverage",
                                    "InsurancePremium": "300.00",
                                    "InsuranceDeductible": "30.00"
                                },
                                {
                                    "InsuranceId": "3",
                                    "InsuranceProvider": "Guardian Insurers",
                                    "InsuranceCoverage": "Collision Coverage",
                                    "InsurancePremium": "400.00",
                                    "InsuranceDeductible": "40.00"
                                },
                                {
                                    "InsuranceId": "4",
                                    "InsuranceProvider": "Shield Protect",
                                    "InsuranceCoverage": "Full Coverage",
                                    "InsurancePremium": "600.00",
                                    "InsuranceDeductible": "60.00"
                                },
                                {
                                    "InsuranceId": "5",
                                    "InsuranceProvider": "SureSafety Insurance",
                                    "InsuranceCoverage": "Uninsured Motorist Coverage",
                                    "InsurancePremium": "250.00",
                                    "InsuranceDeductible": "25.00"
                                }
                            ]
                        },
                        "text/html": [
                            "<table>",
                            "<tr><th>InsuranceId</th><th>InsuranceProvider</th><th>InsuranceCoverage</th><th>InsurancePremium</th><th>InsuranceDeductible</th></tr>",
                            "<tr><td>1</td><td>XYZ Insurance</td><td>Comprehensive Coverage</td><td>500.00</td><td>50.00</td></tr>",
                            "<tr><td>2</td><td>SafeDrive Assurance</td><td>Liability Coverage</td><td>300.00</td><td>30.00</td></tr>",
                            "<tr><td>3</td><td>Guardian Insurers</td><td>Collision Coverage</td><td>400.00</td><td>40.00</td></tr>",
                            "<tr><td>4</td><td>Shield Protect</td><td>Full Coverage</td><td>600.00</td><td>60.00</td></tr>",
                            "<tr><td>5</td><td>SureSafety Insurance</td><td>Uninsured Motorist Coverage</td><td>250.00</td><td>25.00</td></tr>",
                            "</table>"
                        ]
                    }
                },
                {
                    "output_type": "execute_result",
                    "metadata": {},
                    "execution_count": 51,
                    "data": {
                        "application/vnd.dataresource+json": {
                            "schema": {
                                "fields": [
                                    {
                                        "name": "VehicleId"
                                    },
                                    {
                                        "name": "VehicleType"
                                    },
                                    {
                                        "name": "ServiceInfo"
                                    },
                                    {
                                        "name": "InsuranceInfo"
                                    }
                                ]
                            },
                            "data": [
                                {
                                    "VehicleId": "1",
                                    "VehicleType": "Sedan",
                                    "ServiceInfo": "Regularly serviced",
                                    "InsuranceInfo": "Y"
                                },
                                {
                                    "VehicleId": "2",
                                    "VehicleType": "SUV",
                                    "ServiceInfo": "Bi-annual check-ups",
                                    "InsuranceInfo": "Y"
                                },
                                {
                                    "VehicleId": "3",
                                    "VehicleType": "Truck",
                                    "ServiceInfo": "Heavy-duty maintenance",
                                    "InsuranceInfo": "N"
                                },
                                {
                                    "VehicleId": "4",
                                    "VehicleType": "Compact",
                                    "ServiceInfo": "Fuel-efficient model",
                                    "InsuranceInfo": "Y"
                                },
                                {
                                    "VehicleId": "5",
                                    "VehicleType": "Convertible",
                                    "ServiceInfo": "Specialized care",
                                    "InsuranceInfo": "N"
                                }
                            ]
                        },
                        "text/html": [
                            "<table>",
                            "<tr><th>VehicleId</th><th>VehicleType</th><th>ServiceInfo</th><th>InsuranceInfo</th></tr>",
                            "<tr><td>1</td><td>Sedan</td><td>Regularly serviced</td><td>Y</td></tr>",
                            "<tr><td>2</td><td>SUV</td><td>Bi-annual check-ups</td><td>Y</td></tr>",
                            "<tr><td>3</td><td>Truck</td><td>Heavy-duty maintenance</td><td>N</td></tr>",
                            "<tr><td>4</td><td>Compact</td><td>Fuel-efficient model</td><td>Y</td></tr>",
                            "<tr><td>5</td><td>Convertible</td><td>Specialized care</td><td>N</td></tr>",
                            "</table>"
                        ]
                    }
                },
                {
                    "output_type": "execute_result",
                    "metadata": {},
                    "execution_count": 51,
                    "data": {
                        "application/vnd.dataresource+json": {
                            "schema": {
                                "fields": [
                                    {
                                        "name": "UserID"
                                    },
                                    {
                                        "name": "UserFName"
                                    },
                                    {
                                        "name": "UserLName"
                                    },
                                    {
                                        "name": "PhoneNumber"
                                    },
                                    {
                                        "name": "EmailId"
                                    },
                                    {
                                        "name": "DOB"
                                    },
                                    {
                                        "name": "BankAccInfo"
                                    },
                                    {
                                        "name": "UserType"
                                    }
                                ]
                            },
                            "data": [
                                {
                                    "UserID": "1",
                                    "UserFName": "John",
                                    "UserLName": "Doe",
                                    "PhoneNumber": "123-456-7890",
                                    "EmailId": "john.doe@email.com",
                                    "DOB": "1990-01-01",
                                    "BankAccInfo": "Bank XXXX-XXXX-XXXX",
                                    "UserType": "C"
                                },
                                {
                                    "UserID": "2",
                                    "UserFName": "Alice",
                                    "UserLName": "Johnson",
                                    "PhoneNumber": "987-654-3210",
                                    "EmailId": "alice.johnson@email.com",
                                    "DOB": "1985-05-15",
                                    "BankAccInfo": "Bank YYYY-YYYY-YYYY",
                                    "UserType": "D"
                                },
                                {
                                    "UserID": "3",
                                    "UserFName": "Bob",
                                    "UserLName": "Smith",
                                    "PhoneNumber": "555-123-4567",
                                    "EmailId": "bob.smith@email.com",
                                    "DOB": "1978-09-30",
                                    "BankAccInfo": "Bank ZZZZ-ZZZZ-ZZZZ",
                                    "UserType": "C"
                                },
                                {
                                    "UserID": "4",
                                    "UserFName": "Eva",
                                    "UserLName": "Williams",
                                    "PhoneNumber": "111-222-3333",
                                    "EmailId": "eva.williams@email.com",
                                    "DOB": "1995-07-20",
                                    "BankAccInfo": "Bank ABCD-1234-5678",
                                    "UserType": "D"
                                },
                                {
                                    "UserID": "5",
                                    "UserFName": "Chris",
                                    "UserLName": "Taylor",
                                    "PhoneNumber": "777-888-9999",
                                    "EmailId": "chris.taylor@email.com",
                                    "DOB": "1982-03-10",
                                    "BankAccInfo": "Bank WXYZ-5678-9012",
                                    "UserType": "C"
                                }
                            ]
                        },
                        "text/html": [
                            "<table>",
                            "<tr><th>UserID</th><th>UserFName</th><th>UserLName</th><th>PhoneNumber</th><th>EmailId</th><th>DOB</th><th>BankAccInfo</th><th>UserType</th></tr>",
                            "<tr><td>1</td><td>John</td><td>Doe</td><td>123-456-7890</td><td>john.doe@email.com</td><td>1990-01-01</td><td>Bank XXXX-XXXX-XXXX</td><td>C</td></tr>",
                            "<tr><td>2</td><td>Alice</td><td>Johnson</td><td>987-654-3210</td><td>alice.johnson@email.com</td><td>1985-05-15</td><td>Bank YYYY-YYYY-YYYY</td><td>D</td></tr>",
                            "<tr><td>3</td><td>Bob</td><td>Smith</td><td>555-123-4567</td><td>bob.smith@email.com</td><td>1978-09-30</td><td>Bank ZZZZ-ZZZZ-ZZZZ</td><td>C</td></tr>",
                            "<tr><td>4</td><td>Eva</td><td>Williams</td><td>111-222-3333</td><td>eva.williams@email.com</td><td>1995-07-20</td><td>Bank ABCD-1234-5678</td><td>D</td></tr>",
                            "<tr><td>5</td><td>Chris</td><td>Taylor</td><td>777-888-9999</td><td>chris.taylor@email.com</td><td>1982-03-10</td><td>Bank WXYZ-5678-9012</td><td>C</td></tr>",
                            "</table>"
                        ]
                    }
                },
                {
                    "output_type": "execute_result",
                    "metadata": {},
                    "execution_count": 51,
                    "data": {
                        "application/vnd.dataresource+json": {
                            "schema": {
                                "fields": [
                                    {
                                        "name": "CustomerId"
                                    },
                                    {
                                        "name": "UserID"
                                    },
                                    {
                                        "name": "PaymentInfo"
                                    }
                                ]
                            },
                            "data": [
                                {
                                    "CustomerId": "1",
                                    "UserID": "1",
                                    "PaymentInfo": "Credit Card - XXXX-XXXX-XXXX-XXXX"
                                },
                                {
                                    "CustomerId": "2",
                                    "UserID": "3",
                                    "PaymentInfo": "PayPal - user@example.com"
                                },
                                {
                                    "CustomerId": "3",
                                    "UserID": "5",
                                    "PaymentInfo": "Debit Card - YYYY-YYYY-YYYY-YYYY"
                                },
                                {
                                    "CustomerId": "4",
                                    "UserID": "2",
                                    "PaymentInfo": "Bank Transfer - Account: XXXXXXXX, Routing: YYYYYYYY"
                                },
                                {
                                    "CustomerId": "5",
                                    "UserID": "4",
                                    "PaymentInfo": "Cash on Delivery"
                                }
                            ]
                        },
                        "text/html": [
                            "<table>",
                            "<tr><th>CustomerId</th><th>UserID</th><th>PaymentInfo</th></tr>",
                            "<tr><td>1</td><td>1</td><td>Credit Card - XXXX-XXXX-XXXX-XXXX</td></tr>",
                            "<tr><td>2</td><td>3</td><td>PayPal - user@example.com</td></tr>",
                            "<tr><td>3</td><td>5</td><td>Debit Card - YYYY-YYYY-YYYY-YYYY</td></tr>",
                            "<tr><td>4</td><td>2</td><td>Bank Transfer - Account: XXXXXXXX, Routing: YYYYYYYY</td></tr>",
                            "<tr><td>5</td><td>4</td><td>Cash on Delivery</td></tr>",
                            "</table>"
                        ]
                    }
                },
                {
                    "output_type": "execute_result",
                    "metadata": {},
                    "execution_count": 51,
                    "data": {
                        "application/vnd.dataresource+json": {
                            "schema": {
                                "fields": [
                                    {
                                        "name": "DriverID"
                                    },
                                    {
                                        "name": "UserID"
                                    },
                                    {
                                        "name": "VehicleID"
                                    },
                                    {
                                        "name": "LicenseInfo"
                                    }
                                ]
                            },
                            "data": [
                                {
                                    "DriverID": "1",
                                    "UserID": "2",
                                    "VehicleID": "2",
                                    "LicenseInfo": "DL123456"
                                },
                                {
                                    "DriverID": "2",
                                    "UserID": "4",
                                    "VehicleID": "1",
                                    "LicenseInfo": "DL789012"
                                },
                                {
                                    "DriverID": "3",
                                    "UserID": "5",
                                    "VehicleID": "4",
                                    "LicenseInfo": "DL345678"
                                },
                                {
                                    "DriverID": "4",
                                    "UserID": "3",
                                    "VehicleID": "3",
                                    "LicenseInfo": "DL901234"
                                },
                                {
                                    "DriverID": "5",
                                    "UserID": "1",
                                    "VehicleID": "5",
                                    "LicenseInfo": "DL567890"
                                }
                            ]
                        },
                        "text/html": [
                            "<table>",
                            "<tr><th>DriverID</th><th>UserID</th><th>VehicleID</th><th>LicenseInfo</th></tr>",
                            "<tr><td>1</td><td>2</td><td>2</td><td>DL123456</td></tr>",
                            "<tr><td>2</td><td>4</td><td>1</td><td>DL789012</td></tr>",
                            "<tr><td>3</td><td>5</td><td>4</td><td>DL345678</td></tr>",
                            "<tr><td>4</td><td>3</td><td>3</td><td>DL901234</td></tr>",
                            "<tr><td>5</td><td>1</td><td>5</td><td>DL567890</td></tr>",
                            "</table>"
                        ]
                    }
                },
                {
                    "output_type": "execute_result",
                    "metadata": {},
                    "execution_count": 51,
                    "data": {
                        "application/vnd.dataresource+json": {
                            "schema": {
                                "fields": [
                                    {
                                        "name": "FeedbackID"
                                    },
                                    {
                                        "name": "CustomerID"
                                    },
                                    {
                                        "name": "DriverID"
                                    },
                                    {
                                        "name": "Message"
                                    }
                                ]
                            },
                            "data": [
                                {
                                    "FeedbackID": "1",
                                    "CustomerID": "1",
                                    "DriverID": "2",
                                    "Message": "Excellent service!"
                                },
                                {
                                    "FeedbackID": "2",
                                    "CustomerID": "3",
                                    "DriverID": "4",
                                    "Message": "Driver was punctual."
                                },
                                {
                                    "FeedbackID": "3",
                                    "CustomerID": "5",
                                    "DriverID": "1",
                                    "Message": "Vehicle was clean and well-maintained."
                                },
                                {
                                    "FeedbackID": "4",
                                    "CustomerID": "2",
                                    "DriverID": "3",
                                    "Message": "Smooth and safe driving."
                                },
                                {
                                    "FeedbackID": "5",
                                    "CustomerID": "4",
                                    "DriverID": "5",
                                    "Message": "Driver was courteous."
                                }
                            ]
                        },
                        "text/html": [
                            "<table>",
                            "<tr><th>FeedbackID</th><th>CustomerID</th><th>DriverID</th><th>Message</th></tr>",
                            "<tr><td>1</td><td>1</td><td>2</td><td>Excellent service!</td></tr>",
                            "<tr><td>2</td><td>3</td><td>4</td><td>Driver was punctual.</td></tr>",
                            "<tr><td>3</td><td>5</td><td>1</td><td>Vehicle was clean and well-maintained.</td></tr>",
                            "<tr><td>4</td><td>2</td><td>3</td><td>Smooth and safe driving.</td></tr>",
                            "<tr><td>5</td><td>4</td><td>5</td><td>Driver was courteous.</td></tr>",
                            "</table>"
                        ]
                    }
                },
                {
                    "output_type": "execute_result",
                    "metadata": {},
                    "execution_count": 51,
                    "data": {
                        "application/vnd.dataresource+json": {
                            "schema": {
                                "fields": [
                                    {
                                        "name": "EstimationId"
                                    },
                                    {
                                        "name": "VehicleID"
                                    },
                                    {
                                        "name": "CurrentTime"
                                    },
                                    {
                                        "name": "Cost"
                                    }
                                ]
                            },
                            "data": [
                                {
                                    "EstimationId": "1",
                                    "VehicleID": "2",
                                    "CurrentTime": "2023-11-24 08:00:00.000",
                                    "Cost": "35.50"
                                },
                                {
                                    "EstimationId": "2",
                                    "VehicleID": "4",
                                    "CurrentTime": "2023-11-25 14:30:00.000",
                                    "Cost": "20.75"
                                },
                                {
                                    "EstimationId": "3",
                                    "VehicleID": "1",
                                    "CurrentTime": "2023-11-26 10:45:00.000",
                                    "Cost": "45.20"
                                },
                                {
                                    "EstimationId": "4",
                                    "VehicleID": "3",
                                    "CurrentTime": "2023-11-27 18:20:00.000",
                                    "Cost": "30.00"
                                },
                                {
                                    "EstimationId": "5",
                                    "VehicleID": "5",
                                    "CurrentTime": "2023-11-28 22:15:00.000",
                                    "Cost": "55.80"
                                }
                            ]
                        },
                        "text/html": [
                            "<table>",
                            "<tr><th>EstimationId</th><th>VehicleID</th><th>CurrentTime</th><th>Cost</th></tr>",
                            "<tr><td>1</td><td>2</td><td>2023-11-24 08:00:00.000</td><td>35.50</td></tr>",
                            "<tr><td>2</td><td>4</td><td>2023-11-25 14:30:00.000</td><td>20.75</td></tr>",
                            "<tr><td>3</td><td>1</td><td>2023-11-26 10:45:00.000</td><td>45.20</td></tr>",
                            "<tr><td>4</td><td>3</td><td>2023-11-27 18:20:00.000</td><td>30.00</td></tr>",
                            "<tr><td>5</td><td>5</td><td>2023-11-28 22:15:00.000</td><td>55.80</td></tr>",
                            "</table>"
                        ]
                    }
                },
                {
                    "output_type": "execute_result",
                    "metadata": {},
                    "execution_count": 51,
                    "data": {
                        "application/vnd.dataresource+json": {
                            "schema": {
                                "fields": [
                                    {
                                        "name": "RequestId"
                                    },
                                    {
                                        "name": "EstimationID"
                                    },
                                    {
                                        "name": "VehicleID"
                                    },
                                    {
                                        "name": "RequestType"
                                    },
                                    {
                                        "name": "ReqDateTime"
                                    },
                                    {
                                        "name": "PickUpLocationLatitude"
                                    },
                                    {
                                        "name": "PickUpLocationLongitude"
                                    },
                                    {
                                        "name": "DestinationLocationLatitude"
                                    },
                                    {
                                        "name": "DestinationLocationLongitude"
                                    },
                                    {
                                        "name": "TripType"
                                    },
                                    {
                                        "name": "TripCompletionFlag"
                                    },
                                    {
                                        "name": "PickUpLocation"
                                    },
                                    {
                                        "name": "DestinationLocation"
                                    }
                                ]
                            },
                            "data": [
                                {
                                    "RequestId": "1",
                                    "EstimationID": "1",
                                    "VehicleID": "2",
                                    "RequestType": "City Cab",
                                    "ReqDateTime": "2023-11-24 09:00:00.000",
                                    "PickUpLocationLatitude": "40.712800",
                                    "PickUpLocationLongitude": "-74.006000",
                                    "DestinationLocationLatitude": "40.741400",
                                    "DestinationLocationLongitude": "-73.990600",
                                    "TripType": "City Cab",
                                    "TripCompletionFlag": "1",
                                    "PickUpLocation": "123 Main St",
                                    "DestinationLocation": "456 Broadway"
                                },
                                {
                                    "RequestId": "2",
                                    "EstimationID": "2",
                                    "VehicleID": "4",
                                    "RequestType": "Out Station Cab",
                                    "ReqDateTime": "2023-11-25 15:00:00.000",
                                    "PickUpLocationLatitude": "34.052200",
                                    "PickUpLocationLongitude": "-118.243700",
                                    "DestinationLocationLatitude": "37.774900",
                                    "DestinationLocationLongitude": "-122.419400",
                                    "TripType": "Out Station Cab",
                                    "TripCompletionFlag": "0",
                                    "PickUpLocation": "789 Oak St",
                                    "DestinationLocation": "101 Pine St"
                                },
                                {
                                    "RequestId": "3",
                                    "EstimationID": "3",
                                    "VehicleID": "1",
                                    "RequestType": "City Cab",
                                    "ReqDateTime": "2023-11-26 11:00:00.000",
                                    "PickUpLocationLatitude": "41.878100",
                                    "PickUpLocationLongitude": "-87.629800",
                                    "DestinationLocationLatitude": "39.952600",
                                    "DestinationLocationLongitude": "-75.165200",
                                    "TripType": "City Cab",
                                    "TripCompletionFlag": "1",
                                    "PickUpLocation": "567 Elm St",
                                    "DestinationLocation": "202 Walnut St"
                                },
                                {
                                    "RequestId": "4",
                                    "EstimationID": "4",
                                    "VehicleID": "3",
                                    "RequestType": "Out Station Cab",
                                    "ReqDateTime": "2023-11-27 19:00:00.000",
                                    "PickUpLocationLatitude": "29.760400",
                                    "PickUpLocationLongitude": "-95.369800",
                                    "DestinationLocationLatitude": "32.776700",
                                    "DestinationLocationLongitude": "-96.797000",
                                    "TripType": "Out Station Cab",
                                    "TripCompletionFlag": "0",
                                    "PickUpLocation": "890 Maple St",
                                    "DestinationLocation": "303 Oak St"
                                },
                                {
                                    "RequestId": "5",
                                    "EstimationID": "5",
                                    "VehicleID": "5",
                                    "RequestType": "City Cab",
                                    "ReqDateTime": "2023-11-28 23:00:00.000",
                                    "PickUpLocationLatitude": "34.052200",
                                    "PickUpLocationLongitude": "-118.243700",
                                    "DestinationLocationLatitude": "34.052200",
                                    "DestinationLocationLongitude": "-118.243700",
                                    "TripType": "City Cab",
                                    "TripCompletionFlag": "1",
                                    "PickUpLocation": "111 Pine St",
                                    "DestinationLocation": "999 Maple St"
                                }
                            ]
                        },
                        "text/html": [
                            "<table>",
                            "<tr><th>RequestId</th><th>EstimationID</th><th>VehicleID</th><th>RequestType</th><th>ReqDateTime</th><th>PickUpLocationLatitude</th><th>PickUpLocationLongitude</th><th>DestinationLocationLatitude</th><th>DestinationLocationLongitude</th><th>TripType</th><th>TripCompletionFlag</th><th>PickUpLocation</th><th>DestinationLocation</th></tr>",
                            "<tr><td>1</td><td>1</td><td>2</td><td>City Cab</td><td>2023-11-24 09:00:00.000</td><td>40.712800</td><td>-74.006000</td><td>40.741400</td><td>-73.990600</td><td>City Cab</td><td>1</td><td>123 Main St</td><td>456 Broadway</td></tr>",
                            "<tr><td>2</td><td>2</td><td>4</td><td>Out Station Cab</td><td>2023-11-25 15:00:00.000</td><td>34.052200</td><td>-118.243700</td><td>37.774900</td><td>-122.419400</td><td>Out Station Cab</td><td>0</td><td>789 Oak St</td><td>101 Pine St</td></tr>",
                            "<tr><td>3</td><td>3</td><td>1</td><td>City Cab</td><td>2023-11-26 11:00:00.000</td><td>41.878100</td><td>-87.629800</td><td>39.952600</td><td>-75.165200</td><td>City Cab</td><td>1</td><td>567 Elm St</td><td>202 Walnut St</td></tr>",
                            "<tr><td>4</td><td>4</td><td>3</td><td>Out Station Cab</td><td>2023-11-27 19:00:00.000</td><td>29.760400</td><td>-95.369800</td><td>32.776700</td><td>-96.797000</td><td>Out Station Cab</td><td>0</td><td>890 Maple St</td><td>303 Oak St</td></tr>",
                            "<tr><td>5</td><td>5</td><td>5</td><td>City Cab</td><td>2023-11-28 23:00:00.000</td><td>34.052200</td><td>-118.243700</td><td>34.052200</td><td>-118.243700</td><td>City Cab</td><td>1</td><td>111 Pine St</td><td>999 Maple St</td></tr>",
                            "</table>"
                        ]
                    }
                },
                {
                    "output_type": "execute_result",
                    "metadata": {},
                    "execution_count": 51,
                    "data": {
                        "application/vnd.dataresource+json": {
                            "schema": {
                                "fields": [
                                    {
                                        "name": "SerReqId"
                                    },
                                    {
                                        "name": "VehicleId"
                                    },
                                    {
                                        "name": "ServiceId"
                                    },
                                    {
                                        "name": "ReqDateTime"
                                    },
                                    {
                                        "name": "ServiceDueDate"
                                    },
                                    {
                                        "name": "PreviousServiceDate"
                                    }
                                ]
                            },
                            "data": [
                                {
                                    "SerReqId": "1",
                                    "VehicleId": "2",
                                    "ServiceId": "1",
                                    "ReqDateTime": "2023-11-24 10:00:00.000",
                                    "ServiceDueDate": "2023-12-01",
                                    "PreviousServiceDate": "2023-11-01"
                                },
                                {
                                    "SerReqId": "2",
                                    "VehicleId": "4",
                                    "ServiceId": "3",
                                    "ReqDateTime": "2023-11-25 16:00:00.000",
                                    "ServiceDueDate": "2023-12-05",
                                    "PreviousServiceDate": "2023-11-01"
                                },
                                {
                                    "SerReqId": "3",
                                    "VehicleId": "1",
                                    "ServiceId": "2",
                                    "ReqDateTime": "2023-11-26 12:00:00.000",
                                    "ServiceDueDate": "2023-12-10",
                                    "PreviousServiceDate": "2023-11-01"
                                },
                                {
                                    "SerReqId": "4",
                                    "VehicleId": "3",
                                    "ServiceId": "4",
                                    "ReqDateTime": "2023-11-27 20:00:00.000",
                                    "ServiceDueDate": "2023-12-15",
                                    "PreviousServiceDate": "2023-11-01"
                                },
                                {
                                    "SerReqId": "5",
                                    "VehicleId": "5",
                                    "ServiceId": "5",
                                    "ReqDateTime": "2023-11-29 00:00:00.000",
                                    "ServiceDueDate": "2023-12-20",
                                    "PreviousServiceDate": "2023-11-01"
                                }
                            ]
                        },
                        "text/html": [
                            "<table>",
                            "<tr><th>SerReqId</th><th>VehicleId</th><th>ServiceId</th><th>ReqDateTime</th><th>ServiceDueDate</th><th>PreviousServiceDate</th></tr>",
                            "<tr><td>1</td><td>2</td><td>1</td><td>2023-11-24 10:00:00.000</td><td>2023-12-01</td><td>2023-11-01</td></tr>",
                            "<tr><td>2</td><td>4</td><td>3</td><td>2023-11-25 16:00:00.000</td><td>2023-12-05</td><td>2023-11-01</td></tr>",
                            "<tr><td>3</td><td>1</td><td>2</td><td>2023-11-26 12:00:00.000</td><td>2023-12-10</td><td>2023-11-01</td></tr>",
                            "<tr><td>4</td><td>3</td><td>4</td><td>2023-11-27 20:00:00.000</td><td>2023-12-15</td><td>2023-11-01</td></tr>",
                            "<tr><td>5</td><td>5</td><td>5</td><td>2023-11-29 00:00:00.000</td><td>2023-12-20</td><td>2023-11-01</td></tr>",
                            "</table>"
                        ]
                    }
                },
                {
                    "output_type": "execute_result",
                    "metadata": {},
                    "execution_count": 51,
                    "data": {
                        "application/vnd.dataresource+json": {
                            "schema": {
                                "fields": [
                                    {
                                        "name": "VehicleID"
                                    },
                                    {
                                        "name": "InsuranceId"
                                    },
                                    {
                                        "name": "InsuranceStartDate"
                                    },
                                    {
                                        "name": "InsuranceEndDate"
                                    }
                                ]
                            },
                            "data": [
                                {
                                    "VehicleID": "2",
                                    "InsuranceId": "1",
                                    "InsuranceStartDate": "2023-01-01",
                                    "InsuranceEndDate": "2023-12-31"
                                },
                                {
                                    "VehicleID": "4",
                                    "InsuranceId": "2",
                                    "InsuranceStartDate": "2023-02-01",
                                    "InsuranceEndDate": "2023-11-30"
                                },
                                {
                                    "VehicleID": "1",
                                    "InsuranceId": "3",
                                    "InsuranceStartDate": "2023-03-01",
                                    "InsuranceEndDate": "2023-12-15"
                                },
                                {
                                    "VehicleID": "3",
                                    "InsuranceId": "4",
                                    "InsuranceStartDate": "2023-04-01",
                                    "InsuranceEndDate": "2023-12-20"
                                },
                                {
                                    "VehicleID": "5",
                                    "InsuranceId": "5",
                                    "InsuranceStartDate": "2023-05-01",
                                    "InsuranceEndDate": "2023-12-25"
                                }
                            ]
                        },
                        "text/html": [
                            "<table>",
                            "<tr><th>VehicleID</th><th>InsuranceId</th><th>InsuranceStartDate</th><th>InsuranceEndDate</th></tr>",
                            "<tr><td>2</td><td>1</td><td>2023-01-01</td><td>2023-12-31</td></tr>",
                            "<tr><td>4</td><td>2</td><td>2023-02-01</td><td>2023-11-30</td></tr>",
                            "<tr><td>1</td><td>3</td><td>2023-03-01</td><td>2023-12-15</td></tr>",
                            "<tr><td>3</td><td>4</td><td>2023-04-01</td><td>2023-12-20</td></tr>",
                            "<tr><td>5</td><td>5</td><td>2023-05-01</td><td>2023-12-25</td></tr>",
                            "</table>"
                        ]
                    }
                }
            ],
            "execution_count": 51
        }
    ]
}