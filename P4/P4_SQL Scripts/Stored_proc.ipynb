{
    "metadata": {
        "kernelspec": {
            "name": "SQL",
            "display_name": "SQL",
            "language": "sql"
        },
        "language_info": {
            "name": "sql",
            "version": ""
        }
    },
    "nbformat_minor": 2,
    "nbformat": 4,
    "cells": [
        {
            "cell_type": "code",
            "source": [
                "ALTER PROCEDURE GetDriverStatistics\n",
                "    @DriverId INT\n",
                "AS\n",
                "BEGIN\n",
                "    -- Selecting driver details, total trips, average feedback, and latest trip details\n",
                "    SELECT \n",
                "        D.DriverID,\n",
                "        U.UserFName + ' ' + U.UserLName AS DriverName,\n",
                "        COUNT(RR.RequestId) AS TotalTrips,\n",
                "        AVG(F.Rating) AS AverageFeedbackRating, --Commenting out currently. Maybe add a rating column in feedback\n",
                "        MAX(RR.ReqDateTime) AS LatestTripDateTime,\n",
                "        MAX(RR.DestinationLocation) AS LatestTripDestination\n",
                "    FROM Driver D\n",
                "        -- Joining with the User table to get driver's name\n",
                "        JOIN [User] U ON D.UserID = U.UserID\n",
                "        -- Left joining with RideRequest to include drivers with no trips\n",
                "        LEFT JOIN RideRequest RR ON D.DriverID = RR.VehicleID\n",
                "        -- Left joining with Feedback to include drivers with no feedback\n",
                "        LEFT JOIN Feedback F ON D.DriverID = F.DriverID\n",
                "    WHERE D.DriverID = @DriverId\n",
                "    -- Grouping results by driver for aggregate functions\n",
                "    GROUP BY D.DriverID, U.UserFName, U.UserLName;\n",
                "END;\n",
                "\n",
                "\n",
                ""
            ],
            "metadata": {
                "azdata_cell_guid": "c85c35d2-cc47-4dc8-a1ba-9906f379ad9a",
                "language": "sql"
            },
            "outputs": [
                {
                    "output_type": "display_data",
                    "data": {
                        "text/html": "Commands completed successfully."
                    },
                    "metadata": {}
                },
                {
                    "output_type": "display_data",
                    "data": {
                        "text/html": "Total execution time: 00:00:00.007"
                    },
                    "metadata": {}
                }
            ],
            "execution_count": 3
        },
        {
            "cell_type": "code",
            "source": [
                "EXEC GetDriverStatistics 1"
            ],
            "metadata": {
                "azdata_cell_guid": "c4b271c6-f280-428e-a160-4199d4958bef",
                "language": "sql"
            },
            "outputs": [
                {
                    "output_type": "display_data",
                    "data": {
                        "text/html": "(1 row affected)"
                    },
                    "metadata": {}
                },
                {
                    "output_type": "display_data",
                    "data": {
                        "text/html": "Total execution time: 00:00:00.005"
                    },
                    "metadata": {}
                },
                {
                    "output_type": "execute_result",
                    "execution_count": 4,
                    "data": {
                        "application/vnd.dataresource+json": {
                            "schema": {
                                "fields": [
                                    {
                                        "name": "DriverID"
                                    },
                                    {
                                        "name": "DriverName"
                                    },
                                    {
                                        "name": "TotalTrips"
                                    },
                                    {
                                        "name": "AverageFeedbackRating"
                                    },
                                    {
                                        "name": "LatestTripDateTime"
                                    },
                                    {
                                        "name": "LatestTripDestination"
                                    }
                                ]
                            },
                            "data": [
                                {
                                    "DriverID": "1",
                                    "DriverName": "Alice Johnson",
                                    "TotalTrips": "2",
                                    "AverageFeedbackRating": "5",
                                    "LatestTripDateTime": "2023-11-26 11:00:00.000",
                                    "LatestTripDestination": "202 Walnut St"
                                }
                            ]
                        },
                        "text/html": "<table><tr><th>DriverID</th><th>DriverName</th><th>TotalTrips</th><th>AverageFeedbackRating</th><th>LatestTripDateTime</th><th>LatestTripDestination</th></tr><tr><td>1</td><td>Alice Johnson</td><td>2</td><td>5</td><td>2023-11-26 11:00:00.000</td><td>202 Walnut St</td></tr></table>"
                    },
                    "metadata": {}
                }
            ],
            "execution_count": 4
        },
        {
            "cell_type": "code",
            "source": [
                "CREATE PROCEDURE GetUpcomingServiceRequests\n",
                "AS\n",
                "BEGIN\n",
                "    -- Selecting details for upcoming service requests\n",
                "    SELECT \n",
                "        SR.SerReqId,\n",
                "        V.VehicleType,\n",
                "        U.UserFName + ' ' + U.UserLName AS CustomerName,\n",
                "        SR.ReqDateTime AS RequestDateTime,\n",
                "        SR.ServiceDueDate AS DueDate,\n",
                "        SR.PreviousServiceDate AS LastServiceDate\n",
                "    FROM ServiceRequest SR\n",
                "        -- Joining with Vehicle table to get vehicle details\n",
                "        JOIN Vehicle V ON SR.VehicleId = V.VehicleId\n",
                "        -- Joining with User table to get customer details\n",
                "        JOIN [User] U ON V.VehicleId = U.UserID\n",
                "    WHERE SR.ServiceDueDate > GETDATE();  -- Filtering only upcoming service requests\n",
                "END;\n",
                "\n",
                "\n",
                ""
            ],
            "metadata": {
                "azdata_cell_guid": "db582b8e-11ca-4a82-b7fe-78b62878b723",
                "language": "sql"
            },
            "outputs": [
                {
                    "output_type": "display_data",
                    "data": {
                        "text/html": "Commands completed successfully."
                    },
                    "metadata": {}
                },
                {
                    "output_type": "display_data",
                    "data": {
                        "text/html": "Total execution time: 00:00:00.005"
                    },
                    "metadata": {}
                }
            ],
            "execution_count": 5
        },
        {
            "cell_type": "code",
            "source": [
                "EXEC GetUpcomingServiceRequests"
            ],
            "metadata": {
                "azdata_cell_guid": "d7712b48-b1c5-440f-adc5-058741dfb4e0",
                "language": "sql"
            },
            "outputs": [
                {
                    "output_type": "display_data",
                    "data": {
                        "text/html": "(5 rows affected)"
                    },
                    "metadata": {}
                },
                {
                    "output_type": "display_data",
                    "data": {
                        "text/html": "Total execution time: 00:00:00.012"
                    },
                    "metadata": {}
                },
                {
                    "output_type": "execute_result",
                    "execution_count": 6,
                    "data": {
                        "application/vnd.dataresource+json": {
                            "schema": {
                                "fields": [
                                    {
                                        "name": "SerReqId"
                                    },
                                    {
                                        "name": "VehicleType"
                                    },
                                    {
                                        "name": "CustomerName"
                                    },
                                    {
                                        "name": "RequestDateTime"
                                    },
                                    {
                                        "name": "DueDate"
                                    },
                                    {
                                        "name": "LastServiceDate"
                                    }
                                ]
                            },
                            "data": [
                                {
                                    "SerReqId": "1",
                                    "VehicleType": "SUV",
                                    "CustomerName": "Alice Johnson",
                                    "RequestDateTime": "2023-11-24 10:00:00.000",
                                    "DueDate": "2023-12-01",
                                    "LastServiceDate": "2023-11-01"
                                },
                                {
                                    "SerReqId": "2",
                                    "VehicleType": "Compact",
                                    "CustomerName": "Eva Williams",
                                    "RequestDateTime": "2023-11-25 16:00:00.000",
                                    "DueDate": "2023-12-05",
                                    "LastServiceDate": "2023-11-01"
                                },
                                {
                                    "SerReqId": "3",
                                    "VehicleType": "Sedan",
                                    "CustomerName": "John Doe",
                                    "RequestDateTime": "2023-11-26 12:00:00.000",
                                    "DueDate": "2023-12-10",
                                    "LastServiceDate": "2023-11-01"
                                },
                                {
                                    "SerReqId": "4",
                                    "VehicleType": "Truck",
                                    "CustomerName": "Bob Smith",
                                    "RequestDateTime": "2023-11-27 20:00:00.000",
                                    "DueDate": "2023-12-15",
                                    "LastServiceDate": "2023-11-01"
                                },
                                {
                                    "SerReqId": "5",
                                    "VehicleType": "Convertible",
                                    "CustomerName": "Chris Taylor",
                                    "RequestDateTime": "2023-11-29 00:00:00.000",
                                    "DueDate": "2023-12-20",
                                    "LastServiceDate": "2023-11-01"
                                }
                            ]
                        },
                        "text/html": "<table><tr><th>SerReqId</th><th>VehicleType</th><th>CustomerName</th><th>RequestDateTime</th><th>DueDate</th><th>LastServiceDate</th></tr><tr><td>1</td><td>SUV</td><td>Alice Johnson</td><td>2023-11-24 10:00:00.000</td><td>2023-12-01</td><td>2023-11-01</td></tr><tr><td>2</td><td>Compact</td><td>Eva Williams</td><td>2023-11-25 16:00:00.000</td><td>2023-12-05</td><td>2023-11-01</td></tr><tr><td>3</td><td>Sedan</td><td>John Doe</td><td>2023-11-26 12:00:00.000</td><td>2023-12-10</td><td>2023-11-01</td></tr><tr><td>4</td><td>Truck</td><td>Bob Smith</td><td>2023-11-27 20:00:00.000</td><td>2023-12-15</td><td>2023-11-01</td></tr><tr><td>5</td><td>Convertible</td><td>Chris Taylor</td><td>2023-11-29 00:00:00.000</td><td>2023-12-20</td><td>2023-11-01</td></tr></table>"
                    },
                    "metadata": {}
                }
            ],
            "execution_count": 6
        },
        {
            "cell_type": "code",
            "source": [
                "CREATE PROCEDURE spCalculateCustomerLoyaltyDiscount \n",
                "    @CustomerId INT\n",
                "AS\n",
                "BEGIN\n",
                "    DECLARE @NumRides INT\n",
                "    DECLARE @DiscountPercent INT \n",
                "    \n",
                "    SELECT @NumRides = COUNT(*)\n",
                "    FROM RideRequest r\n",
                "    INNER JOIN Customer c ON r.CustomerID = c.CustomerID\n",
                "    WHERE c.CustomerID = @CustomerId\n",
                "        AND r.ReqDateTime BETWEEN DATEADD(YEAR, -1, GETDATE()) AND GETDATE()\n",
                "            \n",
                "    SET @DiscountPercent = \n",
                "        CASE \n",
                "            WHEN @NumRides > 10 THEN 20\n",
                "            WHEN @NumRides BETWEEN 5 AND 10 THEN 10\n",
                "            ELSE 0\n",
                "        END\n",
                "        \n",
                "    SELECT @CustomerId AS CustomerId, @DiscountPercent AS LoyaltyDiscountPercentage  \n",
                "END"
            ],
            "metadata": {
                "azdata_cell_guid": "0c7cb98d-6fc7-4b24-b4b3-db6cd1b3f164",
                "language": "sql"
            },
            "outputs": [
                {
                    "output_type": "display_data",
                    "data": {
                        "text/html": "Commands completed successfully."
                    },
                    "metadata": {}
                },
                {
                    "output_type": "display_data",
                    "data": {
                        "text/html": "Total execution time: 00:00:00.005"
                    },
                    "metadata": {}
                }
            ],
            "execution_count": 7
        },
        {
            "cell_type": "code",
            "source": [
                "EXEC spCalculateCustomerLoyaltyDiscount 1"
            ],
            "metadata": {
                "azdata_cell_guid": "2277f33f-bdb0-4d78-ac3a-a78a4e3933b1",
                "language": "sql"
            },
            "outputs": [
                {
                    "output_type": "display_data",
                    "data": {
                        "text/html": "(1 row affected)"
                    },
                    "metadata": {}
                },
                {
                    "output_type": "display_data",
                    "data": {
                        "text/html": "Total execution time: 00:00:00.011"
                    },
                    "metadata": {}
                },
                {
                    "output_type": "execute_result",
                    "execution_count": 8,
                    "data": {
                        "application/vnd.dataresource+json": {
                            "schema": {
                                "fields": [
                                    {
                                        "name": "CustomerId"
                                    },
                                    {
                                        "name": "LoyaltyDiscountPercentage"
                                    }
                                ]
                            },
                            "data": [
                                {
                                    "CustomerId": "1",
                                    "LoyaltyDiscountPercentage": "0"
                                }
                            ]
                        },
                        "text/html": "<table><tr><th>CustomerId</th><th>LoyaltyDiscountPercentage</th></tr><tr><td>1</td><td>0</td></tr></table>"
                    },
                    "metadata": {}
                }
            ],
            "execution_count": 8
        },
        {
            "cell_type": "code",
            "source": [
                "CREATE CERTIFICATE PaymentCertificate  \n",
                "   WITH SUBJECT = 'Payment Info certificate';  \n",
                "GO  \n",
                "\n",
                "CREATE SYMMETRIC KEY PaymentKey  \n",
                "    WITH ALGORITHM = AES_256  \n",
                "    ENCRYPTION BY CERTIFICATE PaymentCertificate;  \n",
                "GO  "
            ],
            "metadata": {
                "azdata_cell_guid": "585f5dce-59a7-4f30-a3c9-1e037fdcf073",
                "language": "sql"
            },
            "outputs": [
                {
                    "output_type": "display_data",
                    "data": {
                        "text/html": "Commands completed successfully."
                    },
                    "metadata": {}
                },
                {
                    "output_type": "display_data",
                    "data": {
                        "text/html": "Commands completed successfully."
                    },
                    "metadata": {}
                },
                {
                    "output_type": "display_data",
                    "data": {
                        "text/html": "Total execution time: 00:00:00.195"
                    },
                    "metadata": {}
                }
            ],
            "execution_count": 3
        },
        {
            "cell_type": "code",
            "source": [
                "CREATE MASTER KEY ENCRYPTION BY   \n",
                "PASSWORD = 'AmeySatwe23';"
            ],
            "metadata": {
                "language": "sql",
                "azdata_cell_guid": "a6fedde4-7c88-4366-9567-76a5e738f72f"
            },
            "outputs": [
                {
                    "output_type": "display_data",
                    "data": {
                        "text/html": "Commands completed successfully."
                    },
                    "metadata": {}
                },
                {
                    "output_type": "display_data",
                    "data": {
                        "text/html": "Total execution time: 00:00:00.006"
                    },
                    "metadata": {}
                }
            ],
            "execution_count": 1
        },
        {
            "cell_type": "code",
            "source": [
                "OPEN SYMMETRIC KEY PaymentKey  \n",
                "   DECRYPTION BY CERTIFICATE PaymentCertificate;  \n",
                "\n",
                "-- Encrypt the value in column CardNumber using the  \n",
                "-- symmetric key CreditCards_Key11.  \n",
                "-- Save the result in column CardNumber_Encrypted.    \n",
                "\n",
                "-- alter table Customer\n",
                "-- alter column PaymentInfo varbinary(160)\n",
                "\n",
                "UPDATE Customer\n",
                "SET PaymentInfo = ENCRYPTBYKEY('PaymentKey',\"PaymentInfo\")\n",
                "\n",
                "-- Verify the encryption.  \n",
                "-- First, open the symmetric key with which to decrypt the data.  \n",
                "\n",
                "-- OPEN SYMMETRIC KEY PaymentKey  \n",
                "--    DECRYPTION BY CERTIFICATE PaymentCertificate;  \n",
                "-- GO  \n",
                "\n",
                "-- Now list the original card number, the encrypted card number,  \n",
                "-- and the decrypted ciphertext. If the decryption worked,  \n",
                "-- the original number will match the decrypted number.  \n",
                "\n",
                "Select * from Customer\n",
                "-- SELECT Convert(varchar, DecryptByCert(Cert_ID('PaymentInfPaymentCertificateo_Cert'), PaymentInfo)) as PaymentInfo \n",
                "-- FROM Customer;\n",
                "\n",
                ""
            ],
            "metadata": {
                "language": "sql",
                "azdata_cell_guid": "3eee0ec6-8493-4c78-b540-87efa5bfea11"
            },
            "outputs": [
                {
                    "output_type": "error",
                    "evalue": "Msg 8116, Level 16, State 1, Line 11\nArgument data type varchar is invalid for argument 1 of EncryptByKey function.",
                    "ename": "",
                    "traceback": []
                },
                {
                    "output_type": "display_data",
                    "data": {
                        "text/html": "Total execution time: 00:00:00.002"
                    },
                    "metadata": {}
                }
            ],
            "execution_count": 15
        },
        {
            "cell_type": "code",
            "source": [
                ""
            ],
            "metadata": {
                "language": "sql",
                "azdata_cell_guid": "01e1d890-8b67-459d-91fd-c3cfe8250fed"
            },
            "outputs": [
                {
                    "output_type": "error",
                    "evalue": "Msg 2627, Level 14, State 1, Line 1\nViolation of PRIMARY KEY constraint 'PK__Customer__A4AE64B83CFC436A'. Cannot insert duplicate key in object 'dbo.Customer'. The duplicate key value is (1).",
                    "ename": "",
                    "traceback": []
                },
                {
                    "output_type": "display_data",
                    "data": {
                        "text/html": "The statement has been terminated."
                    },
                    "metadata": {}
                },
                {
                    "output_type": "display_data",
                    "data": {
                        "text/html": "Total execution time: 00:00:00.006"
                    },
                    "metadata": {}
                }
            ],
            "execution_count": 9
        }
    ]
}